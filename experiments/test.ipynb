{
 "cells": [
  {
   "cell_type": "code",
   "outputs": [],
   "source": [
    "from config import config"
   ],
   "metadata": {
    "collapsed": false
   },
   "id": "346337a3e8f6aa5"
  },
  {
   "cell_type": "code",
   "outputs": [
    {
     "name": "stdout",
     "output_type": "stream",
     "text": [
      "api_type: azure\n",
      "api_key: \n",
      "embed_api_key: \n",
      "api_endpoint: \n",
      "gpt4_deployment_name: #Only needed for Azure\n",
      "embedding_model: text-embedding-ada-002\n",
      "chunk_size: 2048\n",
      "overlap_size: 0\n",
      "max_content: 3\n",
      "prompt_size: 7000\n",
      "add_title: True\n",
      "db_user: postgres\n",
      "db_pass: postgres\n",
      "db_host: localhost\n",
      "db_port: 5432\n",
      "db_name: ai4esg\n"
     ]
    }
   ],
   "source": [
    "for key, value in config.__dict__.items():\n",
    "    print(f'{key}: {value}')"
   ],
   "metadata": {
    "collapsed": false,
    "ExecuteTime": {
     "end_time": "2024-01-26T10:06:46.642340700Z",
     "start_time": "2024-01-26T10:06:46.630829700Z"
    }
   },
   "id": "d99178fc6d87956e",
   "execution_count": 10
  },
  {
   "cell_type": "code",
   "outputs": [
    {
     "name": "stdout",
     "output_type": "stream",
     "text": [
      "policy_doc length: 10274\n",
      "\n",
      "Live Nation Entertainment Privacy Policy - Your Privacy Rights Effective July 20, 2012 (last updated October 08, 2013)\n",
      "This Privacy Policy applies to the sites and apps where it appears. This Policy describes how we treat personal information we collect both online and offline. This includes on our websites or in our apps. It also includes at our box offices or in phone or email interactions you have with us. If you live in Canada, please read our Canadian Privacy Policy.\n",
      "We collect information from and about you. Contact information. For example, we might collect your name and street address. We might also collect your phone number or email.\n",
      "Payment and billing information. For example, we collect your credit card number and zip code when you buy a ticket.\n",
      "Information you post. For example, we collect information you post in a public space on our website or on a third-party social media site.\n",
      "Demographic information. We may collect information about events you like or products you buy. We might collect this as part of a survey, for example.\n",
      "Other information. If you use our website, we may collect information about the browser you're using. We might look at what site you came from, or what site you visit when you leave us. If you use our mobile app, we may collect your GPS location or your device's unique identifier. We might also collect the type of mobile device you are using, or the version of the operating system your computer or device is running. We might look at how often you use the app and where you downloaded it.\n",
      "We collect information in different ways. We collect information directly from you. For example, if you register for a promotion or buy tickets. We also collect information if you post a comment on our websites or ask us a question.\n",
      "We collect information from you passively. We use tracking tools like browser cookies and web beacons. To learn more about these tools and to control them, please click here.\n",
      "We get information about you from third parties. For example, if you use an integrated social media feature on our websites or mobile applications. The third-party social media site will give us certain information about you. This could include your name and email address. Your activities on our sites and apps may be posted to the social media platforms.\n",
      "We use information as disclosed and described here. We use information to respond to your requests or questions. For example, we might use your information to confirm your registration for an event or contest. If you give us your friend's information, we will only use it to provide services you requested.\n",
      "We use information to improve our products and services. We might use your information to customize your experience with us. This could include displaying content based upon your preferences.\n",
      "We use information to look at site trends and customer interests. We may use your information to make our website and products better. We may combine information we get from you with information about you we get from third parties.\n",
      "We use information for security purposes. We may use information to protect our company, our customers, or our websites.\n",
      "We use information for marketing purposes. For example, we might send you information about special promotions or offers. We might also tell you about new features or products. These might be our own offers or products, or third-party offers or products we think you might find interesting. Or, for example, if you buy tickets from us we'll enroll you in our newsletter. We may use push notifications and your location information on our mobile apps to send you alerts regarding local events. To learn about your choices for these communications, read the choices section below.\n",
      "We use information to send you transactional communications. For example, we might send you emails about your account or a ticket purchase. We might also contact you about this policy or our website terms.\n",
      "We use information as otherwise permitted by law.\n",
      "We may share information with third parties. We will share information within the Live Nation family of companies. This may include Ticketmaster and Live Nation-owned or operated venues, for example.\n",
      "We will share information with third parties who perform services on our behalf. For example, we share information with vendors who help us manage our online registration process or who fulfill your purchases. Some vendors may be located outside of the United States.\n",
      "We will share information with our business partners. This includes a third party who provides or sponsors an event, or who operates a venue where we hold events. Our partners use the information we give them as described in their privacy policies. You should read those polices to learn how they treat your information.\n",
      "We may share information if we think we have to in order to comply with the law or to protect ourselves. For example, we will share information to respond to a court order or subpoena. We may also share it if a government agency or investigatory body requests. Or, we might also share information when we are investigating potential fraud. This might include fraud we think has happened during a sweepstakes or promotion.\n",
      "We may share information with any successor to all or part of our business. For example, if part of our business is sold we may give our customer list as part of that transaction.\n",
      "We may share your information for reasons not described in this policy. We will tell you before we do this.\n",
      "You have certain choices about how we use your information. You can opt out of receiving our marketing emails. To stop receiving our promotional emails, click here or follow the instructions in any promotional message you get from us. Your device settings should provide you with instructions on how to turn off push notifications. It may take about ten days to process your request. Don't worry! Even if you opt out of getting marketing messages, we will still be sure to send you transactional messages. For example, we may still contact you about your orders.\n",
      "You can modify information you have given us. To correct or delete information or update account settings, log into your account and follow the instructions. We make changes as soon as we can. This information may stay in our backup files. If we cannot make the changes you want, we will let you know and explain why. If you contact us requesting access to your information, we will respond within 30 days.\n",
      "You can control cookies and tracking tools. To learn how to manage how we - and our vendors - use cookies and other tracking tools, please click here.\n",
      "You can control tools on your mobile devices. For example, you can turn off the GPS locator or push notifications on your phone. Each push notification has an \"unsubscribe\" link.\n",
      "Your California Privacy Rights. If you live in California and have an established business relationship with us, you can request a list of the personal information we have shared with third parties for their marketing purposes. We will also give you a list of the third parties that have received your information. You can make a request one time each year.\n",
      "To exercise your rights, you can email us or write to us at the address below. Mention in your letter that you are making a \"California Shine the Light\" inquiry. We will respond within 30 days.\n",
      "These sites and apps are not intended for children. Our sites and apps are meant for adults. We do not knowingly collect personally identifiable information from children under 13. If you are a parent or legal guardian and think your child under 13 has given us information, you can email us here. You can also write to us at the address listed at the end of this policy. Please mark your inquiries \"COPPA Information Request.\"\n",
      "Learn more about COPPA here.\n",
      "We use standard security measures. We have security measures in place to protect your information. The standard security measures we use will depend on the type of information collected. However, the Internet is not 100% secure. We cannot promise that your use of our sites will be completely safe. We encourage you to use caution when using the Internet. This includes not sharing your passwords. If you think that an unauthorized account has been created using your name, contact us at the address below.\n",
      "We are TRUSTe certified.\n",
      "TRUSTe has awarded Live Nation the TRUSTe's Privacy Seal. This means TRUSTe independently reviewed this Policy and the practices on Live Nation and Ticketmaster sites and apps to make sure they meet TRUSTE's requirements. The seal applies to our practices for information collected on U.S., UK, Ireland sites and apps.\n",
      "We keep personal information as long as it is necessary or relevant for our business. We also keep information to resolve disputes, enforce our agreements and as otherwise required by law.\n",
      "We store information both in and outside of the United States. If you live outside of the United States, you understand and agree that we may transfer your information to the United States. This site is subject to U.S. laws, which may not afford the same level of protection of those in your country.\n",
      "Live Nation complies with the U.S.-EU Safe Harbor Framework as set forth by the U.S. Department of Commerce regarding the collection, use and retention of personal information from European Union member countries. Live Nation has certified that it adheres to the Safe Harbor Privacy Principles of notice, choice, onward transfer, security, data integrity, access, and enforcement. To learn more about the Safe Harbor program, and to view Live Nation's certification, please visit http://www.export.gov/safeharbor.\n",
      "We may link to third party sites or services we don't control. If you click on one of those links, you will be taken to websites we do not control. This policy does not apply to the privacy practices of those websites. Read the privacy policy of other websites carefully. We are not responsible for these third party sites.\n",
      "What we will do if there is an update to this policy. From time to time we may change our privacy practices. We will notify you of any material changes to this policy as required by law. We will also post an updated copy on our website. Please check our site periodically for updates.\n"
     ]
    }
   ],
   "source": [
    "import modules.document.utils.policyqa_parser as policyqa_parser\n",
    "\n",
    "policy_doc = policyqa_parser.parse_policy_text_by_title(\"ticketmaster.com\", \"../data/dev.json\")\n",
    "print(f'policy_doc length: {len(policy_doc.text)}')\n",
    "print(policy_doc.text)"
   ],
   "metadata": {
    "collapsed": true,
    "ExecuteTime": {
     "end_time": "2024-01-26T10:04:28.167399700Z",
     "start_time": "2024-01-26T10:04:27.653222800Z"
    }
   },
   "id": "initial_id",
   "execution_count": 1
  },
  {
   "cell_type": "code",
   "outputs": [
    {
     "data": {
      "text/plain": "'We collect information from and about you. Contact information. For example, we might collect your name and street address. We might also collect your phone number or email.\\nPayment and billing information. For example, we collect your credit card number and zip code when you buy a ticket.\\nInformation you post. For example, we collect information you post in a public space on our website or on a third-party social media site.'"
     },
     "execution_count": 2,
     "metadata": {},
     "output_type": "execute_result"
    }
   ],
   "source": [
    "policy_doc.text[478: 478 + 429]"
   ],
   "metadata": {
    "collapsed": false,
    "ExecuteTime": {
     "end_time": "2024-01-26T10:04:31.079825300Z",
     "start_time": "2024-01-26T10:04:31.065980900Z"
    }
   },
   "id": "e8d573f8b5bc5f89",
   "execution_count": 2
  },
  {
   "cell_type": "code",
   "outputs": [
    {
     "data": {
      "text/plain": "True"
     },
     "execution_count": 3,
     "metadata": {},
     "output_type": "execute_result"
    }
   ],
   "source": [
    "from config import config\n",
    "\n",
    "config.add_title"
   ],
   "metadata": {
    "collapsed": false,
    "ExecuteTime": {
     "end_time": "2024-01-26T10:04:33.304155Z",
     "start_time": "2024-01-26T10:04:33.283228400Z"
    }
   },
   "id": "39141e54e604387",
   "execution_count": 3
  },
  {
   "cell_type": "code",
   "outputs": [],
   "source": [
    "from modules.embedding.utils import text_to_chunks\n",
    "\n",
    "chunks = text_to_chunks(policy_doc.text)"
   ],
   "metadata": {
    "collapsed": false,
    "ExecuteTime": {
     "end_time": "2024-01-26T10:04:37.124799600Z",
     "start_time": "2024-01-26T10:04:34.581771600Z"
    }
   },
   "id": "9e944602823610d3",
   "execution_count": 4
  },
  {
   "cell_type": "code",
   "outputs": [
    {
     "name": "stdout",
     "output_type": "stream",
     "text": [
      "Live Nation Entertainment Privacy Policy - Your Privacy Rights Effective July 20, 2012 (last updated October 08, 2013)\n",
      "This Privacy Policy applies to the sites and apps where it appears. This Policy describes how we treat personal information we collect both online and offline. This includes on our websites or in our apps. It also includes at our box offices or in phone or email interactions you have with us. If you live in Canada, please read our Canadian Privacy Policy.\n",
      "We collect information from and about you. Contact information. For example, we might collect your name and street address. We might also collect your phone number or email.\n",
      "Payment and billing information. For example, we collect your credit card number and zip code when you buy a ticket.\n",
      "Information you post. For example, we collect information you post in a public space on our website or on a third-party social media site.\n",
      "Demographic information. We may collect information about events you like or products you buy. We might collect this as part of a survey, for example.\n",
      "Other information. If you use our website, we may collect information about the browser you're using. We might look at what site you came from, or what site you visit when you leave us. If you use our mobile app, we may collect your GPS location or your device's unique identifier. We might also collect the type of mobile device you are using, or the version of the operating system your computer or device is running. We might look at how often you use the app and where you downloaded it.\n",
      "We collect information in different ways. We collect information directly from you. For example, if you register for a promotion or buy tickets. We also collect information if you post a comment on our websites or ask us a question.\n",
      "We collect information from you passively. We use tracking tools like browser cookies and web beacons. To learn more about these tools and to control them, please click here.\n",
      "\n",
      "\n",
      "\n",
      "We get information about you from third parties. For example, if you use an integrated social media feature on our websites or mobile applications. The third-party social media site will give us certain information about you. This could include your name and email address. Your activities on our sites and apps may be posted to the social media platforms.\n",
      "We use information as disclosed and described here. We use information to respond to your requests or questions. For example, we might use your information to confirm your registration for an event or contest. If you give us your friend's information, we will only use it to provide services you requested.\n",
      "We use information to improve our products and services. We might use your information to customize your experience with us. This could include displaying content based upon your preferences.\n",
      "We use information to look at site trends and customer interests. We may use your information to make our website and products better. We may combine information we get from you with information about you we get from third parties.\n",
      "We use information for security purposes. We may use information to protect our company, our customers, or our websites.\n",
      "We use information for marketing purposes. For example, we might send you information about special promotions or offers. We might also tell you about new features or products. These might be our own offers or products, or third-party offers or products we think you might find interesting. Or, for example, if you buy tickets from us we'll enroll you in our newsletter. We may use push notifications and your location information on our mobile apps to send you alerts regarding local events. To learn about your choices for these communications, read the choices section below.\n",
      "We use information to send you transactional communications. For example, we might send you emails about your account or a ticket purchase. We might also contact you about this policy or our website terms.\n",
      "We use information as otherwise permitted by law.\n",
      "\n",
      "\n",
      "\n",
      "We may share information with third parties. We will share information within the Live Nation family of companies. This may include Ticketmaster and Live Nation-owned or operated venues, for example.\n",
      "We will share information with third parties who perform services on our behalf. For example, we share information with vendors who help us manage our online registration process or who fulfill your purchases. Some vendors may be located outside of the United States.\n",
      "We will share information with our business partners. This includes a third party who provides or sponsors an event, or who operates a venue where we hold events. Our partners use the information we give them as described in their privacy policies. You should read those polices to learn how they treat your information.\n",
      "We may share information if we think we have to in order to comply with the law or to protect ourselves. For example, we will share information to respond to a court order or subpoena. We may also share it if a government agency or investigatory body requests. Or, we might also share information when we are investigating potential fraud. This might include fraud we think has happened during a sweepstakes or promotion.\n",
      "We may share information with any successor to all or part of our business. For example, if part of our business is sold we may give our customer list as part of that transaction.\n",
      "We may share your information for reasons not described in this policy. We will tell you before we do this.\n",
      "\n",
      "\n",
      "\n",
      "You have certain choices about how we use your information. You can opt out of receiving our marketing emails. To stop receiving our promotional emails, click here or follow the instructions in any promotional message you get from us. Your device settings should provide you with instructions on how to turn off push notifications. It may take about ten days to process your request. Don't worry! Even if you opt out of getting marketing messages, we will still be sure to send you transactional messages. For example, we may still contact you about your orders.\n",
      "You can modify information you have given us. To correct or delete information or update account settings, log into your account and follow the instructions. We make changes as soon as we can. This information may stay in our backup files. If we cannot make the changes you want, we will let you know and explain why. If you contact us requesting access to your information, we will respond within 30 days.\n",
      "You can control cookies and tracking tools. To learn how to manage how we - and our vendors - use cookies and other tracking tools, please click here.\n",
      "You can control tools on your mobile devices. For example, you can turn off the GPS locator or push notifications on your phone. Each push notification has an \"unsubscribe\" link.\n",
      "Your California Privacy Rights. If you live in California and have an established business relationship with us, you can request a list of the personal information we have shared with third parties for their marketing purposes. We will also give you a list of the third parties that have received your information. You can make a request one time each year.\n",
      "To exercise your rights, you can email us or write to us at the address below. Mention in your letter that you are making a \"California Shine the Light\" inquiry. We will respond within 30 days.\n",
      "\n",
      "\n",
      "\n",
      "These sites and apps are not intended for children. Our sites and apps are meant for adults. We do not knowingly collect personally identifiable information from children under 13. If you are a parent or legal guardian and think your child under 13 has given us information, you can email us here. You can also write to us at the address listed at the end of this policy. Please mark your inquiries \"COPPA Information Request.\"\n",
      "Learn more about COPPA here.\n",
      "We use standard security measures. We have security measures in place to protect your information. The standard security measures we use will depend on the type of information collected. However, the Internet is not 100% secure. We cannot promise that your use of our sites will be completely safe. We encourage you to use caution when using the Internet. This includes not sharing your passwords. If you think that an unauthorized account has been created using your name, contact us at the address below.\n",
      "We are TRUSTe certified.\n",
      "TRUSTe has awarded Live Nation the TRUSTe's Privacy Seal. This means TRUSTe independently reviewed this Policy and the practices on Live Nation and Ticketmaster sites and apps to make sure they meet TRUSTE's requirements. The seal applies to our practices for information collected on U.S., UK, Ireland sites and apps.\n",
      "We keep personal information as long as it is necessary or relevant for our business. We also keep information to resolve disputes, enforce our agreements and as otherwise required by law.\n",
      "We store information both in and outside of the United States. If you live outside of the United States, you understand and agree that we may transfer your information to the United States. This site is subject to U.S. laws, which may not afford the same level of protection of those in your country.\n",
      "\n",
      "\n",
      "\n",
      "Live Nation complies with the U.S.-EU Safe Harbor Framework as set forth by the U.S. Department of Commerce regarding the collection, use and retention of personal information from European Union member countries. Live Nation has certified that it adheres to the Safe Harbor Privacy Principles of notice, choice, onward transfer, security, data integrity, access, and enforcement. To learn more about the Safe Harbor program, and to view Live Nation's certification, please visit http://www.export.gov/safeharbor.\n",
      "We may link to third party sites or services we don't control. If you click on one of those links, you will be taken to websites we do not control. This policy does not apply to the privacy practices of those websites. Read the privacy policy of other websites carefully. We are not responsible for these third party sites.\n",
      "What we will do if there is an update to this policy. From time to time we may change our privacy practices. We will notify you of any material changes to this policy as required by law. We will also post an updated copy on our website. Please check our site periodically for updates.\n"
     ]
    }
   ],
   "source": [
    "for chunk in chunks:\n",
    "    print(chunk.text)\n",
    "    print(\"\\n\\n\")"
   ],
   "metadata": {
    "collapsed": false,
    "ExecuteTime": {
     "end_time": "2024-01-26T10:05:13.141011300Z",
     "start_time": "2024-01-26T10:05:13.129502200Z"
    }
   },
   "id": "136fd56b965135f9",
   "execution_count": 7
  },
  {
   "cell_type": "code",
   "outputs": [
    {
     "name": "stdout",
     "output_type": "stream",
     "text": [
      "Wed Jan 24 19:19:36 2024       \n",
      "+---------------------------------------------------------------------------------------+\n",
      "| NVIDIA-SMI 546.12                 Driver Version: 546.12       CUDA Version: 12.3     |\n",
      "|-----------------------------------------+----------------------+----------------------+\n",
      "| GPU  Name                     TCC/WDDM  | Bus-Id        Disp.A | Volatile Uncorr. ECC |\n",
      "| Fan  Temp   Perf          Pwr:Usage/Cap |         Memory-Usage | GPU-Util  Compute M. |\n",
      "|                                         |                      |               MIG M. |\n",
      "|=========================================+======================+======================|\n",
      "|   0  NVIDIA RTX A3000 12GB La...  WDDM  | 00000000:01:00.0  On |                  Off |\n",
      "| N/A   55C    P3              18W /  55W |    689MiB / 12288MiB |     89%      Default |\n",
      "|                                         |                      |                  N/A |\n",
      "+-----------------------------------------+----------------------+----------------------+\n",
      "                                                                                         \n",
      "+---------------------------------------------------------------------------------------+\n",
      "| Processes:                                                                            |\n",
      "|  GPU   GI   CI        PID   Type   Process name                            GPU Memory |\n",
      "|        ID   ID                                                             Usage      |\n",
      "|=======================================================================================|\n",
      "+---------------------------------------------------------------------------------------+\n"
     ]
    }
   ],
   "source": [
    "!nvidia-smi"
   ],
   "metadata": {
    "collapsed": false,
    "ExecuteTime": {
     "end_time": "2024-01-24T18:19:36.974275800Z",
     "start_time": "2024-01-24T18:19:36.770053300Z"
    }
   },
   "id": "fcec1fa660e0aa84",
   "execution_count": 1
  },
  {
   "cell_type": "code",
   "outputs": [
    {
     "ename": "AssertionError",
     "evalue": "Torch not compiled with CUDA enabled",
     "output_type": "error",
     "traceback": [
      "\u001B[1;31m---------------------------------------------------------------------------\u001B[0m",
      "\u001B[1;31mAssertionError\u001B[0m                            Traceback (most recent call last)",
      "Cell \u001B[1;32mIn[4], line 3\u001B[0m\n\u001B[0;32m      1\u001B[0m \u001B[38;5;28;01mimport\u001B[39;00m \u001B[38;5;21;01mtorch\u001B[39;00m\n\u001B[1;32m----> 3\u001B[0m \u001B[43mtorch\u001B[49m\u001B[38;5;241;43m.\u001B[39;49m\u001B[43mcuda\u001B[49m\u001B[38;5;241;43m.\u001B[39;49m\u001B[43mget_device_properties\u001B[49m\u001B[43m(\u001B[49m\u001B[38;5;241;43m0\u001B[39;49m\u001B[43m)\u001B[49m\n",
      "File \u001B[1;32m~\\AppData\\Local\\pypoetry\\Cache\\virtualenvs\\ai4esg-MyrZEbvC-py3.11\\Lib\\site-packages\\torch\\cuda\\__init__.py:395\u001B[0m, in \u001B[0;36mget_device_properties\u001B[1;34m(device)\u001B[0m\n\u001B[0;32m    385\u001B[0m \u001B[38;5;28;01mdef\u001B[39;00m \u001B[38;5;21mget_device_properties\u001B[39m(device: _device_t) \u001B[38;5;241m-\u001B[39m\u001B[38;5;241m>\u001B[39m _CudaDeviceProperties:\n\u001B[0;32m    386\u001B[0m \u001B[38;5;250m    \u001B[39m\u001B[38;5;124mr\u001B[39m\u001B[38;5;124;03m\"\"\"Gets the properties of a device.\u001B[39;00m\n\u001B[0;32m    387\u001B[0m \n\u001B[0;32m    388\u001B[0m \u001B[38;5;124;03m    Args:\u001B[39;00m\n\u001B[1;32m   (...)\u001B[0m\n\u001B[0;32m    393\u001B[0m \u001B[38;5;124;03m        _CudaDeviceProperties: the properties of the device\u001B[39;00m\n\u001B[0;32m    394\u001B[0m \u001B[38;5;124;03m    \"\"\"\u001B[39;00m\n\u001B[1;32m--> 395\u001B[0m     \u001B[43m_lazy_init\u001B[49m\u001B[43m(\u001B[49m\u001B[43m)\u001B[49m  \u001B[38;5;66;03m# will define _get_device_properties\u001B[39;00m\n\u001B[0;32m    396\u001B[0m     device \u001B[38;5;241m=\u001B[39m _get_device_index(device, optional\u001B[38;5;241m=\u001B[39m\u001B[38;5;28;01mTrue\u001B[39;00m)\n\u001B[0;32m    397\u001B[0m     \u001B[38;5;28;01mif\u001B[39;00m device \u001B[38;5;241m<\u001B[39m \u001B[38;5;241m0\u001B[39m \u001B[38;5;129;01mor\u001B[39;00m device \u001B[38;5;241m>\u001B[39m\u001B[38;5;241m=\u001B[39m device_count():\n",
      "File \u001B[1;32m~\\AppData\\Local\\pypoetry\\Cache\\virtualenvs\\ai4esg-MyrZEbvC-py3.11\\Lib\\site-packages\\torch\\cuda\\__init__.py:239\u001B[0m, in \u001B[0;36m_lazy_init\u001B[1;34m()\u001B[0m\n\u001B[0;32m    235\u001B[0m     \u001B[38;5;28;01mraise\u001B[39;00m \u001B[38;5;167;01mRuntimeError\u001B[39;00m(\n\u001B[0;32m    236\u001B[0m         \u001B[38;5;124m\"\u001B[39m\u001B[38;5;124mCannot re-initialize CUDA in forked subprocess. To use CUDA with \u001B[39m\u001B[38;5;124m\"\u001B[39m\n\u001B[0;32m    237\u001B[0m         \u001B[38;5;124m\"\u001B[39m\u001B[38;5;124mmultiprocessing, you must use the \u001B[39m\u001B[38;5;124m'\u001B[39m\u001B[38;5;124mspawn\u001B[39m\u001B[38;5;124m'\u001B[39m\u001B[38;5;124m start method\u001B[39m\u001B[38;5;124m\"\u001B[39m)\n\u001B[0;32m    238\u001B[0m \u001B[38;5;28;01mif\u001B[39;00m \u001B[38;5;129;01mnot\u001B[39;00m \u001B[38;5;28mhasattr\u001B[39m(torch\u001B[38;5;241m.\u001B[39m_C, \u001B[38;5;124m'\u001B[39m\u001B[38;5;124m_cuda_getDeviceCount\u001B[39m\u001B[38;5;124m'\u001B[39m):\n\u001B[1;32m--> 239\u001B[0m     \u001B[38;5;28;01mraise\u001B[39;00m \u001B[38;5;167;01mAssertionError\u001B[39;00m(\u001B[38;5;124m\"\u001B[39m\u001B[38;5;124mTorch not compiled with CUDA enabled\u001B[39m\u001B[38;5;124m\"\u001B[39m)\n\u001B[0;32m    240\u001B[0m \u001B[38;5;28;01mif\u001B[39;00m _cudart \u001B[38;5;129;01mis\u001B[39;00m \u001B[38;5;28;01mNone\u001B[39;00m:\n\u001B[0;32m    241\u001B[0m     \u001B[38;5;28;01mraise\u001B[39;00m \u001B[38;5;167;01mAssertionError\u001B[39;00m(\n\u001B[0;32m    242\u001B[0m         \u001B[38;5;124m\"\u001B[39m\u001B[38;5;124mlibcudart functions unavailable. It looks like you have a broken build?\u001B[39m\u001B[38;5;124m\"\u001B[39m)\n",
      "\u001B[1;31mAssertionError\u001B[0m: Torch not compiled with CUDA enabled"
     ]
    }
   ],
   "source": [
    "import torch\n",
    "\n",
    "torch.cuda.get_device_properties(0)"
   ],
   "metadata": {
    "collapsed": false,
    "ExecuteTime": {
     "end_time": "2024-01-24T18:24:20.101314700Z",
     "start_time": "2024-01-24T18:24:20.073331500Z"
    }
   },
   "id": "60cddedd2581cb72",
   "execution_count": 4
  }
 ],
 "metadata": {
  "kernelspec": {
   "display_name": "Python 3",
   "language": "python",
   "name": "python3"
  },
  "language_info": {
   "codemirror_mode": {
    "name": "ipython",
    "version": 2
   },
   "file_extension": ".py",
   "mimetype": "text/x-python",
   "name": "python",
   "nbconvert_exporter": "python",
   "pygments_lexer": "ipython2",
   "version": "2.7.6"
  }
 },
 "nbformat": 4,
 "nbformat_minor": 5
}
