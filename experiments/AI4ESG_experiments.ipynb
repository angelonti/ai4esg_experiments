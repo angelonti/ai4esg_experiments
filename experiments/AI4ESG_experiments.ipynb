{
 "cells": [
  {
   "cell_type": "code",
   "execution_count": 1,
   "id": "initial_id",
   "metadata": {
    "collapsed": true,
    "ExecuteTime": {
     "end_time": "2024-01-14T15:08:22.391715600Z",
     "start_time": "2024-01-14T15:08:22.275557200Z"
    }
   },
   "outputs": [],
   "source": [
    "import sys\n",
    "sys.path.append('../backend')"
   ]
  },
  {
   "cell_type": "code",
   "outputs": [
    {
     "name": "stdout",
     "output_type": "stream",
     "text": [
      "\n",
      "Live Nation Entertainment Privacy Policy - Your Privacy Rights Effective July 20, 2012 (last updated October 08, 2013)\n",
      "This Privacy Policy applies to the sites and apps where it appears. This Policy describes how we treat personal information we collect both online and offline. This includes on our websites or in our apps. It also includes at our box offices or in phone or email interactions you have with us. If you live in Canada, please read our Canadian Privacy Policy.\n",
      "We collect information from and about you. Contact information. For example, we might collect your name and street address. We might also collect your phone number or email.\n",
      "Payment and billing information. For example, we collect your credit card number and zip code when you buy a ticket.\n",
      "Information you post. For example, we collect information you post in a public space on our website or on a third-party social media site.\n",
      "Demographic information. We may collect information about events you like or products you buy. We might collect this as part of a survey, for example.\n",
      "Other information. If you use our website, we may collect information about the browser you're using. We might look at what site you came from, or what site you visit when you leave us. If you use our mobile app, we may collect your GPS location or your device's unique identifier. We might also collect the type of mobile device you are using, or the version of the operating system your computer or device is running. We might look at how often you use the app and where you downloaded it.\n",
      "We collect information in different ways. We collect information directly from you. For example, if you register for a promotion or buy tickets. We also collect information if you post a comment on our websites or ask us a question.\n",
      "We collect information from you passively. We use tracking tools like browser cookies and web beacons. To learn more about these tools and to control them, please click here.\n",
      "We get information about you from third parties. For example, if you use an integrated social media feature on our websites or mobile applications. The third-party social media site will give us certain information about you. This could include your name and email address. Your activities on our sites and apps may be posted to the social media platforms.\n",
      "We use information as disclosed and described here. We use information to respond to your requests or questions. For example, we might use your information to confirm your registration for an event or contest. If you give us your friend's information, we will only use it to provide services you requested.\n",
      "We use information to improve our products and services. We might use your information to customize your experience with us. This could include displaying content based upon your preferences.\n",
      "We use information to look at site trends and customer interests. We may use your information to make our website and products better. We may combine information we get from you with information about you we get from third parties.\n",
      "We use information for security purposes. We may use information to protect our company, our customers, or our websites.\n",
      "We use information for marketing purposes. For example, we might send you information about special promotions or offers. We might also tell you about new features or products. These might be our own offers or products, or third-party offers or products we think you might find interesting. Or, for example, if you buy tickets from us we'll enroll you in our newsletter. We may use push notifications and your location information on our mobile apps to send you alerts regarding local events. To learn about your choices for these communications, read the choices section below.\n",
      "We use information to send you transactional communications. For example, we might send you emails about your account or a ticket purchase. We might also contact you about this policy or our website terms.\n",
      "We use information as otherwise permitted by law.\n",
      "We may share information with third parties. We will share information within the Live Nation family of companies. This may include Ticketmaster and Live Nation-owned or operated venues, for example.\n",
      "We will share information with third parties who perform services on our behalf. For example, we share information with vendors who help us manage our online registration process or who fulfill your purchases. Some vendors may be located outside of the United States.\n",
      "We will share information with our business partners. This includes a third party who provides or sponsors an event, or who operates a venue where we hold events. Our partners use the information we give them as described in their privacy policies. You should read those polices to learn how they treat your information.\n",
      "We may share information if we think we have to in order to comply with the law or to protect ourselves. For example, we will share information to respond to a court order or subpoena. We may also share it if a government agency or investigatory body requests. Or, we might also share information when we are investigating potential fraud. This might include fraud we think has happened during a sweepstakes or promotion.\n",
      "We may share information with any successor to all or part of our business. For example, if part of our business is sold we may give our customer list as part of that transaction.\n",
      "We may share your information for reasons not described in this policy. We will tell you before we do this.\n",
      "You have certain choices about how we use your information. You can opt out of receiving our marketing emails. To stop receiving our promotional emails, click here or follow the instructions in any promotional message you get from us. Your device settings should provide you with instructions on how to turn off push notifications. It may take about ten days to process your request. Don't worry! Even if you opt out of getting marketing messages, we will still be sure to send you transactional messages. For example, we may still contact you about your orders.\n",
      "You can modify information you have given us. To correct or delete information or update account settings, log into your account and follow the instructions. We make changes as soon as we can. This information may stay in our backup files. If we cannot make the changes you want, we will let you know and explain why. If you contact us requesting access to your information, we will respond within 30 days.\n",
      "You can control cookies and tracking tools. To learn how to manage how we - and our vendors - use cookies and other tracking tools, please click here.\n",
      "You can control tools on your mobile devices. For example, you can turn off the GPS locator or push notifications on your phone. Each push notification has an \"unsubscribe\" link.\n",
      "Your California Privacy Rights. If you live in California and have an established business relationship with us, you can request a list of the personal information we have shared with third parties for their marketing purposes. We will also give you a list of the third parties that have received your information. You can make a request one time each year.\n",
      "To exercise your rights, you can email us or write to us at the address below. Mention in your letter that you are making a \"California Shine the Light\" inquiry. We will respond within 30 days.\n",
      "These sites and apps are not intended for children. Our sites and apps are meant for adults. We do not knowingly collect personally identifiable information from children under 13. If you are a parent or legal guardian and think your child under 13 has given us information, you can email us here. You can also write to us at the address listed at the end of this policy. Please mark your inquiries \"COPPA Information Request.\"\n",
      "Learn more about COPPA here.\n",
      "We use standard security measures. We have security measures in place to protect your information. The standard security measures we use will depend on the type of information collected. However, the Internet is not 100% secure. We cannot promise that your use of our sites will be completely safe. We encourage you to use caution when using the Internet. This includes not sharing your passwords. If you think that an unauthorized account has been created using your name, contact us at the address below.\n",
      "We are TRUSTe certified.\n",
      "TRUSTe has awarded Live Nation the TRUSTe's Privacy Seal. This means TRUSTe independently reviewed this Policy and the practices on Live Nation and Ticketmaster sites and apps to make sure they meet TRUSTE's requirements. The seal applies to our practices for information collected on U.S., UK, Ireland sites and apps.\n",
      "We keep personal information as long as it is necessary or relevant for our business. We also keep information to resolve disputes, enforce our agreements and as otherwise required by law.\n",
      "We store information both in and outside of the United States. If you live outside of the United States, you understand and agree that we may transfer your information to the United States. This site is subject to U.S. laws, which may not afford the same level of protection of those in your country.\n",
      "Live Nation complies with the U.S.-EU Safe Harbor Framework as set forth by the U.S. Department of Commerce regarding the collection, use and retention of personal information from European Union member countries. Live Nation has certified that it adheres to the Safe Harbor Privacy Principles of notice, choice, onward transfer, security, data integrity, access, and enforcement. To learn more about the Safe Harbor program, and to view Live Nation's certification, please visit http://www.export.gov/safeharbor.\n",
      "We may link to third party sites or services we don't control. If you click on one of those links, you will be taken to websites we do not control. This policy does not apply to the privacy practices of those websites. Read the privacy policy of other websites carefully. We are not responsible for these third party sites.\n",
      "What we will do if there is an update to this policy. From time to time we may change our privacy practices. We will notify you of any material changes to this policy as required by law. We will also post an updated copy on our website. Please check our site periodically for updates.\n"
     ]
    }
   ],
   "source": [
    "import modules.document.utils.policyqa_parser as policyqa_parser\n",
    "\n",
    "policy_doc = policyqa_parser.parse_policy_text_by_title(\"ticketmaster.com\", \"../data/dev.json\")\n",
    "print(policy_doc.text)"
   ],
   "metadata": {
    "collapsed": false,
    "ExecuteTime": {
     "end_time": "2024-01-14T15:08:23.119207800Z",
     "start_time": "2024-01-14T15:08:23.070519100Z"
    }
   },
   "id": "e1915ce6ff2b5cdb",
   "execution_count": 2
  },
  {
   "cell_type": "code",
   "outputs": [
    {
     "data": {
      "text/plain": "['ticketmaster.com',\n 'theatlantic.com',\n 'sci-news.com',\n 'yahoo.com',\n 'style.com',\n 'adweek.com',\n 'cariboucoffee.com',\n 'kaleidahealth.org',\n 'fool.com',\n 'buffalowildwings.com',\n 'post-gazette.com',\n 'internetbrands.com',\n 'mlb.mlb.com',\n 'eatchicken.com',\n 'ted.com',\n 'naturalnews.com',\n 'cbsinteractive.com',\n 'washingtonian.com',\n 'dogbreedinfo.com',\n 'walmart.com']"
     },
     "execution_count": 3,
     "metadata": {},
     "output_type": "execute_result"
    }
   ],
   "source": [
    "policyqa_parser.get_all_policy_titles(\"../data/dev.json\")"
   ],
   "metadata": {
    "collapsed": false,
    "ExecuteTime": {
     "end_time": "2024-01-14T15:08:23.942443400Z",
     "start_time": "2024-01-14T15:08:23.911995300Z"
    }
   },
   "id": "fa3eb1d836e93fe7",
   "execution_count": 3
  },
  {
   "cell_type": "code",
   "outputs": [
    {
     "data": {
      "text/plain": "True"
     },
     "execution_count": 4,
     "metadata": {},
     "output_type": "execute_result"
    }
   ],
   "source": [
    "from config import config\n",
    "\n",
    "config.add_title"
   ],
   "metadata": {
    "collapsed": false,
    "ExecuteTime": {
     "end_time": "2024-01-14T15:08:24.724249600Z",
     "start_time": "2024-01-14T15:08:24.708283100Z"
    }
   },
   "id": "30b42760262f8126",
   "execution_count": 4
  },
  {
   "cell_type": "code",
   "outputs": [],
   "source": [
    "from modules.document.service import create as create_document\n",
    "\n",
    "async def save_policy_to_db(policy_doc):\n",
    "    policy_obj = await create_document(policy_doc)\n",
    "    return policy_obj\n",
    "\n",
    "async def save_all_policies_to_db(file_path: str=\"../data/dev.json\"):\n",
    "    policy_titles = policyqa_parser.get_all_policy_titles(file_path)\n",
    "    for title in policy_titles:\n",
    "        policy_doc = policyqa_parser.parse_policy_text_by_title(title, file_path)\n",
    "        policy_obj = await save_policy_to_db(policy_doc)\n",
    "        print(f\"saved policy id:{policy_obj.id}, title:{policy_obj.title}, doc_type:{policy_obj.doc_type} to database\")\n",
    "\n",
    "# policy_doc = policyqa_parser.parse_policy_text_by_title(\"rockstargames.com\", \"../data/test.json\")\n",
    "# policy_obj = await save_policy_to_db(policy_doc)\n",
    "# print(f\"saved policy id:{policy_obj.id}, title:{policy_obj.title}, doc_type:{policy_obj.doc_type} to database\")\n",
    "\n",
    "# Only run this to save all policies to database\n",
    "# await save_all_policies_to_db(\"../data/dev.json\")"
   ],
   "metadata": {
    "collapsed": false,
    "ExecuteTime": {
     "end_time": "2024-01-14T15:08:26.048871100Z",
     "start_time": "2024-01-14T15:08:25.430875400Z"
    }
   },
   "id": "928ec7e1a709688a",
   "execution_count": 5
  },
  {
   "cell_type": "code",
   "outputs": [],
   "source": [
    "from modules.answer.schemas import AnswerCreate\n",
    "from modules.llm.llm_infos import Model\n",
    "\n",
    "request = AnswerCreate(\n",
    "    question=\"in ticketmaster.com, Does the company collect user's financial information?\",\n",
    "    model=Model.Gpt4,\n",
    "    prompt=\"Answer the question by copying exactly a portion of the contexts, \"\n",
    "           \"The portion you copy to answer the question should be as short and concise as possible, \"\n",
    "           \"and if the answer is not contained within the text in the contexts, say `I don't know.`\"\n",
    ")\n"
   ],
   "metadata": {
    "collapsed": false,
    "ExecuteTime": {
     "end_time": "2024-01-14T15:08:27.887584Z",
     "start_time": "2024-01-14T15:08:27.881956100Z"
    }
   },
   "id": "db3c5952266cffe1",
   "execution_count": 6
  },
  {
   "cell_type": "code",
   "outputs": [],
   "source": [
    "from modules.answer.service import create as create_answer\n",
    "from collections import deque\n",
    "import openai\n",
    "\n",
    "openai.api_key = config.api_key\n",
    "#question_embedding, answer_embeddings, answer_generator, num_tokens = await create_answer(request)\n",
    "#answer_text = deque(answer_generator, maxlen=1)[0]\n",
    "\n",
    "#print(answer_text)\n",
    "#print(f'num_tokens: {num_tokens}')"
   ],
   "metadata": {
    "collapsed": false,
    "ExecuteTime": {
     "end_time": "2024-01-14T15:08:28.863131700Z",
     "start_time": "2024-01-14T15:08:28.746598800Z"
    }
   },
   "id": "ee12ec24cdf9cf7b",
   "execution_count": 7
  },
  {
   "cell_type": "code",
   "outputs": [],
   "source": [
    "from modules.llm.utils import vector_similarity\n",
    "import pprint\n",
    "    \n",
    "def get_relevant_embeddings(answer_embeddings, question_embedding):\n",
    "    relevant_embeddings = {\"data\": []}\n",
    "    for i, embedding in enumerate(answer_embeddings):\n",
    "        relevant_embedding = {}\n",
    "        score = vector_similarity(embedding.values, question_embedding)\n",
    "        relevant_embedding[\"embedding_id\"] = str(embedding.id)\n",
    "        relevant_embedding[\"rank\"] = i+1\n",
    "        relevant_embedding[\"title\"] = embedding.document.title\n",
    "        relevant_embedding[\"offset\"] = embedding.offset\n",
    "        relevant_embedding[\"score\"] = score\n",
    "        relevant_embedding[\"text\"] = embedding.text\n",
    "        relevant_embeddings[\"data\"].append(relevant_embedding)\n",
    "    return relevant_embeddings\n",
    "\n",
    "#pprint.pprint(get_relevant_embeddings(answer_embeddings, question_embedding))\n",
    "#print(get_relevant_embeddings(answer_embeddings, question_embedding))"
   ],
   "metadata": {
    "collapsed": false,
    "ExecuteTime": {
     "end_time": "2024-01-14T15:08:29.651229500Z",
     "start_time": "2024-01-14T15:08:29.635486500Z"
    }
   },
   "id": "1cce753be1f0dcbe",
   "execution_count": 8
  },
  {
   "cell_type": "code",
   "outputs": [
    {
     "name": "stdout",
     "output_type": "stream",
     "text": [
      "The average context size is: 430.5452961672474\n",
      "The average answer size is: 70.21095301125082\n"
     ]
    }
   ],
   "source": [
    "print(f'The average context size is: {policyqa_parser.calculate_avg_context_size(\"../data/dev.json\")}')\n",
    "print(f'The average answer size is: {policyqa_parser.calculate_avg_answer_size(\"../data/dev.json\")}')"
   ],
   "metadata": {
    "collapsed": false,
    "ExecuteTime": {
     "end_time": "2024-01-14T15:08:30.558468400Z",
     "start_time": "2024-01-14T15:08:30.527137Z"
    }
   },
   "id": "282a89da3a96df6b",
   "execution_count": 9
  },
  {
   "cell_type": "code",
   "outputs": [
    {
     "data": {
      "text/plain": "'test'"
     },
     "execution_count": 10,
     "metadata": {},
     "output_type": "execute_result"
    }
   ],
   "source": [
    "file_path = \"../data/test.json\"\n",
    "file_name = file_path.split(\"/\")[-1].split(\".\")[0]\n",
    "file_name"
   ],
   "metadata": {
    "collapsed": false,
    "ExecuteTime": {
     "end_time": "2024-01-14T15:08:31.329930400Z",
     "start_time": "2024-01-14T15:08:31.313900800Z"
    }
   },
   "id": "ce91f84511f4e040",
   "execution_count": 10
  },
  {
   "cell_type": "code",
   "outputs": [
    {
     "name": "stderr",
     "output_type": "stream",
     "text": [
      "  0%|          | 0/20 [00:00<?, ?it/s]\n",
      "  0%|          | 0/39 [00:00<?, ?it/s]\u001B[A\n",
      "100%|██████████| 39/39 [00:00<00:00, 221.03it/s]\u001B[A\n",
      "  5%|▌         | 1/20 [00:00<00:03,  5.67it/s]\n",
      "  0%|          | 0/33 [00:00<?, ?it/s]\u001B[A\n",
      " 24%|██▍       | 8/33 [00:00<00:00, 75.87it/s]\u001B[A\n",
      "100%|██████████| 33/33 [00:00<00:00, 114.54it/s][A\n",
      " 10%|█         | 2/20 [00:00<00:04,  4.13it/s]\n",
      "100%|██████████| 12/12 [00:00<00:00, 145.83it/s]\n",
      "\n",
      "  0%|          | 0/29 [00:00<?, ?it/s]\u001B[A\n",
      "100%|██████████| 29/29 [00:00<00:00, 175.18it/s]\u001B[A\n",
      " 20%|██        | 4/20 [00:00<00:02,  5.95it/s]\n",
      "  0%|          | 0/29 [00:00<?, ?it/s]\u001B[A\n",
      " 24%|██▍       | 7/29 [00:00<00:00, 63.93it/s]\u001B[A\n",
      "100%|██████████| 29/29 [00:00<00:00, 113.53it/s][A\n",
      " 25%|██▌       | 5/20 [00:00<00:02,  5.13it/s]\n",
      "  0%|          | 0/16 [00:00<?, ?it/s]\u001B[A\n",
      "100%|██████████| 16/16 [00:00<00:00, 91.39it/s][A\n",
      " 30%|███       | 6/20 [00:01<00:02,  5.29it/s]\n",
      "  0%|          | 0/29 [00:00<?, ?it/s]\u001B[A\n",
      " 38%|███▊      | 11/29 [00:00<00:00, 101.29it/s]\u001B[A\n",
      "100%|██████████| 29/29 [00:00<00:00, 121.07it/s]\u001B[A\n",
      " 35%|███▌      | 7/20 [00:01<00:02,  4.89it/s]\n",
      "  0%|          | 0/55 [00:00<?, ?it/s]\u001B[A\n",
      " 15%|█▍        | 8/55 [00:00<00:00, 78.83it/s]\u001B[A\n",
      " 33%|███▎      | 18/55 [00:00<00:00, 83.47it/s]\u001B[A\n",
      " 49%|████▉     | 27/55 [00:00<00:00, 79.12it/s]\u001B[A\n",
      " 65%|██████▌   | 36/55 [00:00<00:00, 82.50it/s]\u001B[A\n",
      "100%|██████████| 55/55 [00:00<00:00, 95.89it/s]\u001B[A\n",
      " 40%|████      | 8/20 [00:01<00:03,  3.13it/s]\n",
      "  0%|          | 0/55 [00:00<?, ?it/s]\u001B[A\n",
      " 18%|█▊        | 10/55 [00:00<00:00, 84.04it/s]\u001B[A\n",
      " 40%|████      | 22/55 [00:00<00:00, 99.34it/s]\u001B[A\n",
      " 64%|██████▎   | 35/55 [00:00<00:00, 108.56it/s]\u001B[A\n",
      "100%|██████████| 55/55 [00:00<00:00, 121.52it/s]\u001B[A\n",
      " 45%|████▌     | 9/20 [00:02<00:03,  2.77it/s]\n",
      "  0%|          | 0/15 [00:00<?, ?it/s]\u001B[A\n",
      "100%|██████████| 15/15 [00:00<00:00, 81.73it/s][A\n",
      " 50%|█████     | 10/20 [00:02<00:03,  3.25it/s]\n",
      "  0%|          | 0/27 [00:00<?, ?it/s]\u001B[A\n",
      " 41%|████      | 11/27 [00:00<00:00, 87.59it/s]\u001B[A\n",
      "100%|██████████| 27/27 [00:00<00:00, 95.96it/s]\u001B[A\n",
      " 55%|█████▌    | 11/20 [00:02<00:02,  3.34it/s]\n",
      "  0%|          | 0/95 [00:00<?, ?it/s]\u001B[A\n",
      " 16%|█▌        | 15/95 [00:00<00:00, 140.35it/s]\u001B[A\n",
      " 39%|███▉      | 37/95 [00:00<00:00, 173.41it/s]\u001B[A\n",
      " 58%|█████▊    | 55/95 [00:00<00:00, 147.66it/s]\u001B[A\n",
      "100%|██████████| 95/95 [00:00<00:00, 168.92it/s]\u001B[A\n",
      " 60%|██████    | 12/20 [00:03<00:03,  2.64it/s]\n",
      "  0%|          | 0/28 [00:00<?, ?it/s]\u001B[A\n",
      " 29%|██▊       | 8/28 [00:00<00:00, 78.03it/s]\u001B[A\n",
      "100%|██████████| 28/28 [00:00<00:00, 81.04it/s]\u001B[A\n",
      " 65%|██████▌   | 13/20 [00:03<00:02,  2.71it/s]\n",
      "100%|██████████| 1/1 [00:00<00:00, 48.89it/s]\n",
      "\n",
      "  0%|          | 0/24 [00:00<?, ?it/s]\u001B[A\n",
      " 38%|███▊      | 9/24 [00:00<00:00, 79.35it/s]\u001B[A\n",
      "100%|██████████| 24/24 [00:00<00:00, 102.92it/s]\u001B[A\n",
      " 75%|███████▌  | 15/20 [00:04<00:01,  3.89it/s]\n",
      "100%|██████████| 4/4 [00:00<00:00, 127.23it/s]\n",
      "\n",
      "100%|██████████| 8/8 [00:00<00:00, 122.26it/s]\n",
      " 85%|████████▌ | 17/20 [00:04<00:00,  5.71it/s]\n",
      "  0%|          | 0/22 [00:00<?, ?it/s]\u001B[A\n",
      "100%|██████████| 22/22 [00:00<00:00, 124.50it/s]A\n",
      " 90%|█████████ | 18/20 [00:04<00:00,  5.70it/s]\n",
      "100%|██████████| 3/3 [00:00<00:00, 70.01it/s]\n",
      "\n",
      "  0%|          | 0/50 [00:00<?, ?it/s]\u001B[A\n",
      " 22%|██▏       | 11/50 [00:00<00:00, 100.46it/s]\u001B[A\n",
      " 44%|████▍     | 22/50 [00:00<00:00, 83.67it/s] \u001B[A\n",
      "100%|██████████| 50/50 [00:00<00:00, 113.49it/s][A\n",
      "100%|██████████| 20/20 [00:04<00:00,  4.16it/s]"
     ]
    },
    {
     "name": "stdout",
     "output_type": "stream",
     "text": [
      "total number of qas is: 3809\n"
     ]
    },
    {
     "name": "stderr",
     "output_type": "stream",
     "text": [
      "\n"
     ]
    }
   ],
   "source": [
    "import json\n",
    "from tqdm import tqdm\n",
    "import time\n",
    "\n",
    "def count_qas(file_path: str=\"../data/dev.json\"):\n",
    "    count = 0\n",
    "    with open(file_path, \"r\") as f:\n",
    "        json_data = json.load(f)\n",
    "        if \"data\" in json_data:\n",
    "            for policy in tqdm(json_data[\"data\"]):\n",
    "                for paragraph in tqdm(policy[\"paragraphs\"]):\n",
    "                    for qa in paragraph[\"qas\"]:\n",
    "                        count += 1\n",
    "                        time.sleep(0.001)\n",
    "    return count\n",
    "\n",
    "\n",
    "qa_count = count_qas(\"../data/dev.json\")\n",
    "print(f'total number of qas is: {qa_count}')"
   ],
   "metadata": {
    "collapsed": false,
    "ExecuteTime": {
     "end_time": "2024-01-14T15:08:37.080944100Z",
     "start_time": "2024-01-14T15:08:32.223600200Z"
    }
   },
   "id": "d343d20421e4b8f7",
   "execution_count": 11
  },
  {
   "cell_type": "code",
   "outputs": [],
   "source": [
    "import json\n",
    "from tqdm import tqdm\n",
    "import time\n",
    "import logging\n",
    "import os\n",
    "\n",
    "rate_limit_per_minute = 500\n",
    "tokens_per_minute = 10000\n",
    "delay = 60.0 / rate_limit_per_minute\n",
    "\n",
    "def get_saved_qas(file_path: str):\n",
    "    saved_qas = []\n",
    "    if os.path.exists(file_path):\n",
    "        with open(file_path, \"r\") as f:\n",
    "            json_data = json.load(f)\n",
    "            if \"data\" in json_data:\n",
    "                for qa in json_data[\"data\"]:\n",
    "                    saved_qas.append(qa[\"id\"])\n",
    "    return saved_qas\n",
    "\n",
    "async def run_all_policy_qas(file_path: str=\"../data/dev.json\", model: Model=Model.Gpt4):\n",
    "    running_tokens = 0\n",
    "    start_time = time.time()\n",
    "    results = {\"data\": []}\n",
    "    file_name = file_path.split(\"/\")[-1].split(\".\")[0]\n",
    "    \n",
    "    # check if there are saved results and load them\n",
    "    saved_qas = get_saved_qas(f\"../results/{file_name}_results.json\")\n",
    "    if len(saved_qas) > 0:\n",
    "        with open(f\"../results/{file_name}_results.json\", \"r\") as f:\n",
    "            results = json.load(f)\n",
    "        \n",
    "    with open(file_path, \"r\") as f:\n",
    "        json_data = json.load(f)\n",
    "        if \"data\" in json_data:\n",
    "            for policy in tqdm(json_data[\"data\"]):\n",
    "                title = policy[\"title\"]\n",
    "                logging.info(f\"processing policy: {title}\")\n",
    "                for i, paragraph in tqdm(enumerate(policy[\"paragraphs\"])):\n",
    "                    for qa in paragraph[\"qas\"]:\n",
    "                        q_id = qa[\"id\"]\n",
    "                        if q_id in saved_qas:\n",
    "                            print(f\"skipping question {q_id} because it is already saved\")\n",
    "                            continue\n",
    "                        question = qa[\"question\"]\n",
    "                        answers = qa[\"answers\"]\n",
    "                        request = AnswerCreate(\n",
    "                            question=f'in {title}, {question}',\n",
    "                            model=model,\n",
    "                            prompt=\"Answer the question by copying exactly a portion of the contexts, \"\n",
    "                                   \"The portion you copy to answer the question should be as short and concise as possible, \"\n",
    "                                   \"and if the answer is not contained within the text in the contexts, say `I don't know.`\"\n",
    "                        )\n",
    "\n",
    "                        if running_tokens > tokens_per_minute*0.8 and time.time() - start_time < 60.0:\n",
    "                            time.sleep((time.time() - start_time)+15)\n",
    "                            start_time = time.time()\n",
    "                            running_tokens = 0\n",
    "                        \n",
    "                        question_embedding, answer_embeddings, answer_generator, num_tokens = await create_answer(request)\n",
    "                        \n",
    "                        running_tokens += num_tokens\n",
    "                        \n",
    "                        time.sleep(delay)\n",
    "                        answer_text = deque(answer_generator, maxlen=1)[0]\n",
    "                        relevant_embeddings = get_relevant_embeddings(answer_embeddings, question_embedding)\n",
    "                        results[\"data\"].append({\n",
    "                            \"title\": title,\n",
    "                            \"id\": q_id,\n",
    "                            \"question\": question,\n",
    "                            \"answers\": answers,\n",
    "                            \"pred_answer\": answer_text,\n",
    "                            \"relevant_embeddings\": relevant_embeddings[\"data\"]\n",
    "                        })\n",
    "                    # save results to file after each paragraph\n",
    "                    with open(f\"../results/{file_name}_results.json\", \"w\") as f:\n",
    "                        json.dump(results, f, indent=4)\n",
    "                        print(f\"saved results to ../results/{file_name}_results.json for title {title} paragraph {i}\")\n",
    "                        \n",
    "        \n",
    "        \n",
    "async def run_all_policy_qas_dev():\n",
    "    await run_all_policy_qas(\"../data/dev.json\")\n",
    "    \n",
    "async def run_all_policy_qas_test():\n",
    "    await run_all_policy_qas(\"../data/test.json\")"
   ],
   "metadata": {
    "collapsed": false,
    "ExecuteTime": {
     "end_time": "2024-01-14T15:08:37.089166400Z",
     "start_time": "2024-01-14T15:08:37.080944100Z"
    }
   },
   "id": "488800503ea97b93",
   "execution_count": 12
  },
  {
   "cell_type": "code",
   "outputs": [
    {
     "name": "stderr",
     "output_type": "stream",
     "text": [
      "  0%|          | 0/1 [00:00<?, ?it/s]\n",
      "0it [00:00, ?it/s]\u001B[A\n",
      "1it [00:05,  5.25s/it]\u001B[A"
     ]
    },
    {
     "name": "stdout",
     "output_type": "stream",
     "text": [
      "saved results to ../results/dev-small_results.json for title ticketmaster.com paragraph 0\n"
     ]
    },
    {
     "name": "stderr",
     "output_type": "stream",
     "text": [
      "\n",
      "2it [00:14,  7.44s/it]\u001B[A\n",
      "100%|██████████| 1/1 [00:14<00:00, 14.87s/it]"
     ]
    },
    {
     "name": "stdout",
     "output_type": "stream",
     "text": [
      "saved results to ../results/dev-small_results.json for title ticketmaster.com paragraph 1\n"
     ]
    },
    {
     "name": "stderr",
     "output_type": "stream",
     "text": [
      "\n"
     ]
    }
   ],
   "source": [
    "#test GPT-4 responses with small dataset\n",
    "\n",
    "await run_all_policy_qas(\"../data/dev-small.json\")"
   ],
   "metadata": {
    "collapsed": false,
    "ExecuteTime": {
     "end_time": "2024-01-14T15:08:54.845017900Z",
     "start_time": "2024-01-14T15:08:39.961648800Z"
    }
   },
   "id": "d89275a3a39f4482",
   "execution_count": 13
  },
  {
   "cell_type": "code",
   "outputs": [],
   "source": [
    "#get all responses for the dev dataset\n",
    "\n",
    "#await run_all_policy_qas_dev()"
   ],
   "metadata": {
    "collapsed": false,
    "ExecuteTime": {
     "end_time": "2024-01-14T15:09:03.829344400Z",
     "start_time": "2024-01-14T15:09:03.824891900Z"
    }
   },
   "id": "acc9bba7ec340421",
   "execution_count": 14
  },
  {
   "cell_type": "code",
   "outputs": [
    {
     "name": "stderr",
     "output_type": "stream",
     "text": [
      "100%|██████████| 3809/3809 [00:00<00:00, 236263.00it/s]\n"
     ]
    },
    {
     "data": {
      "text/plain": "{'exact_match': tensor(1.9690), 'f1': tensor(17.8223)}"
     },
     "execution_count": 15,
     "metadata": {},
     "output_type": "execute_result"
    }
   ],
   "source": [
    "from backend.evals.torchmetrics_eval_script import eval_squad_metrics\n",
    "\n",
    "eval_squad_metrics(\"../results/dev_results.json\")"
   ],
   "metadata": {
    "collapsed": false,
    "ExecuteTime": {
     "end_time": "2024-01-14T15:09:28.885206100Z",
     "start_time": "2024-01-14T15:09:04.634007500Z"
    }
   },
   "id": "6262e632afafcc0b",
   "execution_count": 15
  },
  {
   "cell_type": "code",
   "outputs": [
    {
     "name": "stdout",
     "output_type": "stream",
     "text": [
      "Exact Match: 1.9690207403517983\n",
      " F1-measure: 17.992978969749082\n",
      " Precision: 15.164048089709462\n",
      " Recall: 50.71725889962931\n"
     ]
    }
   ],
   "source": [
    "from backend.evals.squad_eval_script import Evaluator\n",
    "import json\n",
    "\n",
    "evaluator = Evaluator(\"../data/dev.json\")\n",
    "em, f1, precision, recall = evaluator.evaluate('../results/dev_results.json')\n",
    "print(f\"Exact Match: {em}\\n F1-measure: {f1}\\n Precision: {precision}\\n Recall: {recall}\")"
   ],
   "metadata": {
    "collapsed": false,
    "ExecuteTime": {
     "end_time": "2024-01-14T15:09:33.470705Z",
     "start_time": "2024-01-14T15:09:33.190187400Z"
    }
   },
   "id": "ea8670ed0a77bb97",
   "execution_count": 16
  },
  {
   "cell_type": "code",
   "outputs": [
    {
     "name": "stderr",
     "output_type": "stream",
     "text": [
      "3809it [00:00, 243605.01it/s]"
     ]
    },
    {
     "name": "stdout",
     "output_type": "stream",
     "text": [
      "7618\n",
      "7618\n",
      "7618\n"
     ]
    },
    {
     "name": "stderr",
     "output_type": "stream",
     "text": [
      "\n"
     ]
    }
   ],
   "source": [
    "from backend.evals.torchmetrics_eval_script import prepare_retrieval_data\n",
    "top_k=2\n",
    "_, indexes, preds, labels = prepare_retrieval_data(\"../results/dev_results.json\", top_k=top_k)\n",
    "print(len(indexes))\n",
    "print(len(preds))\n",
    "print(len(labels))"
   ],
   "metadata": {
    "collapsed": false,
    "ExecuteTime": {
     "end_time": "2024-01-14T15:09:37.783783100Z",
     "start_time": "2024-01-14T15:09:37.628468600Z"
    }
   },
   "id": "dbbb160afdbe41e1",
   "execution_count": 17
  },
  {
   "cell_type": "code",
   "outputs": [
    {
     "name": "stdout",
     "output_type": "stream",
     "text": [
      "tensor([0, 0, 1, 1, 2, 2, 3, 3, 4, 4, 5, 5, 6, 6, 7])\n",
      "tensor([0.8960, 0.8597, 0.8611, 0.8609, 0.8517, 0.8396, 0.8565, 0.8545, 0.8570,\n",
      "        0.8496, 0.8649, 0.8593, 0.8574, 0.8493, 0.8716])\n",
      "tensor([False, False,  True, False, False, False,  True, False, False,  True,\n",
      "         True, False,  True,  True, False,  True, False, False, False,  True,\n",
      "        False, False,  True,  True, False,  True, False, False, False,  True,\n",
      "        False, False,  True, False, False,  True,  True,  True, False,  True,\n",
      "        False, False,  True,  True, False, False, False, False, False, False,\n",
      "        False, False, False, False, False, False,  True, False, False, False,\n",
      "         True, False,  True, False,  True, False,  True, False, False,  True,\n",
      "         True, False,  True, False,  True,  True,  True, False, False, False,\n",
      "         True, False,  True, False,  True, False, False, False,  True, False,\n",
      "        False,  True,  True, False, False,  True,  True, False,  True, False])\n"
     ]
    }
   ],
   "source": [
    "print(indexes[0:15])\n",
    "print(preds[0:15])\n",
    "print(labels[0:100])"
   ],
   "metadata": {
    "collapsed": false,
    "ExecuteTime": {
     "end_time": "2024-01-14T15:09:40.405206200Z",
     "start_time": "2024-01-14T15:09:40.390247500Z"
    }
   },
   "id": "2f97b595166c99eb",
   "execution_count": 18
  },
  {
   "cell_type": "code",
   "outputs": [
    {
     "name": "stderr",
     "output_type": "stream",
     "text": [
      "  0%|          | 0/5 [00:00<?, ?it/s]\n",
      "3809it [00:00, 221340.06it/s]\n",
      "\n",
      "  0%|          | 0/3809 [00:00<?, ?it/s]\u001B[A\n",
      "  7%|▋         | 285/3809 [00:00<00:01, 2836.76it/s]\u001B[A\n",
      " 15%|█▍        | 569/3809 [00:00<00:01, 2630.15it/s]\u001B[A\n",
      " 22%|██▏       | 857/3809 [00:00<00:01, 2616.88it/s]\u001B[A\n",
      " 29%|██▉       | 1123/3809 [00:00<00:01, 2537.29it/s]\u001B[A\n",
      " 36%|███▌      | 1378/3809 [00:00<00:00, 2457.79it/s]\u001B[A\n",
      " 43%|████▎     | 1625/3809 [00:00<00:00, 2209.56it/s]\u001B[A\n",
      " 49%|████▊     | 1850/3809 [00:00<00:00, 2027.00it/s]\u001B[A\n",
      " 54%|█████▍    | 2057/3809 [00:00<00:00, 1994.84it/s]\u001B[A\n",
      " 59%|█████▉    | 2259/3809 [00:01<00:00, 1987.95it/s]\u001B[A\n",
      " 65%|██████▍   | 2460/3809 [00:01<00:00, 1893.37it/s]\u001B[A\n",
      " 70%|██████▉   | 2651/3809 [00:01<00:00, 1519.10it/s]\u001B[A\n",
      " 74%|███████▍  | 2815/3809 [00:01<00:00, 1508.92it/s]\u001B[A\n",
      " 78%|███████▊  | 2983/3809 [00:01<00:00, 1515.45it/s]\u001B[A\n",
      " 82%|████████▏ | 3140/3809 [00:01<00:00, 1500.04it/s]\u001B[A\n",
      " 86%|████████▋ | 3294/3809 [00:01<00:00, 1473.57it/s]\u001B[A\n",
      " 90%|█████████ | 3444/3809 [00:01<00:00, 1439.77it/s]\u001B[A\n",
      " 94%|█████████▍| 3598/3809 [00:01<00:00, 1425.57it/s]\u001B[A\n",
      "100%|██████████| 3809/3809 [00:02<00:00, 1768.01it/s]\u001B[A\n",
      "C:\\Users\\onan\\IdeaProjects\\ai4esg_experiments_new\\backend\\evals\\torchmetrics_eval_script.py:75: UserWarning: To copy construct from a tensor, it is recommended to use sourceTensor.clone().detach() or sourceTensor.clone().detach().requires_grad_(True), rather than torch.tensor(sourceTensor).\n",
      "  relevant_embeddings_ratio = torch.tensor(sum(targets) / len(targets))\n",
      " 20%|██        | 1/5 [00:02<00:09,  2.48s/it]\n",
      "3809it [00:00, ?it/s]\n",
      "\n",
      "  0%|          | 0/3809 [00:00<?, ?it/s]\u001B[A\n",
      "  8%|▊         | 291/3809 [00:00<00:01, 2637.13it/s]\u001B[A\n",
      " 15%|█▍        | 555/3809 [00:00<00:01, 2606.59it/s]\u001B[A\n",
      " 21%|██▏       | 816/3809 [00:00<00:01, 2493.59it/s]\u001B[A\n",
      " 28%|██▊       | 1066/3809 [00:00<00:01, 2472.96it/s]\u001B[A\n",
      " 34%|███▍      | 1314/3809 [00:00<00:01, 2327.91it/s]\u001B[A\n",
      " 41%|████      | 1548/3809 [00:00<00:01, 2255.69it/s]\u001B[A\n",
      " 47%|████▋     | 1775/3809 [00:00<00:00, 2134.26it/s]\u001B[A\n",
      " 52%|█████▏    | 1990/3809 [00:00<00:00, 1986.99it/s]\u001B[A\n",
      " 58%|█████▊    | 2191/3809 [00:01<00:00, 1939.56it/s]\u001B[A\n",
      " 63%|██████▎   | 2386/3809 [00:01<00:00, 1809.97it/s]\u001B[A\n",
      " 67%|██████▋   | 2569/3809 [00:01<00:00, 1798.41it/s]\u001B[A\n",
      " 72%|███████▏  | 2750/3809 [00:01<00:00, 1681.58it/s]\u001B[A\n",
      " 77%|███████▋  | 2920/3809 [00:01<00:00, 1605.60it/s]\u001B[A\n",
      " 81%|████████  | 3082/3809 [00:01<00:00, 1534.62it/s]\u001B[A\n",
      " 85%|████████▍ | 3237/3809 [00:01<00:00, 1468.49it/s]\u001B[A\n",
      " 89%|████████▉ | 3385/3809 [00:01<00:00, 1432.56it/s]\u001B[A\n",
      " 93%|█████████▎| 3529/3809 [00:01<00:00, 1314.71it/s]\u001B[A\n",
      " 96%|█████████▌| 3662/3809 [00:02<00:00, 1311.50it/s]\u001B[A\n",
      "100%|██████████| 3809/3809 [00:02<00:00, 1738.37it/s]\u001B[A\n",
      " 40%|████      | 2/5 [00:05<00:07,  2.54s/it]\n",
      "3809it [00:00, 245062.34it/s]\n",
      "\n",
      "  0%|          | 0/3809 [00:00<?, ?it/s]\u001B[A\n",
      "  7%|▋         | 255/3809 [00:00<00:01, 2459.59it/s]\u001B[A\n",
      " 14%|█▎        | 523/3809 [00:00<00:01, 2440.95it/s]\u001B[A\n",
      " 20%|██        | 778/3809 [00:00<00:01, 2383.68it/s]\u001B[A\n",
      " 27%|██▋       | 1034/3809 [00:00<00:01, 2361.22it/s]\u001B[A\n",
      " 33%|███▎      | 1275/3809 [00:00<00:01, 2299.24it/s]\u001B[A\n",
      " 40%|███▉      | 1506/3809 [00:00<00:01, 2284.13it/s]\u001B[A\n",
      " 46%|████▌     | 1735/3809 [00:00<00:00, 2116.31it/s]\u001B[A\n",
      " 51%|█████     | 1949/3809 [00:00<00:00, 1975.09it/s]\u001B[A\n",
      " 56%|█████▋    | 2149/3809 [00:01<00:00, 1843.70it/s]\u001B[A\n",
      " 61%|██████▏   | 2336/3809 [00:01<00:00, 1705.61it/s]\u001B[A\n",
      " 66%|██████▌   | 2509/3809 [00:01<00:00, 1603.49it/s]\u001B[A\n",
      " 70%|███████   | 2672/3809 [00:01<00:00, 1568.40it/s]\u001B[A\n",
      " 74%|███████▍  | 2830/3809 [00:01<00:00, 1530.43it/s]\u001B[A\n",
      " 78%|███████▊  | 2984/3809 [00:01<00:00, 1461.92it/s]\u001B[A\n",
      " 82%|████████▏ | 3131/3809 [00:01<00:00, 1453.93it/s]\u001B[A\n",
      " 86%|████████▌ | 3277/3809 [00:01<00:00, 1355.41it/s]\u001B[A\n",
      " 90%|████████▉ | 3414/3809 [00:01<00:00, 1329.27it/s]\u001B[A\n",
      " 93%|█████████▎| 3548/3809 [00:02<00:00, 1323.20it/s]\u001B[A\n",
      "100%|██████████| 3809/3809 [00:02<00:00, 1686.65it/s]\u001B[A\n",
      " 60%|██████    | 3/5 [00:07<00:05,  2.64s/it]\n",
      "3809it [00:00, 457322.49it/s]\n",
      "\n",
      "  0%|          | 0/3809 [00:00<?, ?it/s]\u001B[A\n",
      "  7%|▋         | 264/3809 [00:00<00:01, 2399.54it/s]\u001B[A\n",
      " 14%|█▍        | 541/3809 [00:00<00:01, 2467.85it/s]\u001B[A\n",
      " 21%|██        | 788/3809 [00:00<00:01, 2367.01it/s]\u001B[A\n",
      " 27%|██▋       | 1041/3809 [00:00<00:01, 2340.07it/s]\u001B[A\n",
      " 34%|███▍      | 1288/3809 [00:00<00:01, 2299.15it/s]\u001B[A\n",
      " 40%|███▉      | 1521/3809 [00:00<00:01, 2236.73it/s]\u001B[A\n",
      " 46%|████▌     | 1745/3809 [00:00<00:00, 2169.59it/s]\u001B[A\n",
      " 52%|█████▏    | 1962/3809 [00:00<00:00, 2016.00it/s]\u001B[A\n",
      " 57%|█████▋    | 2165/3809 [00:01<00:00, 1900.94it/s]\u001B[A\n",
      " 62%|██████▏   | 2357/3809 [00:01<00:00, 1780.08it/s]\u001B[A\n",
      " 67%|██████▋   | 2537/3809 [00:01<00:00, 1738.62it/s]\u001B[A\n",
      " 71%|███████   | 2712/3809 [00:01<00:00, 1628.79it/s]\u001B[A\n",
      " 76%|███████▌  | 2876/3809 [00:01<00:00, 1585.68it/s]\u001B[A\n",
      " 80%|███████▉  | 3036/3809 [00:01<00:00, 1435.57it/s]\u001B[A\n",
      " 84%|████████▎ | 3182/3809 [00:01<00:00, 1350.30it/s]\u001B[A\n",
      " 87%|████████▋ | 3319/3809 [00:01<00:00, 1321.11it/s]\u001B[A\n",
      " 91%|█████████ | 3452/3809 [00:01<00:00, 1285.13it/s]\u001B[A\n",
      " 94%|█████████▍| 3581/3809 [00:02<00:00, 1281.98it/s]\u001B[A\n",
      "100%|██████████| 3809/3809 [00:02<00:00, 1690.63it/s]\u001B[A\n",
      " 80%|████████  | 4/5 [00:10<00:02,  2.70s/it]\n",
      "3809it [00:00, 243742.53it/s]\n",
      "\n",
      "  0%|          | 0/3809 [00:00<?, ?it/s]\u001B[A\n",
      "  8%|▊         | 287/3809 [00:00<00:01, 2830.64it/s]\u001B[A\n",
      " 15%|█▍        | 571/3809 [00:00<00:01, 2363.83it/s]\u001B[A\n",
      " 21%|██▏       | 813/3809 [00:00<00:01, 2312.61it/s]\u001B[A\n",
      " 28%|██▊       | 1065/3809 [00:00<00:01, 2299.93it/s]\u001B[A\n",
      " 34%|███▍      | 1297/3809 [00:00<00:01, 2229.65it/s]\u001B[A\n",
      " 40%|███▉      | 1521/3809 [00:00<00:01, 2161.01it/s]\u001B[A\n",
      " 46%|████▌     | 1738/3809 [00:00<00:01, 2033.71it/s]\u001B[A\n",
      " 51%|█████     | 1943/3809 [00:00<00:00, 1958.48it/s]\u001B[A\n",
      " 56%|█████▌    | 2140/3809 [00:01<00:00, 1844.51it/s]\u001B[A\n",
      " 61%|██████    | 2326/3809 [00:01<00:00, 1800.69it/s]\u001B[A\n",
      " 66%|██████▌   | 2507/3809 [00:01<00:00, 1757.26it/s]\u001B[A\n",
      " 70%|███████   | 2683/3809 [00:01<00:00, 1637.04it/s]\u001B[A\n",
      " 75%|███████▍  | 2848/3809 [00:01<00:00, 1596.88it/s]\u001B[A\n",
      " 79%|███████▉  | 3009/3809 [00:01<00:00, 1490.30it/s]\u001B[A\n",
      " 83%|████████▎ | 3160/3809 [00:01<00:00, 1455.13it/s]\u001B[A\n",
      " 87%|████████▋ | 3307/3809 [00:01<00:00, 1390.57it/s]\u001B[A\n",
      " 90%|█████████ | 3447/3809 [00:01<00:00, 1355.30it/s]\u001B[A\n",
      " 94%|█████████▍| 3583/3809 [00:02<00:00, 1316.59it/s]\u001B[A\n",
      "100%|██████████| 3809/3809 [00:02<00:00, 1690.57it/s]\u001B[A\n",
      "100%|██████████| 5/5 [00:13<00:00,  2.67s/it]"
     ]
    },
    {
     "name": "stdout",
     "output_type": "stream",
     "text": [
      "{'map@1': tensor(0.3437), 'mrr@1': tensor(0.3437), '%Answers found@1': tensor(0.3437), '%Relevant embeddings@1': tensor(0.3437)}\n",
      "{'map@2': tensor(0.4056), 'mrr@2': tensor(0.4056), '%Answers found@2': tensor(0.4676), '%Relevant embeddings@2': tensor(0.3066)}\n",
      "{'map@3': tensor(0.4267), 'mrr@3': tensor(0.4320), '%Answers found@3': tensor(0.5466), '%Relevant embeddings@3': tensor(0.2854)}\n",
      "{'map@4': tensor(0.4363), 'mrr@4': tensor(0.4468), '%Answers found@4': tensor(0.6059), '%Relevant embeddings@4': tensor(0.2707)}\n",
      "{'map@5': tensor(0.4416), 'mrr@5': tensor(0.4563), '%Answers found@5': tensor(0.6535), '%Relevant embeddings@5': tensor(0.2587)}\n"
     ]
    },
    {
     "name": "stderr",
     "output_type": "stream",
     "text": [
      "\n"
     ]
    }
   ],
   "source": [
    "from backend.evals.torchmetrics_eval_script import eval_retrieval_metrics\n",
    "from tqdm import tqdm\n",
    "import logging\n",
    "\n",
    "# logging.disable(logging.INFO)\n",
    "\n",
    "retrieval_metrics = []\n",
    "top_k=5\n",
    "for i in tqdm(range(1, top_k+1)):\n",
    "    retrieval_metrics.append(eval_retrieval_metrics(\"../results/dev_results.json\", top_k=i))\n",
    "\n",
    "for retrieval_metrics in retrieval_metrics:\n",
    "    print(f'{retrieval_metrics}')"
   ],
   "metadata": {
    "collapsed": false,
    "ExecuteTime": {
     "end_time": "2024-01-14T15:09:56.866796700Z",
     "start_time": "2024-01-14T15:09:43.522399200Z"
    }
   },
   "id": "e995ad44a10787c8",
   "execution_count": 19
  },
  {
   "cell_type": "code",
   "outputs": [
    {
     "name": "stderr",
     "output_type": "stream",
     "text": [
      "3809it [00:00, 220923.79it/s]\n",
      "100%|██████████| 3809/3809 [00:02<00:00, 1713.16it/s]\n"
     ]
    },
    {
     "name": "stdout",
     "output_type": "stream",
     "text": [
      "The retrieval metrics @5 are {'map@5': tensor(0.4416), 'mrr@5': tensor(0.4563), '%Answers found@5': tensor(0.6535), '%Relevant embeddings@5': tensor(0.2587)}\n"
     ]
    }
   ],
   "source": [
    "from backend.evals.torchmetrics_eval_script import eval_retrieval_metrics\n",
    "top_k=5\n",
    "retrieval_metrics = eval_retrieval_metrics(\"../results/dev_results.json\", top_k=top_k)\n",
    "print(f'The retrieval metrics @{top_k} are {retrieval_metrics}')"
   ],
   "metadata": {
    "collapsed": false,
    "ExecuteTime": {
     "end_time": "2024-01-14T15:10:05.113112200Z",
     "start_time": "2024-01-14T15:10:02.348638300Z"
    }
   },
   "id": "46587ee4162a8970",
   "execution_count": 20
  },
  {
   "cell_type": "code",
   "outputs": [
    {
     "data": {
      "text/plain": "6044"
     },
     "execution_count": 21,
     "metadata": {},
     "output_type": "execute_result"
    }
   ],
   "source": [
    "import modules.document.utils.policyqa_parser as policyqa_parser\n",
    "\n",
    "num_answers = policyqa_parser.count_answers(\"../data/dev.json\")\n",
    "num_answers"
   ],
   "metadata": {
    "collapsed": false,
    "ExecuteTime": {
     "end_time": "2024-01-14T15:10:07.708260300Z",
     "start_time": "2024-01-14T15:10:07.683070600Z"
    }
   },
   "id": "c78b3adb079a1dca",
   "execution_count": 21
  },
  {
   "cell_type": "code",
   "outputs": [
    {
     "name": "stdout",
     "output_type": "stream",
     "text": [
      "3809\n"
     ]
    }
   ],
   "source": [
    "from backend.modules.document.utils.policyqa_parser import count_questions\n",
    "\n",
    "print(count_questions(\"../data/dev.json\"))"
   ],
   "metadata": {
    "collapsed": false,
    "ExecuteTime": {
     "end_time": "2024-01-14T15:10:08.558169900Z",
     "start_time": "2024-01-14T15:10:08.526592200Z"
    }
   },
   "id": "41d72ed3062bee82",
   "execution_count": 22
  },
  {
   "cell_type": "code",
   "outputs": [],
   "source": [],
   "metadata": {
    "collapsed": false
   },
   "id": "ab4ab5ab65c6ab6c"
  }
 ],
 "metadata": {
  "kernelspec": {
   "display_name": "Python 3",
   "language": "python",
   "name": "python3"
  },
  "language_info": {
   "codemirror_mode": {
    "name": "ipython",
    "version": 2
   },
   "file_extension": ".py",
   "mimetype": "text/x-python",
   "name": "python",
   "nbconvert_exporter": "python",
   "pygments_lexer": "ipython2",
   "version": "2.7.6"
  }
 },
 "nbformat": 4,
 "nbformat_minor": 5
}
