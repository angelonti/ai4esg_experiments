{
 "cells": [
  {
   "cell_type": "code",
   "execution_count": 1,
   "id": "initial_id",
   "metadata": {
    "collapsed": true,
    "ExecuteTime": {
     "end_time": "2024-02-05T22:52:05.849055700Z",
     "start_time": "2024-02-05T22:52:05.837690200Z"
    }
   },
   "outputs": [],
   "source": [
    "# mistralai/Mistral-7B-Instruct-v0.2"
   ]
  },
  {
   "cell_type": "code",
   "outputs": [
    {
     "name": "stdout",
     "output_type": "stream",
     "text": [
      "1\n"
     ]
    }
   ],
   "source": [
    "from dotenv import load_dotenv, find_dotenv\n",
    "import os\n",
    "\n",
    "_ = load_dotenv()\n",
    "\n",
    "print(os.environ.get(\"DISABLE_QIGEN\"))"
   ],
   "metadata": {
    "collapsed": false,
    "ExecuteTime": {
     "end_time": "2024-02-06T21:03:08.587764Z",
     "start_time": "2024-02-06T21:03:08.565614500Z"
    }
   },
   "id": "66654746d017d82f",
   "execution_count": 1
  },
  {
   "cell_type": "code",
   "outputs": [
    {
     "name": "stdout",
     "output_type": "stream",
     "text": [
      "nvcc: NVIDIA (R) Cuda compiler driver\n",
      "Copyright (c) 2005-2022 NVIDIA Corporation\n",
      "Built on Wed_Sep_21_10:41:10_Pacific_Daylight_Time_2022\n",
      "Cuda compilation tools, release 11.8, V11.8.89\n",
      "Build cuda_11.8.r11.8/compiler.31833905_0\n"
     ]
    }
   ],
   "source": [
    "!nvcc --version"
   ],
   "metadata": {
    "collapsed": false,
    "ExecuteTime": {
     "end_time": "2024-02-06T21:03:09.370634Z",
     "start_time": "2024-02-06T21:03:09.221393900Z"
    }
   },
   "id": "5e2f47fc09364272",
   "execution_count": 2
  },
  {
   "cell_type": "code",
   "outputs": [
    {
     "name": "stdout",
     "output_type": "stream",
     "text": [
      "NVIDIA RTX A3000 12GB Laptop GPU\n",
      "True\n"
     ]
    }
   ],
   "source": [
    "import torch\n",
    "\n",
    "print(torch.cuda.get_device_name(0))\n",
    "print(torch.cuda.is_available())"
   ],
   "metadata": {
    "collapsed": false,
    "ExecuteTime": {
     "end_time": "2024-02-06T21:03:16.226555100Z",
     "start_time": "2024-02-06T21:03:09.828621100Z"
    }
   },
   "id": "578d4006d9041472",
   "execution_count": 3
  },
  {
   "cell_type": "code",
   "outputs": [],
   "source": [
    "#import bitsandbytes\n",
    "#bitsandbytes.get_gpu_memory_info()"
   ],
   "metadata": {
    "collapsed": false,
    "ExecuteTime": {
     "end_time": "2024-02-06T21:03:19.275271800Z",
     "start_time": "2024-02-06T21:03:19.270733500Z"
    }
   },
   "id": "2700f3fef57f8866",
   "execution_count": 4
  },
  {
   "cell_type": "code",
   "outputs": [],
   "source": [
    "from transformers import AutoModelForCausalLM, AutoTokenizer\n",
    "\n",
    "#model_id = \"yunconglong/Truthful_DPO_TomGrc_FusionNet_7Bx2_MoE_13B\" # 129s 50 token\n",
    "#model_id = \"mistralai/Mistral-7B-Instruct-v0.2\" # 25s 50 token\n",
    "model_id = \"TheBloke/Mistral-7B-Instruct-v0.2-GPTQ\" #2.5s 50 token\n",
    "#model_id = \"TheBloke/Mixtral-8x7B-Instruct-v0.1-GPTQ\" #33s 50 token\n",
    "tokenizer = AutoTokenizer.from_pretrained(model_id, use_fast=True)"
   ],
   "metadata": {
    "collapsed": false,
    "ExecuteTime": {
     "end_time": "2024-02-06T21:03:22.495760100Z",
     "start_time": "2024-02-06T21:03:19.888808700Z"
    }
   },
   "id": "597f55e14f6dd782",
   "execution_count": 5
  },
  {
   "cell_type": "markdown",
   "source": [
    "$\\rho$ is"
   ],
   "metadata": {
    "collapsed": false
   },
   "id": "4a1375ff56633670"
  },
  {
   "cell_type": "code",
   "outputs": [],
   "source": [
    "\"yunconglong/Truthful_DPO_TomGrc_FusionNet_7Bx2_MoE_13B\" # 129s 50 token\n",
    "\"mistralai/Mistral-7B-Instruct-v0.2\" # 25s 50 token\n",
    "\"TheBloke/Mistral-7B-Instruct-v0.2-GPTQ\" #2.5s 50 token\n",
    "\"TheBloke/Mixtral-8x7B-Instruct-v0.1-GPTQ\" #33s 50 token"
   ],
   "metadata": {
    "collapsed": false
   },
   "id": "73e601982d07a5d"
  },
  {
   "cell_type": "code",
   "outputs": [
    {
     "data": {
      "text/plain": "generation_config.json:   0%|          | 0.00/111 [00:00<?, ?B/s]",
      "application/vnd.jupyter.widget-view+json": {
       "version_major": 2,
       "version_minor": 0,
       "model_id": "882b3f1c6f5e40f9ac51f210c2b3889b"
      }
     },
     "metadata": {},
     "output_type": "display_data"
    },
    {
     "name": "stderr",
     "output_type": "stream",
     "text": [
      "C:\\Users\\onan\\AppData\\Local\\pypoetry\\Cache\\virtualenvs\\ai4esg-MyrZEbvC-py3.11\\Lib\\site-packages\\huggingface_hub\\file_download.py:149: UserWarning: `huggingface_hub` cache-system uses symlinks by default to efficiently store duplicated files but your machine does not support them in C:\\Users\\onan\\.cache\\huggingface\\hub\\models--TheBloke--Mistral-7B-Instruct-v0.2-GPTQ. Caching files will still work but in a degraded version that might require more space on your disk. This warning can be disabled by setting the `HF_HUB_DISABLE_SYMLINKS_WARNING` environment variable. For more details, see https://huggingface.co/docs/huggingface_hub/how-to-cache#limitations.\n",
      "To support symlinks on Windows, you either need to activate Developer Mode or to run Python as an administrator. In order to see activate developer mode, see this article: https://docs.microsoft.com/en-us/windows/apps/get-started/enable-your-device-for-development\n",
      "  warnings.warn(message)\n"
     ]
    }
   ],
   "source": [
    "model = AutoModelForCausalLM.from_pretrained(\n",
    "    model_id,\n",
    "    device_map=\"cuda:0\",\n",
    "    trust_remote_code=False,\n",
    "    revision=\"main\",\n",
    "    #torch_dtype=torch.float16,\n",
    ")"
   ],
   "metadata": {
    "collapsed": false,
    "ExecuteTime": {
     "end_time": "2024-02-06T21:03:49.254575100Z",
     "start_time": "2024-02-06T21:03:41.355568800Z"
    }
   },
   "id": "3fbb7367b5dbce3f",
   "execution_count": 7
  },
  {
   "cell_type": "code",
   "outputs": [],
   "source": [
    "from transformers import TextStreamer\n",
    "\n",
    "streamer = TextStreamer(tokenizer, skip_prompt=True, skip_special_tokens=True)"
   ],
   "metadata": {
    "collapsed": false,
    "ExecuteTime": {
     "end_time": "2024-02-06T21:03:56.276341900Z",
     "start_time": "2024-02-06T21:03:56.249319100Z"
    }
   },
   "id": "15a02e88f9750658",
   "execution_count": 8
  },
  {
   "cell_type": "code",
   "outputs": [
    {
     "name": "stderr",
     "output_type": "stream",
     "text": [
      "The attention mask and the pad token id were not set. As a consequence, you may observe unexpected behavior. Please pass your input's `attention_mask` to obtain reliable results.\n",
      "Setting `pad_token_id` to `eos_token_id`:2 for open-end generation.\n"
     ]
    },
    {
     "name": "stdout",
     "output_type": "stream",
     "text": [
      "Time: 12.587088108062744\n"
     ]
    }
   ],
   "source": [
    "import time\n",
    "\n",
    "start_time = time.time()\n",
    "\n",
    "text = \"Tell me about Venezuela\"\n",
    "prompt_template=f'''[INST] {text} [/INST]'''\n",
    "inputs = tokenizer(prompt_template, return_tensors=\"pt\").input_ids.to(0)\n",
    "outputs = model.generate(inputs, max_new_tokens=1000, do_sample=True, temperature=0.01)\n",
    "\n",
    "print(f\"Time: {time.time() - start_time}\")"
   ],
   "metadata": {
    "collapsed": false,
    "ExecuteTime": {
     "end_time": "2024-02-06T21:11:23.558389900Z",
     "start_time": "2024-02-06T21:11:10.967929700Z"
    }
   },
   "id": "dacf08b58f40c52b",
   "execution_count": 19
  },
  {
   "cell_type": "code",
   "outputs": [
    {
     "data": {
      "text/plain": "12"
     },
     "execution_count": 22,
     "metadata": {},
     "output_type": "execute_result"
    }
   ],
   "source": [
    "inputs.size()[1]"
   ],
   "metadata": {
    "collapsed": false,
    "ExecuteTime": {
     "end_time": "2024-02-06T21:11:51.886432400Z",
     "start_time": "2024-02-06T21:11:51.880827700Z"
    }
   },
   "id": "bd7e1d65fa146372",
   "execution_count": 22
  },
  {
   "cell_type": "code",
   "outputs": [
    {
     "name": "stdout",
     "output_type": "stream",
     "text": [
      "Venezuela is a country located in the northern part of South America. It is the westernmost country of the South American region, and it is bordered by Colombia to the west, Brazil to the south and the Atlantic Ocean to the north. The capital city is Caracas.\n",
      "\n",
      "Venezuela has a rich cultural heritage, with indigenous, European, African, and Asian influences. The country is known for its natural beauty, with diverse landscapes ranging from the Andes Mountains in the west to the Amazon Rainforest in the south, and numerous beaches along the coast.\n",
      "\n",
      "Venezuela is the world's largest holder of oil reserves, and its economy has historically been heavily dependent on the oil industry. However, the country has faced significant economic challenges in recent years, including hyperinflation, food shortages, and a decline in living standards for many people.\n",
      "\n",
      "Politically, Venezuela has a presidential representative democratic republic, with the President of Venezuela serving as both head of state and government. The country has a complex and often tumultuous political history, with periods of authoritarian rule, political instability, and social unrest.\n",
      "\n",
      "In recent years, Venezuela has been mired in a deep political and humanitarian crisis, with widespread protests, food and medicine shortages, and a massive exodus of people fleeing the country. The situation has been compounded by the COVID-19 pandemic, which has put additional strain on the already fragile healthcare system and economy.\n",
      "\n",
      "Despite these challenges, Venezuela remains a diverse and vibrant country with a rich cultural heritage and a proud people. It is home to numerous indigenous communities, as well as a large diaspora population living abroad. Venezuela is also known for its music, art, and literature, and is home to numerous UNESCO World Heritage sites.\n"
     ]
    }
   ],
   "source": [
    "print(tokenizer.decode(outputs[0][inputs.size()[1]:], skip_special_tokens=True))"
   ],
   "metadata": {
    "collapsed": false,
    "ExecuteTime": {
     "end_time": "2024-02-06T21:12:22.276899700Z",
     "start_time": "2024-02-06T21:12:22.272848300Z"
    }
   },
   "id": "20667aaf7b430950",
   "execution_count": 25
  },
  {
   "cell_type": "code",
   "outputs": [],
   "source": [],
   "metadata": {
    "collapsed": false
   },
   "id": "ef8156a8205f20ff"
  }
 ],
 "metadata": {
  "kernelspec": {
   "display_name": "Python 3",
   "language": "python",
   "name": "python3"
  },
  "language_info": {
   "codemirror_mode": {
    "name": "ipython",
    "version": 2
   },
   "file_extension": ".py",
   "mimetype": "text/x-python",
   "name": "python",
   "nbconvert_exporter": "python",
   "pygments_lexer": "ipython2",
   "version": "2.7.6"
  }
 },
 "nbformat": 4,
 "nbformat_minor": 5
}
