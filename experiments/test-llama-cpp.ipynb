{
 "cells": [
  {
   "cell_type": "code",
   "source": [
    "from openai import OpenAI\n",
    "\n",
    "text = \"What ESG law is used in the EU?\"\n",
    "#prompt_template=f'''[INST] {text} [/INST]'''\n",
    "prompt_template = text\n",
    "\n",
    "client = OpenAI(base_url=\"http://127.0.0.1:8000/v1\", api_key=\"sk-xxx\")\n",
    "response = client.chat.completions.create(\n",
    "    model=\"saul_q6\",\n",
    "    messages=[\n",
    "        {\n",
    "            \"role\": \"system\",\n",
    "            \"content\": \"You are a helpful assistant who answer the given question as shortly and concisely as possible.\",\n",
    "        },\n",
    "        {\"role\": \"user\", \"content\": prompt_template},\n",
    "    ],\n",
    "    temperature=0.0001,\n",
    "    max_tokens=50\n",
    ")\n",
    "print(response.choices[0].message.content)"
   ],
   "metadata": {
    "collapsed": false,
    "ExecuteTime": {
     "end_time": "2024-05-31T21:08:18.449643Z",
     "start_time": "2024-05-31T21:08:16.459856Z"
    }
   },
   "id": "f1e6d7f845e4c61b",
   "outputs": [
    {
     "name": "stdout",
     "output_type": "stream",
     "text": [
      " The EU does not have a single ESG (Environmental, Social, Governance) law. Instead, the EU has various regulations and directives addressing specific aspects of ESG. For instance, there's the European Green Deal for environmental sustain\n"
     ]
    }
   ],
   "execution_count": 6
  },
  {
   "cell_type": "code",
   "source": [
    "from llama_cpp import Llama\n",
    "\n",
    "llm = Llama(\n",
    "    model_path=\"../.models/mistral-7b-instruct-v0.2.Q4_K_M.gguf\",\n",
    "    n_gpu_layers=-1,\n",
    "    n_ctx=8192,\n",
    "    n_batch=8192,\n",
    "    verbose=True,\n",
    "    chat_format=\"llama-2\"\n",
    ")\n",
    "\n"
   ],
   "metadata": {
    "collapsed": false,
    "ExecuteTime": {
     "end_time": "2024-05-31T18:03:00.262865Z",
     "start_time": "2024-05-31T18:03:00.262865Z"
    }
   },
   "id": "be6e946ab2bd9f93",
   "outputs": [],
   "execution_count": null
  },
  {
   "cell_type": "code",
   "outputs": [
    {
     "name": "stderr",
     "output_type": "stream",
     "text": [
      "Llama.generate: prefix-match hit\n",
      "\n",
      "llama_print_timings:        load time =   47970.90 ms\n",
      "llama_print_timings:      sample time =       7.23 ms /    50 runs   (    0.14 ms per token,  6914.67 tokens per second)\n",
      "llama_print_timings: prompt eval time =     434.87 ms /    22 tokens (   19.77 ms per token,    50.59 tokens per second)\n",
      "llama_print_timings:        eval time =    1042.79 ms /    49 runs   (   21.28 ms per token,    46.99 tokens per second)\n",
      "llama_print_timings:       total time =    1573.74 ms /    71 tokens\n"
     ]
    },
    {
     "name": "stdout",
     "output_type": "stream",
     "text": [
      "{'id': 'chatcmpl-3045580a-1082-41c2-8371-a2ab27692c71', 'object': 'chat.completion', 'created': 1708458358, 'model': '../.models/mistral-7b-instruct-v0.2.Q4_K_M.gguf', 'choices': [{'index': 0, 'message': {'role': 'assistant', 'content': ' Venezuela is a country located in the northern part of South America. It is the westernmost country of the South American continent and lies between Colombia to the west, Guyana to the east, Brazil to the south, and the Caribbean Sea to the north'}, 'finish_reason': 'length'}], 'usage': {'prompt_tokens': 45, 'completion_tokens': 50, 'total_tokens': 95}}\n"
     ]
    }
   ],
   "source": [
    "import time\n",
    "\n",
    "text = \"TELL ME ABOUT VENEZUELA?\"\n",
    "prompt_template=f'''[INST] {text} [/INST]'''\n",
    "\n",
    "start = time.time()\n",
    "output = llm.create_chat_completion(\n",
    "    messages=[\n",
    "        {\n",
    "            \"role\": \"system\",\n",
    "            \"content\": \"You are a helpful assistant.\",\n",
    "        },\n",
    "        {\"role\": \"user\", \"content\": prompt_template},\n",
    "    ],\n",
    "    temperature=0.0001,\n",
    "    max_tokens=50\n",
    ")\n",
    "print(output)"
   ],
   "metadata": {
    "collapsed": false,
    "ExecuteTime": {
     "end_time": "2024-02-20T19:46:00.051196Z",
     "start_time": "2024-02-20T19:45:58.469593Z"
    }
   },
   "id": "c66bef4e86879e25",
   "execution_count": 4
  }
 ],
 "metadata": {
  "kernelspec": {
   "display_name": "Python 3",
   "language": "python",
   "name": "python3"
  },
  "language_info": {
   "codemirror_mode": {
    "name": "ipython",
    "version": 2
   },
   "file_extension": ".py",
   "mimetype": "text/x-python",
   "name": "python",
   "nbconvert_exporter": "python",
   "pygments_lexer": "ipython2",
   "version": "2.7.6"
  }
 },
 "nbformat": 4,
 "nbformat_minor": 5
}
