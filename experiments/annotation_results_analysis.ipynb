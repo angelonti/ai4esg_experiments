{
 "cells": [
  {
   "metadata": {
    "ExecuteTime": {
     "end_time": "2024-07-12T08:27:33.473232Z",
     "start_time": "2024-07-12T08:27:27.222779Z"
    }
   },
   "cell_type": "code",
   "source": [
    "import torch\n",
    "!pip install nltk\n",
    "!pip install seaborn"
   ],
   "id": "d1265680c77b094c",
   "outputs": [
    {
     "name": "stdout",
     "output_type": "stream",
     "text": [
      "Requirement already satisfied: nltk in c:\\users\\onan\\appdata\\local\\pypoetry\\cache\\virtualenvs\\ai4esg-myrzebvc-py3.11\\lib\\site-packages (3.8.1)\n",
      "Requirement already satisfied: click in c:\\users\\onan\\appdata\\local\\pypoetry\\cache\\virtualenvs\\ai4esg-myrzebvc-py3.11\\lib\\site-packages (from nltk) (8.1.7)\n",
      "Requirement already satisfied: joblib in c:\\users\\onan\\appdata\\local\\pypoetry\\cache\\virtualenvs\\ai4esg-myrzebvc-py3.11\\lib\\site-packages (from nltk) (1.4.2)\n",
      "Requirement already satisfied: regex>=2021.8.3 in c:\\users\\onan\\appdata\\local\\pypoetry\\cache\\virtualenvs\\ai4esg-myrzebvc-py3.11\\lib\\site-packages (from nltk) (2024.5.15)\n",
      "Requirement already satisfied: tqdm in c:\\users\\onan\\appdata\\local\\pypoetry\\cache\\virtualenvs\\ai4esg-myrzebvc-py3.11\\lib\\site-packages (from nltk) (4.66.4)\n",
      "Requirement already satisfied: colorama in c:\\users\\onan\\appdata\\local\\pypoetry\\cache\\virtualenvs\\ai4esg-myrzebvc-py3.11\\lib\\site-packages (from click->nltk) (0.4.6)\n"
     ]
    },
    {
     "name": "stderr",
     "output_type": "stream",
     "text": [
      "DEPRECATION: Loading egg at c:\\users\\onan\\appdata\\local\\pypoetry\\cache\\virtualenvs\\ai4esg-myrzebvc-py3.11\\lib\\site-packages\\autoawq-0.1.8+cu118-py3.11.egg is deprecated. pip 24.3 will enforce this behaviour change. A possible replacement is to use pip for package installation.. Discussion can be found at https://github.com/pypa/pip/issues/12330\n",
      "DEPRECATION: Loading egg at c:\\users\\onan\\appdata\\local\\pypoetry\\cache\\virtualenvs\\ai4esg-myrzebvc-py3.11\\lib\\site-packages\\autoawq_kernels-0.0.3-py3.11-win-amd64.egg is deprecated. pip 24.3 will enforce this behaviour change. A possible replacement is to use pip for package installation.. Discussion can be found at https://github.com/pypa/pip/issues/12330\n",
      "\n",
      "[notice] A new release of pip is available: 24.0 -> 24.1.2\n",
      "[notice] To update, run: python.exe -m pip install --upgrade pip\n"
     ]
    },
    {
     "name": "stdout",
     "output_type": "stream",
     "text": [
      "Requirement already satisfied: seaborn in c:\\users\\onan\\appdata\\local\\pypoetry\\cache\\virtualenvs\\ai4esg-myrzebvc-py3.11\\lib\\site-packages (0.13.2)\n",
      "Requirement already satisfied: numpy!=1.24.0,>=1.20 in c:\\users\\onan\\appdata\\local\\pypoetry\\cache\\virtualenvs\\ai4esg-myrzebvc-py3.11\\lib\\site-packages (from seaborn) (1.26.4)\n",
      "Requirement already satisfied: pandas>=1.2 in c:\\users\\onan\\appdata\\local\\pypoetry\\cache\\virtualenvs\\ai4esg-myrzebvc-py3.11\\lib\\site-packages (from seaborn) (2.2.2)\n",
      "Requirement already satisfied: matplotlib!=3.6.1,>=3.4 in c:\\users\\onan\\appdata\\local\\pypoetry\\cache\\virtualenvs\\ai4esg-myrzebvc-py3.11\\lib\\site-packages (from seaborn) (3.9.0)\n",
      "Requirement already satisfied: contourpy>=1.0.1 in c:\\users\\onan\\appdata\\local\\pypoetry\\cache\\virtualenvs\\ai4esg-myrzebvc-py3.11\\lib\\site-packages (from matplotlib!=3.6.1,>=3.4->seaborn) (1.2.1)\n",
      "Requirement already satisfied: cycler>=0.10 in c:\\users\\onan\\appdata\\local\\pypoetry\\cache\\virtualenvs\\ai4esg-myrzebvc-py3.11\\lib\\site-packages (from matplotlib!=3.6.1,>=3.4->seaborn) (0.12.1)\n",
      "Requirement already satisfied: fonttools>=4.22.0 in c:\\users\\onan\\appdata\\local\\pypoetry\\cache\\virtualenvs\\ai4esg-myrzebvc-py3.11\\lib\\site-packages (from matplotlib!=3.6.1,>=3.4->seaborn) (4.53.0)\n",
      "Requirement already satisfied: kiwisolver>=1.3.1 in c:\\users\\onan\\appdata\\local\\pypoetry\\cache\\virtualenvs\\ai4esg-myrzebvc-py3.11\\lib\\site-packages (from matplotlib!=3.6.1,>=3.4->seaborn) (1.4.5)\n",
      "Requirement already satisfied: packaging>=20.0 in c:\\users\\onan\\appdata\\local\\pypoetry\\cache\\virtualenvs\\ai4esg-myrzebvc-py3.11\\lib\\site-packages (from matplotlib!=3.6.1,>=3.4->seaborn) (23.2)\n",
      "Requirement already satisfied: pillow>=8 in c:\\users\\onan\\appdata\\local\\pypoetry\\cache\\virtualenvs\\ai4esg-myrzebvc-py3.11\\lib\\site-packages (from matplotlib!=3.6.1,>=3.4->seaborn) (10.3.0)\n",
      "Requirement already satisfied: pyparsing>=2.3.1 in c:\\users\\onan\\appdata\\local\\pypoetry\\cache\\virtualenvs\\ai4esg-myrzebvc-py3.11\\lib\\site-packages (from matplotlib!=3.6.1,>=3.4->seaborn) (3.1.2)\n",
      "Requirement already satisfied: python-dateutil>=2.7 in c:\\users\\onan\\appdata\\local\\pypoetry\\cache\\virtualenvs\\ai4esg-myrzebvc-py3.11\\lib\\site-packages (from matplotlib!=3.6.1,>=3.4->seaborn) (2.9.0.post0)\n",
      "Requirement already satisfied: pytz>=2020.1 in c:\\users\\onan\\appdata\\local\\pypoetry\\cache\\virtualenvs\\ai4esg-myrzebvc-py3.11\\lib\\site-packages (from pandas>=1.2->seaborn) (2024.1)\n",
      "Requirement already satisfied: tzdata>=2022.7 in c:\\users\\onan\\appdata\\local\\pypoetry\\cache\\virtualenvs\\ai4esg-myrzebvc-py3.11\\lib\\site-packages (from pandas>=1.2->seaborn) (2024.1)\n",
      "Requirement already satisfied: six>=1.5 in c:\\users\\onan\\appdata\\local\\pypoetry\\cache\\virtualenvs\\ai4esg-myrzebvc-py3.11\\lib\\site-packages (from python-dateutil>=2.7->matplotlib!=3.6.1,>=3.4->seaborn) (1.16.0)\n"
     ]
    },
    {
     "name": "stderr",
     "output_type": "stream",
     "text": [
      "DEPRECATION: Loading egg at c:\\users\\onan\\appdata\\local\\pypoetry\\cache\\virtualenvs\\ai4esg-myrzebvc-py3.11\\lib\\site-packages\\autoawq-0.1.8+cu118-py3.11.egg is deprecated. pip 24.3 will enforce this behaviour change. A possible replacement is to use pip for package installation.. Discussion can be found at https://github.com/pypa/pip/issues/12330\n",
      "DEPRECATION: Loading egg at c:\\users\\onan\\appdata\\local\\pypoetry\\cache\\virtualenvs\\ai4esg-myrzebvc-py3.11\\lib\\site-packages\\autoawq_kernels-0.0.3-py3.11-win-amd64.egg is deprecated. pip 24.3 will enforce this behaviour change. A possible replacement is to use pip for package installation.. Discussion can be found at https://github.com/pypa/pip/issues/12330\n",
      "\n",
      "[notice] A new release of pip is available: 24.0 -> 24.1.2\n",
      "[notice] To update, run: python.exe -m pip install --upgrade pip\n"
     ]
    }
   ],
   "execution_count": 4
  },
  {
   "metadata": {
    "ExecuteTime": {
     "end_time": "2024-07-12T08:27:33.476548Z",
     "start_time": "2024-07-12T08:27:33.473232Z"
    }
   },
   "cell_type": "code",
   "source": [
    "import sys\n",
    "sys.path.append('../backed')"
   ],
   "id": "initial_id",
   "outputs": [],
   "execution_count": 5
  },
  {
   "metadata": {
    "ExecuteTime": {
     "end_time": "2024-07-12T08:27:33.562649Z",
     "start_time": "2024-07-12T08:27:33.476548Z"
    }
   },
   "cell_type": "code",
   "source": [
    "from backend.modules.annotations.service import get_finished_tasks\n",
    "\n",
    "finished_tasks = get_finished_tasks()"
   ],
   "id": "c250b09d74be047",
   "outputs": [],
   "execution_count": 6
  },
  {
   "metadata": {
    "ExecuteTime": {
     "end_time": "2024-07-12T08:27:33.567079Z",
     "start_time": "2024-07-12T08:27:33.563655Z"
    }
   },
   "cell_type": "code",
   "source": [
    "for key, value in dict(finished_tasks[0].data[\"annotation\"]).items():\n",
    "    print((key, value))"
   ],
   "id": "87b2dad24dea8c51",
   "outputs": [
    {
     "name": "stdout",
     "output_type": "stream",
     "text": [
      "('relevant_1', 'Yes')\n",
      "('relevant_2', 'Yes')\n",
      "('relevant_3', 'Yes')\n",
      "('applicable', 'Yes')\n",
      "('rating', 5)\n"
     ]
    }
   ],
   "execution_count": 7
  },
  {
   "metadata": {
    "ExecuteTime": {
     "end_time": "2024-07-12T08:27:33.572534Z",
     "start_time": "2024-07-12T08:27:33.567079Z"
    }
   },
   "cell_type": "code",
   "source": [
    "triplets_annotator_1_2 = []\n",
    "triplets_annotator_1_3 = []\n",
    "triplets_annotator_2_3 = []\n",
    "triplets_rating = []\n",
    "applicable_data = []\n",
    "ratings = []\n",
    "\n",
    "# tasks are ordered by annotator_number, 12 tasks per annotator pair\n",
    "for task in finished_tasks:\n",
    "    for key, value in dict(task.data[\"annotation\"]).items():\n",
    "        if key == \"rating\":\n",
    "            ratings.append(value)\n",
    "            triplets_rating.append((task.annotator_number, f\"{task.task_number}.rating\", value))\n",
    "            continue    \n",
    "        else:\n",
    "            label = f\"{task.task_number}.{key}\"\n",
    "            triplet = (task.annotator_number, label, value)\n",
    "            if key == \"applicable\":\n",
    "                model_value = task.data[\"response\"][\"answer\"]\n",
    "                applicable_record = ({\n",
    "                    \"annotator\": task.annotator_number,\n",
    "                    \"task\": label,\n",
    "                    \"value\": str(value).lower(),\n",
    "                    \"model_value\": str(model_value).lower()\n",
    "                })\n",
    "                applicable_data.append(applicable_record)\n",
    "            \n",
    "        if task.task_number <= 12:\n",
    "            triplets_annotator_1_2.append(triplet)\n",
    "        elif 12 < task.task_number <= 24:\n",
    "            triplets_annotator_2_3.append(triplet)\n",
    "        else:\n",
    "            triplets_annotator_1_3.append(triplet)      "
   ],
   "id": "d9c37810e4912d37",
   "outputs": [],
   "execution_count": 8
  },
  {
   "metadata": {
    "ExecuteTime": {
     "end_time": "2024-07-12T08:27:33.576920Z",
     "start_time": "2024-07-12T08:27:33.572534Z"
    }
   },
   "cell_type": "code",
   "source": [
    "import pandas as pd\n",
    "df_applicable = pd.DataFrame(applicable_data)"
   ],
   "id": "49b374fd6d2d9e27",
   "outputs": [],
   "execution_count": 9
  },
  {
   "metadata": {
    "ExecuteTime": {
     "end_time": "2024-07-12T08:27:33.588550Z",
     "start_time": "2024-07-12T08:27:33.576920Z"
    }
   },
   "cell_type": "code",
   "source": "df_applicable",
   "id": "1a7b582546d4728b",
   "outputs": [
    {
     "data": {
      "text/plain": [
       "    annotator           task    value model_value\n",
       "0           1   1.applicable      yes         yes\n",
       "1           2   1.applicable      yes         yes\n",
       "2           1   2.applicable      yes         yes\n",
       "3           2   2.applicable      yes         yes\n",
       "4           1   3.applicable  unclear          no\n",
       "..        ...            ...      ...         ...\n",
       "67          3  34.applicable  unclear         yes\n",
       "68          1  35.applicable      yes         yes\n",
       "69          3  35.applicable  unclear         yes\n",
       "70          1  36.applicable      yes         yes\n",
       "71          3  36.applicable      yes         yes\n",
       "\n",
       "[72 rows x 4 columns]"
      ],
      "text/html": [
       "<div>\n",
       "<style scoped>\n",
       "    .dataframe tbody tr th:only-of-type {\n",
       "        vertical-align: middle;\n",
       "    }\n",
       "\n",
       "    .dataframe tbody tr th {\n",
       "        vertical-align: top;\n",
       "    }\n",
       "\n",
       "    .dataframe thead th {\n",
       "        text-align: right;\n",
       "    }\n",
       "</style>\n",
       "<table border=\"1\" class=\"dataframe\">\n",
       "  <thead>\n",
       "    <tr style=\"text-align: right;\">\n",
       "      <th></th>\n",
       "      <th>annotator</th>\n",
       "      <th>task</th>\n",
       "      <th>value</th>\n",
       "      <th>model_value</th>\n",
       "    </tr>\n",
       "  </thead>\n",
       "  <tbody>\n",
       "    <tr>\n",
       "      <th>0</th>\n",
       "      <td>1</td>\n",
       "      <td>1.applicable</td>\n",
       "      <td>yes</td>\n",
       "      <td>yes</td>\n",
       "    </tr>\n",
       "    <tr>\n",
       "      <th>1</th>\n",
       "      <td>2</td>\n",
       "      <td>1.applicable</td>\n",
       "      <td>yes</td>\n",
       "      <td>yes</td>\n",
       "    </tr>\n",
       "    <tr>\n",
       "      <th>2</th>\n",
       "      <td>1</td>\n",
       "      <td>2.applicable</td>\n",
       "      <td>yes</td>\n",
       "      <td>yes</td>\n",
       "    </tr>\n",
       "    <tr>\n",
       "      <th>3</th>\n",
       "      <td>2</td>\n",
       "      <td>2.applicable</td>\n",
       "      <td>yes</td>\n",
       "      <td>yes</td>\n",
       "    </tr>\n",
       "    <tr>\n",
       "      <th>4</th>\n",
       "      <td>1</td>\n",
       "      <td>3.applicable</td>\n",
       "      <td>unclear</td>\n",
       "      <td>no</td>\n",
       "    </tr>\n",
       "    <tr>\n",
       "      <th>...</th>\n",
       "      <td>...</td>\n",
       "      <td>...</td>\n",
       "      <td>...</td>\n",
       "      <td>...</td>\n",
       "    </tr>\n",
       "    <tr>\n",
       "      <th>67</th>\n",
       "      <td>3</td>\n",
       "      <td>34.applicable</td>\n",
       "      <td>unclear</td>\n",
       "      <td>yes</td>\n",
       "    </tr>\n",
       "    <tr>\n",
       "      <th>68</th>\n",
       "      <td>1</td>\n",
       "      <td>35.applicable</td>\n",
       "      <td>yes</td>\n",
       "      <td>yes</td>\n",
       "    </tr>\n",
       "    <tr>\n",
       "      <th>69</th>\n",
       "      <td>3</td>\n",
       "      <td>35.applicable</td>\n",
       "      <td>unclear</td>\n",
       "      <td>yes</td>\n",
       "    </tr>\n",
       "    <tr>\n",
       "      <th>70</th>\n",
       "      <td>1</td>\n",
       "      <td>36.applicable</td>\n",
       "      <td>yes</td>\n",
       "      <td>yes</td>\n",
       "    </tr>\n",
       "    <tr>\n",
       "      <th>71</th>\n",
       "      <td>3</td>\n",
       "      <td>36.applicable</td>\n",
       "      <td>yes</td>\n",
       "      <td>yes</td>\n",
       "    </tr>\n",
       "  </tbody>\n",
       "</table>\n",
       "<p>72 rows × 4 columns</p>\n",
       "</div>"
      ]
     },
     "execution_count": 10,
     "metadata": {},
     "output_type": "execute_result"
    }
   ],
   "execution_count": 10
  },
  {
   "metadata": {
    "ExecuteTime": {
     "end_time": "2024-07-12T08:27:33.591950Z",
     "start_time": "2024-07-12T08:27:33.588550Z"
    }
   },
   "cell_type": "code",
   "source": [
    "triplets_annotator_1_2 = sorted(triplets_annotator_1_2, key=lambda x: x[1])\n",
    "triplets_annotator_2_3 = sorted(triplets_annotator_2_3, key=lambda x: x[1])\n",
    "triplets_annotator_1_3 = sorted(triplets_annotator_1_3, key=lambda x: x[1])"
   ],
   "id": "9472d6a6d3733687",
   "outputs": [],
   "execution_count": 11
  },
  {
   "metadata": {
    "ExecuteTime": {
     "end_time": "2024-07-12T08:27:33.596286Z",
     "start_time": "2024-07-12T08:27:33.591950Z"
    }
   },
   "cell_type": "code",
   "source": "len(triplets_annotator_1_2)",
   "id": "925c9b9026af329f",
   "outputs": [
    {
     "data": {
      "text/plain": [
       "96"
      ]
     },
     "execution_count": 12,
     "metadata": {},
     "output_type": "execute_result"
    }
   ],
   "execution_count": 12
  },
  {
   "metadata": {
    "ExecuteTime": {
     "end_time": "2024-07-12T08:27:33.603257Z",
     "start_time": "2024-07-12T08:27:33.596286Z"
    }
   },
   "cell_type": "code",
   "source": "triplets_annotator_1_3",
   "id": "b34348cedc3d859",
   "outputs": [
    {
     "data": {
      "text/plain": [
       "[(1, '25.applicable', 'Unclear'),\n",
       " (3, '25.applicable', 'Unclear'),\n",
       " (1, '25.relevant_1', 'No'),\n",
       " (3, '25.relevant_1', 'No'),\n",
       " (1, '25.relevant_2', 'No'),\n",
       " (3, '25.relevant_2', 'No'),\n",
       " (1, '25.relevant_3', 'No'),\n",
       " (3, '25.relevant_3', 'No'),\n",
       " (1, '26.applicable', 'Unclear'),\n",
       " (3, '26.applicable', 'Unclear'),\n",
       " (1, '26.relevant_1', 'No'),\n",
       " (3, '26.relevant_1', 'No'),\n",
       " (1, '26.relevant_2', 'No'),\n",
       " (3, '26.relevant_2', 'No'),\n",
       " (1, '26.relevant_3', 'No'),\n",
       " (3, '26.relevant_3', 'No'),\n",
       " (1, '27.applicable', 'Unclear'),\n",
       " (3, '27.applicable', 'Unclear'),\n",
       " (1, '27.relevant_1', 'No'),\n",
       " (3, '27.relevant_1', 'No'),\n",
       " (1, '27.relevant_2', 'No'),\n",
       " (3, '27.relevant_2', 'No'),\n",
       " (1, '27.relevant_3', 'No'),\n",
       " (3, '27.relevant_3', 'No'),\n",
       " (1, '28.applicable', 'Unclear'),\n",
       " (3, '28.applicable', 'Unclear'),\n",
       " (1, '28.relevant_1', 'No'),\n",
       " (3, '28.relevant_1', 'No'),\n",
       " (1, '28.relevant_2', 'No'),\n",
       " (3, '28.relevant_2', 'No'),\n",
       " (1, '28.relevant_3', 'No'),\n",
       " (3, '28.relevant_3', 'No'),\n",
       " (1, '29.applicable', 'Unclear'),\n",
       " (3, '29.applicable', 'Unclear'),\n",
       " (1, '29.relevant_1', 'No'),\n",
       " (3, '29.relevant_1', 'Yes'),\n",
       " (1, '29.relevant_2', 'No'),\n",
       " (3, '29.relevant_2', 'No'),\n",
       " (1, '29.relevant_3', 'No'),\n",
       " (3, '29.relevant_3', 'No'),\n",
       " (1, '30.applicable', 'Yes'),\n",
       " (3, '30.applicable', 'Unclear'),\n",
       " (1, '30.relevant_1', 'Yes'),\n",
       " (3, '30.relevant_1', 'Yes'),\n",
       " (1, '30.relevant_2', 'Yes'),\n",
       " (3, '30.relevant_2', 'No'),\n",
       " (1, '30.relevant_3', 'Yes'),\n",
       " (3, '30.relevant_3', 'Yes'),\n",
       " (1, '31.applicable', 'Yes'),\n",
       " (3, '31.applicable', 'Yes'),\n",
       " (1, '31.relevant_1', 'Yes'),\n",
       " (3, '31.relevant_1', 'Yes'),\n",
       " (1, '31.relevant_2', 'Yes'),\n",
       " (3, '31.relevant_2', 'Yes'),\n",
       " (1, '31.relevant_3', 'Yes'),\n",
       " (3, '31.relevant_3', 'Yes'),\n",
       " (1, '32.applicable', 'Unclear'),\n",
       " (3, '32.applicable', 'Unclear'),\n",
       " (1, '32.relevant_1', 'No'),\n",
       " (3, '32.relevant_1', 'No'),\n",
       " (1, '32.relevant_2', 'No'),\n",
       " (3, '32.relevant_2', 'No'),\n",
       " (1, '32.relevant_3', 'No'),\n",
       " (3, '32.relevant_3', 'No'),\n",
       " (1, '33.applicable', 'Yes'),\n",
       " (3, '33.applicable', 'Unclear'),\n",
       " (1, '33.relevant_1', 'Yes'),\n",
       " (3, '33.relevant_1', 'No'),\n",
       " (1, '33.relevant_2', 'No'),\n",
       " (3, '33.relevant_2', 'No'),\n",
       " (1, '33.relevant_3', 'No'),\n",
       " (3, '33.relevant_3', 'No'),\n",
       " (1, '34.applicable', 'Yes'),\n",
       " (3, '34.applicable', 'Unclear'),\n",
       " (1, '34.relevant_1', 'Yes'),\n",
       " (3, '34.relevant_1', 'No'),\n",
       " (1, '34.relevant_2', 'Yes'),\n",
       " (3, '34.relevant_2', 'Yes'),\n",
       " (1, '34.relevant_3', 'Yes'),\n",
       " (3, '34.relevant_3', 'Yes'),\n",
       " (1, '35.applicable', 'Yes'),\n",
       " (3, '35.applicable', 'Unclear'),\n",
       " (1, '35.relevant_1', 'Yes'),\n",
       " (3, '35.relevant_1', 'Yes'),\n",
       " (1, '35.relevant_2', 'Yes'),\n",
       " (3, '35.relevant_2', 'No'),\n",
       " (1, '35.relevant_3', 'Yes'),\n",
       " (3, '35.relevant_3', 'No'),\n",
       " (1, '36.applicable', 'Yes'),\n",
       " (3, '36.applicable', 'Yes'),\n",
       " (1, '36.relevant_1', 'Yes'),\n",
       " (3, '36.relevant_1', 'Yes'),\n",
       " (1, '36.relevant_2', 'Yes'),\n",
       " (3, '36.relevant_2', 'Yes'),\n",
       " (1, '36.relevant_3', 'Yes'),\n",
       " (3, '36.relevant_3', 'Yes')]"
      ]
     },
     "execution_count": 13,
     "metadata": {},
     "output_type": "execute_result"
    }
   ],
   "execution_count": 13
  },
  {
   "metadata": {
    "ExecuteTime": {
     "end_time": "2024-07-12T08:27:33.608837Z",
     "start_time": "2024-07-12T08:27:33.603257Z"
    }
   },
   "cell_type": "code",
   "source": "ratings",
   "id": "b81d243cfee288e5",
   "outputs": [
    {
     "data": {
      "text/plain": [
       "[5,\n",
       " 4,\n",
       " 5,\n",
       " 5,\n",
       " None,\n",
       " None,\n",
       " None,\n",
       " None,\n",
       " 5,\n",
       " 5,\n",
       " 3,\n",
       " 2,\n",
       " 3,\n",
       " None,\n",
       " 5,\n",
       " None,\n",
       " None,\n",
       " None,\n",
       " None,\n",
       " 5,\n",
       " None,\n",
       " 3,\n",
       " None,\n",
       " 4,\n",
       " None,\n",
       " None,\n",
       " 4,\n",
       " 5,\n",
       " None,\n",
       " None,\n",
       " None,\n",
       " 3,\n",
       " None,\n",
       " None,\n",
       " None,\n",
       " 4,\n",
       " None,\n",
       " None,\n",
       " None,\n",
       " 2,\n",
       " None,\n",
       " None,\n",
       " None,\n",
       " 4,\n",
       " 5,\n",
       " None,\n",
       " None,\n",
       " 4,\n",
       " 5,\n",
       " 4,\n",
       " 5,\n",
       " 4,\n",
       " 5,\n",
       " 4,\n",
       " None,\n",
       " None,\n",
       " None,\n",
       " None,\n",
       " 4,\n",
       " None,\n",
       " 5,\n",
       " 5,\n",
       " None,\n",
       " None,\n",
       " 5,\n",
       " None,\n",
       " 4,\n",
       " None,\n",
       " 5,\n",
       " None,\n",
       " 5,\n",
       " 5]"
      ]
     },
     "execution_count": 14,
     "metadata": {},
     "output_type": "execute_result"
    }
   ],
   "execution_count": 14
  },
  {
   "metadata": {
    "ExecuteTime": {
     "end_time": "2024-07-12T08:27:33.612491Z",
     "start_time": "2024-07-12T08:27:33.608837Z"
    }
   },
   "cell_type": "code",
   "source": "print(\"len all possible ratings: \", len(ratings))",
   "id": "149647d4d21948f5",
   "outputs": [
    {
     "name": "stdout",
     "output_type": "stream",
     "text": [
      "len all possible ratings:  72\n"
     ]
    }
   ],
   "execution_count": 15
  },
  {
   "metadata": {
    "ExecuteTime": {
     "end_time": "2024-07-12T08:27:33.615634Z",
     "start_time": "2024-07-12T08:27:33.612491Z"
    }
   },
   "cell_type": "code",
   "source": "ratings_clean = [rating for rating in ratings if rating is not None]",
   "id": "405051050e3dbdcd",
   "outputs": [],
   "execution_count": 16
  },
  {
   "metadata": {
    "ExecuteTime": {
     "end_time": "2024-07-12T08:27:33.621537Z",
     "start_time": "2024-07-12T08:27:33.615634Z"
    }
   },
   "cell_type": "code",
   "source": "ratings_clean",
   "id": "5f9353f0eeae9567",
   "outputs": [
    {
     "data": {
      "text/plain": [
       "[5,\n",
       " 4,\n",
       " 5,\n",
       " 5,\n",
       " 5,\n",
       " 5,\n",
       " 3,\n",
       " 2,\n",
       " 3,\n",
       " 5,\n",
       " 5,\n",
       " 3,\n",
       " 4,\n",
       " 4,\n",
       " 5,\n",
       " 3,\n",
       " 4,\n",
       " 2,\n",
       " 4,\n",
       " 5,\n",
       " 4,\n",
       " 5,\n",
       " 4,\n",
       " 5,\n",
       " 4,\n",
       " 5,\n",
       " 4,\n",
       " 4,\n",
       " 5,\n",
       " 5,\n",
       " 5,\n",
       " 4,\n",
       " 5,\n",
       " 5,\n",
       " 5]"
      ]
     },
     "execution_count": 17,
     "metadata": {},
     "output_type": "execute_result"
    }
   ],
   "execution_count": 17
  },
  {
   "metadata": {
    "ExecuteTime": {
     "end_time": "2024-07-12T08:27:33.626518Z",
     "start_time": "2024-07-12T08:27:33.622042Z"
    }
   },
   "cell_type": "code",
   "source": [
    "print(f\"all rating tasks: {len(ratings)}\")\n",
    "print(f\"finished rating tasks (applicability agreement): {len(ratings_clean)}\")\n",
    "print(f\"% agreement with the model (applicability): {len(ratings_clean)/len(ratings)*100}%\")"
   ],
   "id": "b1709cb4556bf28",
   "outputs": [
    {
     "name": "stdout",
     "output_type": "stream",
     "text": [
      "all rating tasks: 72\n",
      "finished rating tasks (applicability agreement): 35\n",
      "% agreement with the model (applicability): 48.61111111111111%\n"
     ]
    }
   ],
   "execution_count": 18
  },
  {
   "metadata": {
    "ExecuteTime": {
     "end_time": "2024-07-12T08:27:33.761680Z",
     "start_time": "2024-07-12T08:27:33.626518Z"
    }
   },
   "cell_type": "code",
   "source": [
    "import seaborn as sns\n",
    "import matplotlib.pyplot as plt\n",
    "from matplotlib.ticker import MaxNLocator\n",
    "\n",
    "plt.figure(figsize=(10, 6))\n",
    "\n",
    "ax = sns.boxplot(data=ratings_clean)\n",
    "ax.set_title('Ratings Boxplot', fontsize=20)\n",
    "ax.set_ylabel('Ratings', fontsize=15)\n",
    "ax.set_yticks(range(1, 7))\n",
    "\n",
    "plt.show()"
   ],
   "id": "ba7e52adb457ea7e",
   "outputs": [
    {
     "data": {
      "text/plain": [
       "<Figure size 1000x600 with 1 Axes>"
      ],
      "image/png": "[encoded data removed]"
     },
     "metadata": {},
     "output_type": "display_data"
    }
   ],
   "execution_count": 19
  },
  {
   "metadata": {
    "ExecuteTime": {
     "end_time": "2024-07-12T14:09:59.555107Z",
     "start_time": "2024-07-12T14:09:59.460716Z"
    }
   },
   "cell_type": "code",
   "source": [
    "plt.figure(figsize=(10, 6))\n",
    "\n",
    "ax = sns.histplot(data=ratings_clean)\n",
    "\n",
    "ax.set_xlabel('Ratings', fontsize=15)\n",
    "ax.set_ylabel('Count', fontsize=15)\n",
    "ax.yaxis.set_major_locator(MaxNLocator(integer=True))\n",
    "ax.xaxis.set_major_locator(MaxNLocator(integer=True))\n",
    "\n",
    "plt.show()"
   ],
   "id": "9a1da6229005d9ee",
   "outputs": [
    {
     "data": {
      "text/plain": [
       "<Figure size 1000x600 with 1 Axes>"
      ],
      "image/png": "[encoded data removed]"
     },
     "metadata": {},
     "output_type": "display_data"
    }
   ],
   "execution_count": 159
  },
  {
   "metadata": {
    "ExecuteTime": {
     "end_time": "2024-07-12T14:04:17.001148Z",
     "start_time": "2024-07-12T14:04:16.983646Z"
    }
   },
   "cell_type": "code",
   "source": [
    "print(len(ratings_clean))\n",
    "print(sum(ratings_clean)/len(ratings_clean))"
   ],
   "id": "7fcb6c538afeb5e",
   "outputs": [
    {
     "name": "stdout",
     "output_type": "stream",
     "text": [
      "35\n",
      "4.285714285714286\n"
     ]
    }
   ],
   "execution_count": 155
  },
  {
   "metadata": {
    "ExecuteTime": {
     "end_time": "2024-07-12T08:27:35.448946Z",
     "start_time": "2024-07-12T08:27:33.858663Z"
    }
   },
   "cell_type": "code",
   "source": [
    "from nltk.metrics.agreement import AnnotationTask\n",
    "from nltk.metrics import interval_distance, binary_distance, masi_distance, jaccard_distance\n",
    "\n",
    "agreements_1_2 = AnnotationTask(data=triplets_annotator_1_2, distance=binary_distance)\n",
    "print(f\"kappa 1,2: {agreements_1_2.kappa()}\")\n",
    "print(f\"alpha 1,2: {agreements_1_2.alpha()}\")"
   ],
   "id": "45003e5a974c2690",
   "outputs": [
    {
     "name": "stdout",
     "output_type": "stream",
     "text": [
      "kappa 1,2: 0.3753424657534245\n",
      "alpha 1,2: 0.34884559884559885\n"
     ]
    }
   ],
   "execution_count": 21
  },
  {
   "metadata": {
    "ExecuteTime": {
     "end_time": "2024-07-12T08:27:35.452770Z",
     "start_time": "2024-07-12T08:27:35.448946Z"
    }
   },
   "cell_type": "code",
   "source": [
    "agreements_2_3 = AnnotationTask(data=triplets_annotator_2_3, distance=binary_distance)\n",
    "print(f\"kappa 2,3: {agreements_2_3.kappa()}\")\n",
    "print(f\"alpha 2,3: {agreements_2_3.alpha()}\")"
   ],
   "id": "56a5b24c4faaf248",
   "outputs": [
    {
     "name": "stdout",
     "output_type": "stream",
     "text": [
      "kappa 2,3: 0.3664596273291926\n",
      "alpha 2,3: 0.34957712444623434\n"
     ]
    }
   ],
   "execution_count": 22
  },
  {
   "metadata": {
    "ExecuteTime": {
     "end_time": "2024-07-12T08:27:35.456432Z",
     "start_time": "2024-07-12T08:27:35.452770Z"
    }
   },
   "cell_type": "code",
   "source": [
    "agreements_1_3 = AnnotationTask(data=triplets_annotator_1_3, distance=binary_distance)\n",
    "print(f\"kappa 1,3: {agreements_1_3.kappa()}\")\n",
    "print(f\"alpha 1,3: {agreements_1_3.alpha()}\")"
   ],
   "id": "dce214d65433467e",
   "outputs": [
    {
     "name": "stdout",
     "output_type": "stream",
     "text": [
      "kappa 1,3: 0.6703296703296703\n",
      "alpha 1,3: 0.6682960893854748\n"
     ]
    }
   ],
   "execution_count": 23
  },
  {
   "metadata": {
    "ExecuteTime": {
     "end_time": "2024-07-12T08:27:35.459761Z",
     "start_time": "2024-07-12T08:27:35.456432Z"
    }
   },
   "cell_type": "code",
   "source": [
    "triplets_annotator_1_2_applicable = [triple for triple in triplets_annotator_1_2 if \"applicable\" in triple[1]]\n",
    "triplets_annotator_2_3_applicable = [triple for triple in triplets_annotator_2_3 if \"applicable\" in triple[1]]\n",
    "triplets_annotator_1_3_applicable = [triple for triple in triplets_annotator_1_3 if \"applicable\" in triple[1]]"
   ],
   "id": "a408aa16a927863a",
   "outputs": [],
   "execution_count": 24
  },
  {
   "metadata": {
    "ExecuteTime": {
     "end_time": "2024-07-12T08:27:35.463756Z",
     "start_time": "2024-07-12T08:27:35.459761Z"
    }
   },
   "cell_type": "code",
   "source": "triplets_annotator_1_2_applicable",
   "id": "97537b3e144a48c7",
   "outputs": [
    {
     "data": {
      "text/plain": [
       "[(1, '1.applicable', 'Yes'),\n",
       " (2, '1.applicable', 'Yes'),\n",
       " (1, '10.applicable', 'Unclear'),\n",
       " (2, '10.applicable', 'Yes'),\n",
       " (1, '11.applicable', 'Unclear'),\n",
       " (2, '11.applicable', 'Yes'),\n",
       " (1, '12.applicable', 'Unclear'),\n",
       " (2, '12.applicable', 'No'),\n",
       " (1, '2.applicable', 'Yes'),\n",
       " (2, '2.applicable', 'Yes'),\n",
       " (1, '3.applicable', 'Unclear'),\n",
       " (2, '3.applicable', 'Unclear'),\n",
       " (1, '4.applicable', 'Unclear'),\n",
       " (2, '4.applicable', 'Yes'),\n",
       " (1, '5.applicable', 'Yes'),\n",
       " (2, '5.applicable', 'Yes'),\n",
       " (1, '6.applicable', 'Unclear'),\n",
       " (2, '6.applicable', 'Unclear'),\n",
       " (1, '7.applicable', 'Unclear'),\n",
       " (2, '7.applicable', 'Yes'),\n",
       " (1, '8.applicable', 'Unclear'),\n",
       " (2, '8.applicable', 'Yes'),\n",
       " (1, '9.applicable', 'Unclear'),\n",
       " (2, '9.applicable', 'Unclear')]"
      ]
     },
     "execution_count": 25,
     "metadata": {},
     "output_type": "execute_result"
    }
   ],
   "execution_count": 25
  },
  {
   "metadata": {
    "ExecuteTime": {
     "end_time": "2024-07-12T08:27:35.467572Z",
     "start_time": "2024-07-12T08:27:35.463756Z"
    }
   },
   "cell_type": "code",
   "source": "len(triplets_annotator_1_3_applicable)",
   "id": "d777c9e2d1bbc814",
   "outputs": [
    {
     "data": {
      "text/plain": [
       "24"
      ]
     },
     "execution_count": 26,
     "metadata": {},
     "output_type": "execute_result"
    }
   ],
   "execution_count": 26
  },
  {
   "metadata": {
    "ExecuteTime": {
     "end_time": "2024-07-12T08:27:35.471801Z",
     "start_time": "2024-07-12T08:27:35.468080Z"
    }
   },
   "cell_type": "code",
   "source": "triplets_annotator_1_2_applicable",
   "id": "dbb62f402ae65a27",
   "outputs": [
    {
     "data": {
      "text/plain": [
       "[(1, '1.applicable', 'Yes'),\n",
       " (2, '1.applicable', 'Yes'),\n",
       " (1, '10.applicable', 'Unclear'),\n",
       " (2, '10.applicable', 'Yes'),\n",
       " (1, '11.applicable', 'Unclear'),\n",
       " (2, '11.applicable', 'Yes'),\n",
       " (1, '12.applicable', 'Unclear'),\n",
       " (2, '12.applicable', 'No'),\n",
       " (1, '2.applicable', 'Yes'),\n",
       " (2, '2.applicable', 'Yes'),\n",
       " (1, '3.applicable', 'Unclear'),\n",
       " (2, '3.applicable', 'Unclear'),\n",
       " (1, '4.applicable', 'Unclear'),\n",
       " (2, '4.applicable', 'Yes'),\n",
       " (1, '5.applicable', 'Yes'),\n",
       " (2, '5.applicable', 'Yes'),\n",
       " (1, '6.applicable', 'Unclear'),\n",
       " (2, '6.applicable', 'Unclear'),\n",
       " (1, '7.applicable', 'Unclear'),\n",
       " (2, '7.applicable', 'Yes'),\n",
       " (1, '8.applicable', 'Unclear'),\n",
       " (2, '8.applicable', 'Yes'),\n",
       " (1, '9.applicable', 'Unclear'),\n",
       " (2, '9.applicable', 'Unclear')]"
      ]
     },
     "execution_count": 27,
     "metadata": {},
     "output_type": "execute_result"
    }
   ],
   "execution_count": 27
  },
  {
   "metadata": {
    "ExecuteTime": {
     "end_time": "2024-07-12T08:27:35.475807Z",
     "start_time": "2024-07-12T08:27:35.471801Z"
    }
   },
   "cell_type": "code",
   "source": "triplets_annotator_2_3_applicable",
   "id": "17cf6d2df3b0e0d2",
   "outputs": [
    {
     "data": {
      "text/plain": [
       "[(2, '13.applicable', 'Unclear'),\n",
       " (3, '13.applicable', 'Unclear'),\n",
       " (2, '14.applicable', 'No'),\n",
       " (3, '14.applicable', 'No'),\n",
       " (2, '15.applicable', 'Yes'),\n",
       " (3, '15.applicable', 'Unclear'),\n",
       " (2, '16.applicable', 'Yes'),\n",
       " (3, '16.applicable', 'No'),\n",
       " (2, '17.applicable', 'Unclear'),\n",
       " (3, '17.applicable', 'Unclear'),\n",
       " (2, '18.applicable', 'Yes'),\n",
       " (3, '18.applicable', 'Unclear'),\n",
       " (2, '19.applicable', 'Unclear'),\n",
       " (3, '19.applicable', 'Unclear'),\n",
       " (2, '20.applicable', 'Yes'),\n",
       " (3, '20.applicable', 'Unclear'),\n",
       " (2, '21.applicable', 'Yes'),\n",
       " (3, '21.applicable', 'Yes'),\n",
       " (2, '22.applicable', 'Yes'),\n",
       " (3, '22.applicable', 'Unclear'),\n",
       " (2, '23.applicable', 'Yes'),\n",
       " (3, '23.applicable', 'Unclear'),\n",
       " (2, '24.applicable', 'Unclear'),\n",
       " (3, '24.applicable', 'Yes')]"
      ]
     },
     "execution_count": 28,
     "metadata": {},
     "output_type": "execute_result"
    }
   ],
   "execution_count": 28
  },
  {
   "metadata": {
    "ExecuteTime": {
     "end_time": "2024-07-12T08:27:35.479375Z",
     "start_time": "2024-07-12T08:27:35.475807Z"
    }
   },
   "cell_type": "code",
   "source": [
    "# agreements applicable 1,2 interval data\n",
    "def map_interval_data(triplets):\n",
    "    triplets_mapped = []\n",
    "    for triple in triplets:\n",
    "        if str(triple[2]).lower() == \"no\":\n",
    "            triplets_mapped.append((triple[0], triple[1], 0))\n",
    "        elif str(triple[2]).lower() == \"yes\":\n",
    "            triplets_mapped.append((triple[0], triple[1], 2))\n",
    "        else:\n",
    "            triplets_mapped.append((triple[0], triple[1], 1))\n",
    "    return triplets_mapped"
   ],
   "id": "d596ac57ed15847e",
   "outputs": [],
   "execution_count": 29
  },
  {
   "metadata": {},
   "cell_type": "markdown",
   "source": "# Percent agreement",
   "id": "8a7c4e63b22d37b"
  },
  {
   "metadata": {
    "ExecuteTime": {
     "end_time": "2024-07-12T08:27:35.483796Z",
     "start_time": "2024-07-12T08:27:35.479375Z"
    }
   },
   "cell_type": "code",
   "source": [
    "percent_agree_1_2 = sum(1 if triplets_annotator_1_2_applicable[i][2] == triplets_annotator_1_2_applicable[i+1][2] else 0 for i in range(0, len(triplets_annotator_1_2_applicable)-1, 2)) / (len(triplets_annotator_1_2_applicable)//2)\n",
    "\n",
    "percent_agree_2_3 = sum(1 if triplets_annotator_2_3_applicable[i][2] == triplets_annotator_2_3_applicable[i+1][2] else 0 for i in range(0, len(triplets_annotator_2_3_applicable)-1, 2)) / (len(triplets_annotator_2_3_applicable)//2)\n",
    "\n",
    "percent_agree_1_3 = sum(1 if triplets_annotator_1_3_applicable[i][2] == triplets_annotator_1_3_applicable[i+1][2] else 0 for i in range(0, len(triplets_annotator_1_3_applicable)-1, 2)) / (len(triplets_annotator_1_3_applicable)//2)\n",
    "\n",
    "print(f\"Percent agreement 1,2: {percent_agree_1_2*100}%\")\n",
    "print(f\"Percent agreement 2,3: {percent_agree_2_3*100}%\")\n",
    "print(f\"Percent agreement 1,3: {percent_agree_1_3*100}%\")"
   ],
   "id": "82b3eca141835bb6",
   "outputs": [
    {
     "name": "stdout",
     "output_type": "stream",
     "text": [
      "Percent agreement 1,2: 50.0%\n",
      "Percent agreement 2,3: 41.66666666666667%\n",
      "Percent agreement 1,3: 66.66666666666666%\n"
     ]
    }
   ],
   "execution_count": 30
  },
  {
   "metadata": {
    "ExecuteTime": {
     "end_time": "2024-07-12T08:27:35.489963Z",
     "start_time": "2024-07-12T08:27:35.486507Z"
    }
   },
   "cell_type": "code",
   "source": [
    "triplets_annotator_1_2_applicable_interval = map_interval_data(triplets_annotator_1_2_applicable)\n",
    "triplets_annotator_2_3_applicable_interval = map_interval_data(triplets_annotator_2_3_applicable)\n",
    "triplets_annotator_1_3_applicable_interval = map_interval_data(triplets_annotator_1_3_applicable)"
   ],
   "id": "80b135aa99fad09",
   "outputs": [],
   "execution_count": 31
  },
  {
   "metadata": {
    "ExecuteTime": {
     "end_time": "2024-07-12T08:27:35.493120Z",
     "start_time": "2024-07-12T08:27:35.489963Z"
    }
   },
   "cell_type": "code",
   "source": [
    "def interval_similarity(x, y):\n",
    "    return 1 - abs(x - y)/2"
   ],
   "id": "a5cda17de3b9bf1f",
   "outputs": [],
   "execution_count": 32
  },
  {
   "metadata": {
    "ExecuteTime": {
     "end_time": "2024-07-12T08:27:35.497800Z",
     "start_time": "2024-07-12T08:27:35.493120Z"
    }
   },
   "cell_type": "code",
   "source": [
    "percent_agree_1_2 = sum(interval_similarity(triplets_annotator_1_2_applicable_interval[i][2], triplets_annotator_1_2_applicable_interval[i+1][2]) for i in range(0, len(triplets_annotator_1_2_applicable_interval)-1, 2)) / (len(triplets_annotator_1_2_applicable_interval)//2)\n",
    "\n",
    "percent_agree_2_3 = sum(interval_similarity(triplets_annotator_2_3_applicable_interval[i][2], triplets_annotator_2_3_applicable_interval[i+1][2]) for i in range(0, len(triplets_annotator_2_3_applicable_interval)-1, 2)) / (len(triplets_annotator_2_3_applicable_interval)//2)\n",
    "\n",
    "percent_agree_1_3 = sum(interval_similarity(triplets_annotator_1_3_applicable_interval[i][2], triplets_annotator_1_3_applicable_interval[i+1][2]) for i in range(0, len(triplets_annotator_1_3_applicable_interval)-1, 2)) / (len(triplets_annotator_1_3_applicable_interval)//2)\n",
    "\n",
    "print(f\"Interval Percent agreement 1,2 (applicable): {percent_agree_1_2*100}%\")\n",
    "print(f\"Interval Percent agreement 2,3 (applicable): {percent_agree_2_3*100}%\")\n",
    "print(f\"Interval Percent agreement 1,3 (applicable): {percent_agree_1_3*100}%\")"
   ],
   "id": "6ba7d55567d82cc8",
   "outputs": [
    {
     "name": "stdout",
     "output_type": "stream",
     "text": [
      "Interval Percent agreement 1,2 (applicable): 75.0%\n",
      "Interval Percent agreement 2,3 (applicable): 66.66666666666666%\n",
      "Interval Percent agreement 1,3 (applicable): 83.33333333333334%\n"
     ]
    }
   ],
   "execution_count": 33
  },
  {
   "metadata": {},
   "cell_type": "markdown",
   "source": "## Applicable agreement excluding unclear values",
   "id": "879587b7830f6f45"
  },
  {
   "metadata": {
    "ExecuteTime": {
     "end_time": "2024-07-12T08:27:35.500997Z",
     "start_time": "2024-07-12T08:27:35.497800Z"
    }
   },
   "cell_type": "code",
   "source": [
    "# excluding unclear values\n",
    "triplets_annotator_1_2_applicable_no_unk = [triple for triple in triplets_annotator_1_2_applicable if triple[2] != \"Unclear\"]\n",
    "triplets_annotator_2_3_applicable_no_unk = [triple for triple in triplets_annotator_2_3_applicable if triple[2] != \"Unclear\"]\n",
    "triplets_annotator_1_3_applicable_no_unk = [triple for triple in triplets_annotator_1_3_applicable if triple[2] != \"Unclear\"]"
   ],
   "id": "3823fcbab6235d2a",
   "outputs": [],
   "execution_count": 34
  },
  {
   "metadata": {
    "ExecuteTime": {
     "end_time": "2024-07-12T08:27:35.504737Z",
     "start_time": "2024-07-12T08:27:35.500997Z"
    }
   },
   "cell_type": "code",
   "source": "triplets_annotator_1_2_applicable_no_unk",
   "id": "16d33fc6c4cfa73c",
   "outputs": [
    {
     "data": {
      "text/plain": [
       "[(1, '1.applicable', 'Yes'),\n",
       " (2, '1.applicable', 'Yes'),\n",
       " (2, '10.applicable', 'Yes'),\n",
       " (2, '11.applicable', 'Yes'),\n",
       " (2, '12.applicable', 'No'),\n",
       " (1, '2.applicable', 'Yes'),\n",
       " (2, '2.applicable', 'Yes'),\n",
       " (2, '4.applicable', 'Yes'),\n",
       " (1, '5.applicable', 'Yes'),\n",
       " (2, '5.applicable', 'Yes'),\n",
       " (2, '7.applicable', 'Yes'),\n",
       " (2, '8.applicable', 'Yes')]"
      ]
     },
     "execution_count": 35,
     "metadata": {},
     "output_type": "execute_result"
    }
   ],
   "execution_count": 35
  },
  {
   "metadata": {
    "ExecuteTime": {
     "end_time": "2024-07-12T08:27:35.507934Z",
     "start_time": "2024-07-12T08:27:35.504737Z"
    }
   },
   "cell_type": "code",
   "source": [
    "# remove tasks without pair annotation\n",
    "def remove_no_pair_annotations(triplets):\n",
    "    new_triplets = []\n",
    "    for i in range(0, len(triplets)-1):\n",
    "        if triplets[i][1] == triplets[i+1][1]:\n",
    "            new_triplets.append(triplets[i])\n",
    "            new_triplets.append(triplets[i+1])\n",
    "    return new_triplets"
   ],
   "id": "4f4b6b550af124e8",
   "outputs": [],
   "execution_count": 36
  },
  {
   "metadata": {
    "ExecuteTime": {
     "end_time": "2024-07-12T08:27:35.510701Z",
     "start_time": "2024-07-12T08:27:35.507934Z"
    }
   },
   "cell_type": "code",
   "source": [
    "triplets_annotator_1_2_applicable_no_unk = remove_no_pair_annotations(triplets_annotator_1_2_applicable_no_unk)\n",
    "triplets_annotator_2_3_applicable_no_unk = remove_no_pair_annotations(triplets_annotator_2_3_applicable_no_unk)\n",
    "triplets_annotator_1_3_applicable_no_unk = remove_no_pair_annotations(triplets_annotator_1_3_applicable_no_unk)"
   ],
   "id": "f0569a5f3df9bbca",
   "outputs": [],
   "execution_count": 37
  },
  {
   "metadata": {
    "ExecuteTime": {
     "end_time": "2024-07-12T13:11:23.827549Z",
     "start_time": "2024-07-12T13:11:23.816857Z"
    }
   },
   "cell_type": "code",
   "source": "triplets_annotator_2_3_applicable_no_unk",
   "id": "f977bb8ad6ba9d45",
   "outputs": [
    {
     "data": {
      "text/plain": [
       "[(2, '14.applicable', 'No'),\n",
       " (3, '14.applicable', 'No'),\n",
       " (2, '16.applicable', 'Yes'),\n",
       " (3, '16.applicable', 'No'),\n",
       " (2, '21.applicable', 'Yes'),\n",
       " (3, '21.applicable', 'Yes')]"
      ]
     },
     "execution_count": 151,
     "metadata": {},
     "output_type": "execute_result"
    }
   ],
   "execution_count": 151
  },
  {
   "metadata": {},
   "cell_type": "markdown",
   "source": "## applicability agreement excluding unclear values",
   "id": "eeb60d5a6c6166f"
  },
  {
   "metadata": {
    "ExecuteTime": {
     "end_time": "2024-07-12T08:27:35.514578Z",
     "start_time": "2024-07-12T08:27:35.510701Z"
    }
   },
   "cell_type": "code",
   "source": [
    "print(f'num tasks 1,2 applicable no unk: {len(triplets_annotator_1_2_applicable_no_unk)/2}')\n",
    "print(f'num tasks 2,3 applicable no unk: {len(triplets_annotator_2_3_applicable_no_unk)/2}')\n",
    "print(f'num tasks 1,3 applicable no unk: {len(triplets_annotator_1_3_applicable_no_unk)/2}')\n",
    "\n",
    "print(f'num tasks 1,2 applicable: {len(triplets_annotator_1_2_applicable)/2}')\n",
    "print(f'num tasks 2,3 applicable: {len(triplets_annotator_2_3_applicable)/2}')\n",
    "print(f'num tasks 1,3 applicable: {len(triplets_annotator_1_3_applicable)/2}')"
   ],
   "id": "53c492ae814265c6",
   "outputs": [
    {
     "name": "stdout",
     "output_type": "stream",
     "text": [
      "num tasks 1,2 applicable no unk: 3.0\n",
      "num tasks 2,3 applicable no unk: 3.0\n",
      "num tasks 1,3 applicable no unk: 2.0\n",
      "num tasks 1,2 applicable: 12.0\n",
      "num tasks 2,3 applicable: 12.0\n",
      "num tasks 1,3 applicable: 12.0\n"
     ]
    }
   ],
   "execution_count": 38
  },
  {
   "metadata": {
    "ExecuteTime": {
     "end_time": "2024-07-12T13:52:25.417030Z",
     "start_time": "2024-07-12T13:52:25.401009Z"
    }
   },
   "cell_type": "code",
   "source": [
    "agreements_1_2_no_unk = AnnotationTask(data=triplets_annotator_1_2_applicable_no_unk, distance=binary_distance)\n",
    "ao_kappa_1_2 = agreements_1_2_no_unk.Ao(1, 2)\n",
    "ae_kappa_1_2 = agreements_1_2_no_unk.Ae_kappa(1, 2)\n",
    "kappa = (ao_kappa_1_2 - ae_kappa_1_2) / (1.0 - ae_kappa_1_2 + 0.0000000000000000000001)\n",
    "print(f\"kappa 1,2: {ao_kappa_1_2}\")\n",
    "print(f\"alpha 1,2: {agreements_1_2_no_unk.alpha()}\")\n",
    "agreements_2_3_no_unk = AnnotationTask(data=triplets_annotator_2_3_applicable_no_unk, distance=binary_distance)\n",
    "ao_kappa_2_3 = agreements_2_3_no_unk.Ao(2, 3)\n",
    "ae_kappa_2_3 = agreements_2_3_no_unk.Ae_kappa(2, 3)\n",
    "kappa = (ao_kappa_2_3 - ae_kappa_2_3) / (1.0 - ae_kappa_2_3 + 0.0000000000000000000001)\n",
    "print(f\"kappa 2,3: {ao_kappa_2_3}\")\n",
    "print(f\"alpha 2,3: {agreements_2_3_no_unk.alpha()}\")\n",
    "agreements_1_3_no_unk = AnnotationTask(data=triplets_annotator_1_3_applicable_no_unk, distance=binary_distance)\n",
    "ao_kappa_1_3 = agreements_1_3_no_unk.Ao(1, 3)\n",
    "ae_kappa_1_3 = agreements_1_3_no_unk.Ae_kappa(1, 3)\n",
    "kappa = (ao_kappa_1_3 - ae_kappa_1_3) / (1.0 - ae_kappa_1_3 + 0.0000000000000000000001)\n",
    "print(f\"kappa 1,3: {ao_kappa_1_3}\")\n",
    "print(f\"alpha 1,3: {agreements_1_3_no_unk.alpha()}\")"
   ],
   "id": "bc67053411740922",
   "outputs": [
    {
     "name": "stdout",
     "output_type": "stream",
     "text": [
      "kappa 1,2: 1.0\n",
      "alpha 1,2: 1\n",
      "kappa 2,3: 0.6666666666666666\n",
      "alpha 2,3: 0.4444444444444444\n",
      "kappa 1,3: 1.0\n",
      "alpha 1,3: 1\n"
     ]
    }
   ],
   "execution_count": 152
  },
  {
   "metadata": {
    "ExecuteTime": {
     "end_time": "2024-07-12T13:07:13.276071Z",
     "start_time": "2024-07-12T13:07:13.268216Z"
    }
   },
   "cell_type": "code",
   "source": [
    "percent_agree_1_2 = sum(1 if triplets_annotator_1_2_applicable_no_unk[i][2] == triplets_annotator_1_2_applicable_no_unk[i+1][2] else 0 for i in range(0, len(triplets_annotator_1_2_applicable_no_unk)-1, 2)) / (len(triplets_annotator_1_2_applicable_no_unk)//2)\n",
    "\n",
    "percent_agree_2_3 = sum(1 if triplets_annotator_2_3_applicable_no_unk[i][2] == triplets_annotator_2_3_applicable_no_unk[i+1][2] else 0 for i in range(0, len(triplets_annotator_2_3_applicable_no_unk)-1, 2)) / (len(triplets_annotator_2_3_applicable_no_unk)//2)\n",
    "\n",
    "percent_agree_1_3 = sum(1 if triplets_annotator_1_3_applicable_no_unk[i][2] == triplets_annotator_1_3_applicable_no_unk[i+1][2] else 0 for i in range(0, len(triplets_annotator_1_3_applicable_no_unk)-1, 2)) / (len(triplets_annotator_1_3_applicable_no_unk)//2)\n",
    "\n",
    "print(f\"Percent agreement 1,2: {percent_agree_1_2*100}%\")\n",
    "print(f\"Percent agreement 2,3: {percent_agree_2_3*100}%\")\n",
    "print(f\"Percent agreement 1,3: {percent_agree_1_3*100}%\")"
   ],
   "id": "faad83601cf05213",
   "outputs": [
    {
     "name": "stdout",
     "output_type": "stream",
     "text": [
      "Percent agreement 1,2: 100.0%\n",
      "Percent agreement 2,3: 66.66666666666666%\n",
      "Percent agreement 1,3: 100.0%\n"
     ]
    }
   ],
   "execution_count": 150
  },
  {
   "metadata": {},
   "cell_type": "markdown",
   "source": "# Do sanity check what happens if we have all agreements, also change the num of tasks",
   "id": "78fcaaae08375826"
  },
  {
   "metadata": {
    "ExecuteTime": {
     "end_time": "2024-07-12T13:05:08.864608Z",
     "start_time": "2024-07-12T13:05:08.845835Z"
    }
   },
   "cell_type": "code",
   "source": [
    "test_users = [1 if i%2 == 0 else 2 for i in range(24)]\n",
    "test_labels = [[f\"task_{i}\",f\"task_{i}\"] for i in range(1, 13)]\n",
    "test_labels = [item for sublist in test_labels for item in sublist]\n",
    "#test_values = [2 if i%2 == 0 else 0 for i in range(24)]\n",
    "#test_values = [2 for i in range(12)] + [0 for i in range(12)]\n",
    "test_values = [0 for i in range(8)] + [1 for i in range(8, 16)] + [2 for i in range(16, 24)]\n",
    "triplets_annotator_test = [*zip(test_users, test_labels, test_values)]"
   ],
   "id": "2e13972b6b62eb8a",
   "outputs": [],
   "execution_count": 146
  },
  {
   "metadata": {
    "ExecuteTime": {
     "end_time": "2024-07-12T13:05:09.374412Z",
     "start_time": "2024-07-12T13:05:09.371155Z"
    }
   },
   "cell_type": "code",
   "source": "#triplets_annotator_test[len(triplets_annotator_test)-1] = (2, 'task_12', 'Unclear')",
   "id": "c988774e19ba335f",
   "outputs": [],
   "execution_count": 147
  },
  {
   "metadata": {
    "ExecuteTime": {
     "end_time": "2024-07-12T13:05:09.951998Z",
     "start_time": "2024-07-12T13:05:09.933377Z"
    }
   },
   "cell_type": "code",
   "source": [
    "last_idx = len(triplets_annotator_test)-1\n",
    "triplets_annotator_test[0] = (1, 'task_1', 0)\n",
    "#triplets_annotator_test[4] = (1, 'task_3', 2)\n",
    "#triplets_annotator_test[6] = (1, 'task_4', 1)\n",
    "#triplets_annotator_test[8] = (1, 'task_5', 1)\n",
    "#triplets_annotator_test[last_idx-6] = (2, 'task_9', 1)\n",
    "triplets_annotator_test"
   ],
   "id": "57ec91f22a120e42",
   "outputs": [
    {
     "data": {
      "text/plain": [
       "[(1, 'task_1', 0),\n",
       " (2, 'task_1', 0),\n",
       " (1, 'task_2', 0),\n",
       " (2, 'task_2', 0),\n",
       " (1, 'task_3', 0),\n",
       " (2, 'task_3', 0),\n",
       " (1, 'task_4', 0),\n",
       " (2, 'task_4', 0),\n",
       " (1, 'task_5', 1),\n",
       " (2, 'task_5', 1),\n",
       " (1, 'task_6', 1),\n",
       " (2, 'task_6', 1),\n",
       " (1, 'task_7', 1),\n",
       " (2, 'task_7', 1),\n",
       " (1, 'task_8', 1),\n",
       " (2, 'task_8', 1),\n",
       " (1, 'task_9', 2),\n",
       " (2, 'task_9', 2),\n",
       " (1, 'task_10', 2),\n",
       " (2, 'task_10', 2),\n",
       " (1, 'task_11', 2),\n",
       " (2, 'task_11', 2),\n",
       " (1, 'task_12', 2),\n",
       " (2, 'task_12', 2)]"
      ]
     },
     "execution_count": 148,
     "metadata": {},
     "output_type": "execute_result"
    }
   ],
   "execution_count": 148
  },
  {
   "metadata": {
    "ExecuteTime": {
     "end_time": "2024-07-12T13:05:10.778857Z",
     "start_time": "2024-07-12T13:05:10.772738Z"
    }
   },
   "cell_type": "code",
   "source": [
    "agreements_test = AnnotationTask(data=triplets_annotator_test, distance=binary_distance)\n",
    "ao_kappa = agreements_test.Ao(1, 2)\n",
    "ae_kappa = agreements_test.Ae_kappa(1, 2)\n",
    "kappa = (ao_kappa - ae_kappa) / (1.0 - ae_kappa + 0.0000000001)\n",
    "print(f\"Observed agreement kappa test: {ao_kappa}\")\n",
    "print(f\"Expected agreement kappa test: {ae_kappa}\")\n",
    "print(f\"manual kappa test: {kappa}\")\n",
    "print(f\"kappa test: {agreements_test.kappa()}\")\n",
    "print(f\"alpha test: {agreements_test.alpha()}\")"
   ],
   "id": "20128cf79448d9aa",
   "outputs": [
    {
     "name": "stdout",
     "output_type": "stream",
     "text": [
      "Observed agreement kappa test: 1.0\n",
      "Expected agreement kappa test: 0.3333333333333333\n",
      "manual kappa test: 0.99999999985\n",
      "kappa test: 1.0\n",
      "alpha test: 1.0\n"
     ]
    }
   ],
   "execution_count": 149
  },
  {
   "metadata": {
    "ExecuteTime": {
     "end_time": "2024-07-12T08:27:35.544218Z",
     "start_time": "2024-07-12T08:27:35.539822Z"
    }
   },
   "cell_type": "code",
   "source": [
    "N = len(triplets_annotator_test)//2 #Divide by number of annotators\n",
    "count_agreements = sum(1 if triplets_annotator_test[i][2] == triplets_annotator_test[i+1][2] else 0 for i in range(0, (N*2)-1, 2))\n",
    "count_agreements"
   ],
   "id": "76a5ef079ff2f11b",
   "outputs": [
    {
     "data": {
      "text/plain": [
       "12"
      ]
     },
     "execution_count": 45,
     "metadata": {},
     "output_type": "execute_result"
    }
   ],
   "execution_count": 45
  },
  {
   "metadata": {
    "ExecuteTime": {
     "end_time": "2024-07-12T08:27:35.548091Z",
     "start_time": "2024-07-12T08:27:35.544218Z"
    }
   },
   "cell_type": "code",
   "source": [
    "p_o = count_agreements / N\n",
    "p_o"
   ],
   "id": "836179771c48ee99",
   "outputs": [
    {
     "data": {
      "text/plain": [
       "1.0"
      ]
     },
     "execution_count": 46,
     "metadata": {},
     "output_type": "execute_result"
    }
   ],
   "execution_count": 46
  },
  {
   "metadata": {
    "ExecuteTime": {
     "end_time": "2024-07-12T08:27:35.554402Z",
     "start_time": "2024-07-12T08:27:35.548091Z"
    }
   },
   "cell_type": "code",
   "source": [
    "p_no = (sum(1 if (triplets_annotator_test[i][2] == 0 and triplets_annotator_test[i][0] == 1) else 0 for i in range(len(triplets_annotator_test))) * sum(1 if (triplets_annotator_test[i][2] == 0 and triplets_annotator_test[i][0] == 2) else 0 for i in range(len(triplets_annotator_test))))/ N**2\n",
    "\n",
    "p_yes = (sum(1 if (triplets_annotator_test[i][2] == 2 and triplets_annotator_test[i][0] == 1) else 0 for i in range(len(triplets_annotator_test))) * sum(1 if (triplets_annotator_test[i][2] == 2 and triplets_annotator_test[i][0] == 2) else 0 for i in range(len(triplets_annotator_test))))/ N**2\n",
    "\n",
    "p_unk = (sum(1 if (triplets_annotator_test[i][2] == 1 and triplets_annotator_test[i][0] == 1) else 0 for i in range(len(triplets_annotator_test))) * sum(1 if (triplets_annotator_test[i][2] == 1 and triplets_annotator_test[i][0] == 2) else 0 for i in range(len(triplets_annotator_test))))/ N**2\n",
    "\n",
    "p_e = p_no + p_yes + p_unk\n",
    "p_e"
   ],
   "id": "42bf45046517d46b",
   "outputs": [
    {
     "data": {
      "text/plain": [
       "0.3333333333333333"
      ]
     },
     "execution_count": 47,
     "metadata": {},
     "output_type": "execute_result"
    }
   ],
   "execution_count": 47
  },
  {
   "metadata": {
    "ExecuteTime": {
     "end_time": "2024-07-12T08:27:35.558600Z",
     "start_time": "2024-07-12T08:27:35.554402Z"
    }
   },
   "cell_type": "code",
   "source": [
    "k = 1 - ((1 - p_o) / (1 - p_e + 0.0000000001))\n",
    "k = (p_o - p_e) / (1 - p_e + 0.0000000001)\n",
    "k"
   ],
   "id": "1dc8a52a27b567f",
   "outputs": [
    {
     "data": {
      "text/plain": [
       "0.99999999985"
      ]
     },
     "execution_count": 48,
     "metadata": {},
     "output_type": "execute_result"
    }
   ],
   "execution_count": 48
  },
  {
   "metadata": {
    "ExecuteTime": {
     "end_time": "2024-07-12T08:27:35.562373Z",
     "start_time": "2024-07-12T08:27:35.558600Z"
    }
   },
   "cell_type": "code",
   "source": [
    "agreements_1_2_applicable = AnnotationTask(data=triplets_annotator_1_2_applicable, distance=binary_distance)\n",
    "print(f\"kappa 1,2 (applicable): {agreements_1_2_applicable.kappa()}\")\n",
    "print(f\"alpha 1,2 (applicable): {agreements_1_2_applicable.alpha()}\")"
   ],
   "id": "654e745fedf2cc6d",
   "outputs": [
    {
     "name": "stdout",
     "output_type": "stream",
     "text": [
      "kappa 1,2 (applicable): 0.22580645161290328\n",
      "alpha 1,2 (applicable): 0.10967741935483877\n"
     ]
    }
   ],
   "execution_count": 49
  },
  {
   "metadata": {
    "ExecuteTime": {
     "end_time": "2024-07-12T08:27:35.566225Z",
     "start_time": "2024-07-12T08:27:35.562373Z"
    }
   },
   "cell_type": "code",
   "source": [
    "agreements_1_2_applicable_interval = AnnotationTask(data=map_interval_data(triplets_annotator_1_2_applicable), distance=interval_distance)\n",
    "print(f\"Interval: kappa 1,2 (applicable): {agreements_1_2_applicable_interval.kappa()}\")\n",
    "print(f\"Interval: alpha 1,2 (applicable): {agreements_1_2_applicable_interval.alpha()}\")"
   ],
   "id": "74f914113165ccf2",
   "outputs": [
    {
     "name": "stdout",
     "output_type": "stream",
     "text": [
      "Interval: kappa 1,2 (applicable): 0.22580645161290328\n",
      "Interval: alpha 1,2 (applicable): 0.26595744680851063\n"
     ]
    }
   ],
   "execution_count": 50
  },
  {
   "metadata": {
    "ExecuteTime": {
     "end_time": "2024-07-12T08:27:35.570516Z",
     "start_time": "2024-07-12T08:27:35.566225Z"
    }
   },
   "cell_type": "code",
   "source": [
    "agreements_2_3_applicable = AnnotationTask(data=triplets_annotator_2_3_applicable, distance=binary_distance)\n",
    "print(f\"kappa 2,3 (applicable): {agreements_2_3_applicable.kappa()}\")\n",
    "print(f\"alpha 2,3 (applicable): {agreements_2_3_applicable.alpha()}\")"
   ],
   "id": "7bad698c907e0101",
   "outputs": [
    {
     "name": "stdout",
     "output_type": "stream",
     "text": [
      "kappa 2,3 (applicable): 0.12500000000000003\n",
      "alpha 2,3 (applicable): 0.058479532163742576\n"
     ]
    }
   ],
   "execution_count": 51
  },
  {
   "metadata": {
    "ExecuteTime": {
     "end_time": "2024-07-12T12:47:35.779926Z",
     "start_time": "2024-07-12T12:47:35.580262Z"
    }
   },
   "cell_type": "code",
   "source": [
    "agreements_1_3_applicable = AnnotationTask(data=triplets_annotator_1_3_applicable, distance=binary_distance)\n",
    "print(f\"kappa 1,3 (applicable): {agreements_1_3_applicable.kappa()}\")\n",
    "print(f\"alpha 1,3 (applicable): {agreements_1_3_applicable.alpha()}\")"
   ],
   "id": "15e337d2f6c44432",
   "outputs": [
    {
     "name": "stdout",
     "output_type": "stream",
     "text": [
      "kappa 1,3 (applicable): 0.33333333333333326\n",
      "alpha 1,3 (applicable): 0.28125\n"
     ]
    },
    {
     "ename": "TypeError",
     "evalue": "AnnotationTask.Disagreement() missing 1 required positional argument: 'label_freqs'",
     "output_type": "error",
     "traceback": [
      "\u001B[1;31m---------------------------------------------------------------------------\u001B[0m",
      "\u001B[1;31mTypeError\u001B[0m                                 Traceback (most recent call last)",
      "Cell \u001B[1;32mIn[125], line 4\u001B[0m\n\u001B[0;32m      2\u001B[0m \u001B[38;5;28mprint\u001B[39m(\u001B[38;5;124mf\u001B[39m\u001B[38;5;124m\"\u001B[39m\u001B[38;5;124mkappa 1,3 (applicable): \u001B[39m\u001B[38;5;132;01m{\u001B[39;00magreements_1_3_applicable\u001B[38;5;241m.\u001B[39mkappa()\u001B[38;5;132;01m}\u001B[39;00m\u001B[38;5;124m\"\u001B[39m)\n\u001B[0;32m      3\u001B[0m \u001B[38;5;28mprint\u001B[39m(\u001B[38;5;124mf\u001B[39m\u001B[38;5;124m\"\u001B[39m\u001B[38;5;124malpha 1,3 (applicable): \u001B[39m\u001B[38;5;132;01m{\u001B[39;00magreements_1_3_applicable\u001B[38;5;241m.\u001B[39malpha()\u001B[38;5;132;01m}\u001B[39;00m\u001B[38;5;124m\"\u001B[39m)\n\u001B[1;32m----> 4\u001B[0m \u001B[38;5;28mprint\u001B[39m(\u001B[38;5;124mf\u001B[39m\u001B[38;5;124m\"\u001B[39m\u001B[38;5;124malpha 1,3 (applicable): \u001B[39m\u001B[38;5;132;01m{\u001B[39;00m\u001B[38;5;250m \u001B[39m\u001B[38;5;241m1\u001B[39m\u001B[38;5;250m \u001B[39m\u001B[38;5;241m-\u001B[39m\u001B[38;5;250m \u001B[39m\u001B[43magreements_1_3_applicable\u001B[49m\u001B[38;5;241;43m.\u001B[39;49m\u001B[43mDisagreement\u001B[49m\u001B[43m(\u001B[49m\u001B[43m)\u001B[49m\u001B[38;5;132;01m}\u001B[39;00m\u001B[38;5;124m\"\u001B[39m)\n",
      "\u001B[1;31mTypeError\u001B[0m: AnnotationTask.Disagreement() missing 1 required positional argument: 'label_freqs'"
     ]
    }
   ],
   "execution_count": 125
  },
  {
   "metadata": {},
   "cell_type": "code",
   "outputs": [
    {
     "name": "stdout",
     "output_type": "stream",
     "text": [
      "Interval: kappa 2,3 (applicable): -0.24999999999999997\n",
      "Interval: alpha 2,3 (applicable): 0.08730158730158721\n"
     ]
    }
   ],
   "execution_count": 52,
   "source": [
    "agreements_2_3_applicable_interval = AnnotationTask(data=map_interval_data(triplets_annotator_2_3_applicable), distance=interval_distance)\n",
    "print(f\"Interval: kappa 2,3 (applicable): {agreements_2_3_applicable_interval.kappa()}\")\n",
    "print(f\"Interval: alpha 2,3 (applicable): {agreements_2_3_applicable_interval.alpha()}\")"
   ],
   "id": "8e2ae14edcaec410"
  },
  {
   "metadata": {
    "ExecuteTime": {
     "end_time": "2024-07-12T08:27:35.582970Z",
     "start_time": "2024-07-12T08:27:35.579238Z"
    }
   },
   "cell_type": "code",
   "source": [
    "agreements_1_3_applicable_interval = AnnotationTask(data=map_interval_data(triplets_annotator_1_3_applicable), distance=interval_distance)\n",
    "print(f\"Interval: kappa 1,3 (applicable): {agreements_1_3_applicable_interval.kappa()}\")\n",
    "print(f\"Interval: alpha 1,3 (applicable): {agreements_1_3_applicable_interval.alpha()}\")"
   ],
   "id": "325057ba19b9364f",
   "outputs": [
    {
     "name": "stdout",
     "output_type": "stream",
     "text": [
      "Interval: kappa 1,3 (applicable): 0.33333333333333326\n",
      "Interval: alpha 1,3 (applicable): 0.28125\n"
     ]
    }
   ],
   "execution_count": 54
  },
  {
   "metadata": {
    "ExecuteTime": {
     "end_time": "2024-07-12T08:27:35.587153Z",
     "start_time": "2024-07-12T08:27:35.582970Z"
    }
   },
   "cell_type": "code",
   "source": [
    "triplets_annotator_1_2_relevant = [triple for triple in triplets_annotator_1_2 if \"relevant\" in triple[1]]\n",
    "triplets_annotator_2_3_relevant = [triple for triple in triplets_annotator_2_3 if \"relevant\" in triple[1]]\n",
    "triplets_annotator_1_3_relevant = [triple for triple in triplets_annotator_1_3 if \"relevant\" in triple[1]]"
   ],
   "id": "ecb7659cd9ff1043",
   "outputs": [],
   "execution_count": 55
  },
  {
   "metadata": {
    "ExecuteTime": {
     "end_time": "2024-07-12T08:27:35.592675Z",
     "start_time": "2024-07-12T08:27:35.588126Z"
    }
   },
   "cell_type": "code",
   "source": "triplets_annotator_1_2_relevant",
   "id": "ffc58252b26d8220",
   "outputs": [
    {
     "data": {
      "text/plain": [
       "[(1, '1.relevant_1', 'Yes'),\n",
       " (2, '1.relevant_1', 'Yes'),\n",
       " (1, '1.relevant_2', 'Yes'),\n",
       " (2, '1.relevant_2', 'Yes'),\n",
       " (1, '1.relevant_3', 'Yes'),\n",
       " (2, '1.relevant_3', 'Yes'),\n",
       " (1, '10.relevant_1', 'No'),\n",
       " (2, '10.relevant_1', 'Yes'),\n",
       " (1, '10.relevant_2', 'No'),\n",
       " (2, '10.relevant_2', 'Yes'),\n",
       " (1, '10.relevant_3', 'No'),\n",
       " (2, '10.relevant_3', 'Yes'),\n",
       " (1, '11.relevant_1', 'No'),\n",
       " (2, '11.relevant_1', 'Yes'),\n",
       " (1, '11.relevant_2', 'No'),\n",
       " (2, '11.relevant_2', 'Yes'),\n",
       " (1, '11.relevant_3', 'No'),\n",
       " (2, '11.relevant_3', 'Yes'),\n",
       " (1, '12.relevant_1', 'No'),\n",
       " (2, '12.relevant_1', 'Yes'),\n",
       " (1, '12.relevant_2', 'No'),\n",
       " (2, '12.relevant_2', 'No'),\n",
       " (1, '12.relevant_3', 'No'),\n",
       " (2, '12.relevant_3', 'No'),\n",
       " (1, '2.relevant_1', 'Yes'),\n",
       " (2, '2.relevant_1', 'Yes'),\n",
       " (1, '2.relevant_2', 'Yes'),\n",
       " (2, '2.relevant_2', 'Yes'),\n",
       " (1, '2.relevant_3', 'No'),\n",
       " (2, '2.relevant_3', 'No'),\n",
       " (1, '3.relevant_1', 'No'),\n",
       " (2, '3.relevant_1', 'No'),\n",
       " (1, '3.relevant_2', 'No'),\n",
       " (2, '3.relevant_2', 'No'),\n",
       " (1, '3.relevant_3', 'No'),\n",
       " (2, '3.relevant_3', 'No'),\n",
       " (1, '4.relevant_1', 'Yes'),\n",
       " (2, '4.relevant_1', 'Yes'),\n",
       " (1, '4.relevant_2', 'Yes'),\n",
       " (2, '4.relevant_2', 'No'),\n",
       " (1, '4.relevant_3', 'No'),\n",
       " (2, '4.relevant_3', 'No'),\n",
       " (1, '5.relevant_1', 'Yes'),\n",
       " (2, '5.relevant_1', 'Yes'),\n",
       " (1, '5.relevant_2', 'Yes'),\n",
       " (2, '5.relevant_2', 'Yes'),\n",
       " (1, '5.relevant_3', 'No'),\n",
       " (2, '5.relevant_3', 'No'),\n",
       " (1, '6.relevant_1', 'Yes'),\n",
       " (2, '6.relevant_1', 'No'),\n",
       " (1, '6.relevant_2', 'No'),\n",
       " (2, '6.relevant_2', 'No'),\n",
       " (1, '6.relevant_3', 'No'),\n",
       " (2, '6.relevant_3', 'No'),\n",
       " (1, '7.relevant_1', 'No'),\n",
       " (2, '7.relevant_1', 'Yes'),\n",
       " (1, '7.relevant_2', 'Yes'),\n",
       " (2, '7.relevant_2', 'Yes'),\n",
       " (1, '7.relevant_3', 'No'),\n",
       " (2, '7.relevant_3', 'No'),\n",
       " (1, '8.relevant_1', 'No'),\n",
       " (2, '8.relevant_1', 'No'),\n",
       " (1, '8.relevant_2', 'No'),\n",
       " (2, '8.relevant_2', 'Yes'),\n",
       " (1, '8.relevant_3', 'No'),\n",
       " (2, '8.relevant_3', 'Yes'),\n",
       " (1, '9.relevant_1', 'No'),\n",
       " (2, '9.relevant_1', 'No'),\n",
       " (1, '9.relevant_2', 'No'),\n",
       " (2, '9.relevant_2', 'Yes'),\n",
       " (1, '9.relevant_3', 'No'),\n",
       " (2, '9.relevant_3', 'No')]"
      ]
     },
     "execution_count": 56,
     "metadata": {},
     "output_type": "execute_result"
    }
   ],
   "execution_count": 56
  },
  {
   "metadata": {
    "ExecuteTime": {
     "end_time": "2024-07-12T08:27:35.596538Z",
     "start_time": "2024-07-12T08:27:35.593181Z"
    }
   },
   "cell_type": "code",
   "source": [
    "agreements_1_2_relevant = AnnotationTask(data=triplets_annotator_1_2_relevant, distance=binary_distance)\n",
    "print(f\"kappa 1,2 (relevant): {agreements_1_2_relevant.kappa()}\")\n",
    "print(f\"alpha 1,2 (relevant): {agreements_1_2_relevant.alpha()}\")"
   ],
   "id": "ea3b78fdd6b8dac",
   "outputs": [
    {
     "name": "stdout",
     "output_type": "stream",
     "text": [
      "kappa 1,2 (relevant): 0.3076923076923076\n",
      "alpha 1,2 (relevant): 0.2738001573564123\n"
     ]
    }
   ],
   "execution_count": 57
  },
  {
   "metadata": {
    "ExecuteTime": {
     "end_time": "2024-07-12T08:27:35.600367Z",
     "start_time": "2024-07-12T08:27:35.596538Z"
    }
   },
   "cell_type": "code",
   "source": [
    "agreements_2_3_relevant = AnnotationTask(data=triplets_annotator_2_3_relevant, distance=binary_distance)\n",
    "print(f\"kappa 2,3 (relevant): {agreements_2_3_relevant.kappa()}\")\n",
    "print(f\"alpha 2,3 (relevant): {agreements_2_3_relevant.alpha()}\")"
   ],
   "id": "420c7b3f166b24a2",
   "outputs": [
    {
     "name": "stdout",
     "output_type": "stream",
     "text": [
      "kappa 2,3 (relevant): 0.2274678111587981\n",
      "alpha 2,3 (relevant): 0.2075892857142857\n"
     ]
    }
   ],
   "execution_count": 58
  },
  {
   "metadata": {
    "ExecuteTime": {
     "end_time": "2024-07-12T08:27:35.604149Z",
     "start_time": "2024-07-12T08:27:35.600367Z"
    }
   },
   "cell_type": "code",
   "source": [
    "agreements_1_3_relevant = AnnotationTask(data=triplets_annotator_1_3_relevant, distance=binary_distance)\n",
    "print(f\"kappa 1,3 (relevant): {agreements_1_3_relevant.kappa()}\")\n",
    "print(f\"alpha 1,3 (relevant): {agreements_1_3_relevant.alpha()}\")"
   ],
   "id": "dd9a5c7df1fa86ab",
   "outputs": [
    {
     "name": "stdout",
     "output_type": "stream",
     "text": [
      "kappa 1,3 (relevant): 0.653846153846154\n",
      "alpha 1,3 (relevant): 0.6542207792207793\n"
     ]
    }
   ],
   "execution_count": 59
  },
  {
   "metadata": {
    "ExecuteTime": {
     "end_time": "2024-07-12T08:27:35.607050Z",
     "start_time": "2024-07-12T08:27:35.604149Z"
    }
   },
   "cell_type": "code",
   "source": "all_annotations = triplets_annotator_1_2 + triplets_annotator_2_3 + triplets_annotator_1_3",
   "id": "fa7244c450a79333",
   "outputs": [],
   "execution_count": 60
  },
  {
   "metadata": {
    "ExecuteTime": {
     "end_time": "2024-07-12T08:27:35.616185Z",
     "start_time": "2024-07-12T08:27:35.607050Z"
    }
   },
   "cell_type": "code",
   "source": "all_annotations",
   "id": "9aa00c69efaeb07d",
   "outputs": [
    {
     "data": {
      "text/plain": [
       "[(1, '1.applicable', 'Yes'),\n",
       " (2, '1.applicable', 'Yes'),\n",
       " (1, '1.relevant_1', 'Yes'),\n",
       " (2, '1.relevant_1', 'Yes'),\n",
       " (1, '1.relevant_2', 'Yes'),\n",
       " (2, '1.relevant_2', 'Yes'),\n",
       " (1, '1.relevant_3', 'Yes'),\n",
       " (2, '1.relevant_3', 'Yes'),\n",
       " (1, '10.applicable', 'Unclear'),\n",
       " (2, '10.applicable', 'Yes'),\n",
       " (1, '10.relevant_1', 'No'),\n",
       " (2, '10.relevant_1', 'Yes'),\n",
       " (1, '10.relevant_2', 'No'),\n",
       " (2, '10.relevant_2', 'Yes'),\n",
       " (1, '10.relevant_3', 'No'),\n",
       " (2, '10.relevant_3', 'Yes'),\n",
       " (1, '11.applicable', 'Unclear'),\n",
       " (2, '11.applicable', 'Yes'),\n",
       " (1, '11.relevant_1', 'No'),\n",
       " (2, '11.relevant_1', 'Yes'),\n",
       " (1, '11.relevant_2', 'No'),\n",
       " (2, '11.relevant_2', 'Yes'),\n",
       " (1, '11.relevant_3', 'No'),\n",
       " (2, '11.relevant_3', 'Yes'),\n",
       " (1, '12.applicable', 'Unclear'),\n",
       " (2, '12.applicable', 'No'),\n",
       " (1, '12.relevant_1', 'No'),\n",
       " (2, '12.relevant_1', 'Yes'),\n",
       " (1, '12.relevant_2', 'No'),\n",
       " (2, '12.relevant_2', 'No'),\n",
       " (1, '12.relevant_3', 'No'),\n",
       " (2, '12.relevant_3', 'No'),\n",
       " (1, '2.applicable', 'Yes'),\n",
       " (2, '2.applicable', 'Yes'),\n",
       " (1, '2.relevant_1', 'Yes'),\n",
       " (2, '2.relevant_1', 'Yes'),\n",
       " (1, '2.relevant_2', 'Yes'),\n",
       " (2, '2.relevant_2', 'Yes'),\n",
       " (1, '2.relevant_3', 'No'),\n",
       " (2, '2.relevant_3', 'No'),\n",
       " (1, '3.applicable', 'Unclear'),\n",
       " (2, '3.applicable', 'Unclear'),\n",
       " (1, '3.relevant_1', 'No'),\n",
       " (2, '3.relevant_1', 'No'),\n",
       " (1, '3.relevant_2', 'No'),\n",
       " (2, '3.relevant_2', 'No'),\n",
       " (1, '3.relevant_3', 'No'),\n",
       " (2, '3.relevant_3', 'No'),\n",
       " (1, '4.applicable', 'Unclear'),\n",
       " (2, '4.applicable', 'Yes'),\n",
       " (1, '4.relevant_1', 'Yes'),\n",
       " (2, '4.relevant_1', 'Yes'),\n",
       " (1, '4.relevant_2', 'Yes'),\n",
       " (2, '4.relevant_2', 'No'),\n",
       " (1, '4.relevant_3', 'No'),\n",
       " (2, '4.relevant_3', 'No'),\n",
       " (1, '5.applicable', 'Yes'),\n",
       " (2, '5.applicable', 'Yes'),\n",
       " (1, '5.relevant_1', 'Yes'),\n",
       " (2, '5.relevant_1', 'Yes'),\n",
       " (1, '5.relevant_2', 'Yes'),\n",
       " (2, '5.relevant_2', 'Yes'),\n",
       " (1, '5.relevant_3', 'No'),\n",
       " (2, '5.relevant_3', 'No'),\n",
       " (1, '6.applicable', 'Unclear'),\n",
       " (2, '6.applicable', 'Unclear'),\n",
       " (1, '6.relevant_1', 'Yes'),\n",
       " (2, '6.relevant_1', 'No'),\n",
       " (1, '6.relevant_2', 'No'),\n",
       " (2, '6.relevant_2', 'No'),\n",
       " (1, '6.relevant_3', 'No'),\n",
       " (2, '6.relevant_3', 'No'),\n",
       " (1, '7.applicable', 'Unclear'),\n",
       " (2, '7.applicable', 'Yes'),\n",
       " (1, '7.relevant_1', 'No'),\n",
       " (2, '7.relevant_1', 'Yes'),\n",
       " (1, '7.relevant_2', 'Yes'),\n",
       " (2, '7.relevant_2', 'Yes'),\n",
       " (1, '7.relevant_3', 'No'),\n",
       " (2, '7.relevant_3', 'No'),\n",
       " (1, '8.applicable', 'Unclear'),\n",
       " (2, '8.applicable', 'Yes'),\n",
       " (1, '8.relevant_1', 'No'),\n",
       " (2, '8.relevant_1', 'No'),\n",
       " (1, '8.relevant_2', 'No'),\n",
       " (2, '8.relevant_2', 'Yes'),\n",
       " (1, '8.relevant_3', 'No'),\n",
       " (2, '8.relevant_3', 'Yes'),\n",
       " (1, '9.applicable', 'Unclear'),\n",
       " (2, '9.applicable', 'Unclear'),\n",
       " (1, '9.relevant_1', 'No'),\n",
       " (2, '9.relevant_1', 'No'),\n",
       " (1, '9.relevant_2', 'No'),\n",
       " (2, '9.relevant_2', 'Yes'),\n",
       " (1, '9.relevant_3', 'No'),\n",
       " (2, '9.relevant_3', 'No'),\n",
       " (2, '13.applicable', 'Unclear'),\n",
       " (3, '13.applicable', 'Unclear'),\n",
       " (2, '13.relevant_1', 'No'),\n",
       " (3, '13.relevant_1', 'Yes'),\n",
       " (2, '13.relevant_2', 'No'),\n",
       " (3, '13.relevant_2', 'No'),\n",
       " (2, '13.relevant_3', 'No'),\n",
       " (3, '13.relevant_3', 'No'),\n",
       " (2, '14.applicable', 'No'),\n",
       " (3, '14.applicable', 'No'),\n",
       " (2, '14.relevant_1', 'Yes'),\n",
       " (3, '14.relevant_1', 'Yes'),\n",
       " (2, '14.relevant_2', 'No'),\n",
       " (3, '14.relevant_2', 'No'),\n",
       " (2, '14.relevant_3', 'No'),\n",
       " (3, '14.relevant_3', 'No'),\n",
       " (2, '15.applicable', 'Yes'),\n",
       " (3, '15.applicable', 'Unclear'),\n",
       " (2, '15.relevant_1', 'Yes'),\n",
       " (3, '15.relevant_1', 'No'),\n",
       " (2, '15.relevant_2', 'No'),\n",
       " (3, '15.relevant_2', 'No'),\n",
       " (2, '15.relevant_3', 'No'),\n",
       " (3, '15.relevant_3', 'No'),\n",
       " (2, '16.applicable', 'Yes'),\n",
       " (3, '16.applicable', 'No'),\n",
       " (2, '16.relevant_1', 'Yes'),\n",
       " (3, '16.relevant_1', 'Yes'),\n",
       " (2, '16.relevant_2', 'No'),\n",
       " (3, '16.relevant_2', 'No'),\n",
       " (2, '16.relevant_3', 'No'),\n",
       " (3, '16.relevant_3', 'No'),\n",
       " (2, '17.applicable', 'Unclear'),\n",
       " (3, '17.applicable', 'Unclear'),\n",
       " (2, '17.relevant_1', 'No'),\n",
       " (3, '17.relevant_1', 'No'),\n",
       " (2, '17.relevant_2', 'No'),\n",
       " (3, '17.relevant_2', 'No'),\n",
       " (2, '17.relevant_3', 'No'),\n",
       " (3, '17.relevant_3', 'No'),\n",
       " (2, '18.applicable', 'Yes'),\n",
       " (3, '18.applicable', 'Unclear'),\n",
       " (2, '18.relevant_1', 'Yes'),\n",
       " (3, '18.relevant_1', 'No'),\n",
       " (2, '18.relevant_2', 'No'),\n",
       " (3, '18.relevant_2', 'No'),\n",
       " (2, '18.relevant_3', 'No'),\n",
       " (3, '18.relevant_3', 'No'),\n",
       " (2, '19.applicable', 'Unclear'),\n",
       " (3, '19.applicable', 'Unclear'),\n",
       " (2, '19.relevant_1', 'No'),\n",
       " (3, '19.relevant_1', 'No'),\n",
       " (2, '19.relevant_2', 'No'),\n",
       " (3, '19.relevant_2', 'No'),\n",
       " (2, '19.relevant_3', 'No'),\n",
       " (3, '19.relevant_3', 'No'),\n",
       " (2, '20.applicable', 'Yes'),\n",
       " (3, '20.applicable', 'Unclear'),\n",
       " (2, '20.relevant_1', 'Yes'),\n",
       " (3, '20.relevant_1', 'No'),\n",
       " (2, '20.relevant_2', 'No'),\n",
       " (3, '20.relevant_2', 'No'),\n",
       " (2, '20.relevant_3', 'Yes'),\n",
       " (3, '20.relevant_3', 'No'),\n",
       " (2, '21.applicable', 'Yes'),\n",
       " (3, '21.applicable', 'Yes'),\n",
       " (2, '21.relevant_1', 'No'),\n",
       " (3, '21.relevant_1', 'Yes'),\n",
       " (2, '21.relevant_2', 'No'),\n",
       " (3, '21.relevant_2', 'No'),\n",
       " (2, '21.relevant_3', 'No'),\n",
       " (3, '21.relevant_3', 'No'),\n",
       " (2, '22.applicable', 'Yes'),\n",
       " (3, '22.applicable', 'Unclear'),\n",
       " (2, '22.relevant_1', 'Yes'),\n",
       " (3, '22.relevant_1', 'No'),\n",
       " (2, '22.relevant_2', 'Yes'),\n",
       " (3, '22.relevant_2', 'No'),\n",
       " (2, '22.relevant_3', 'Yes'),\n",
       " (3, '22.relevant_3', 'No'),\n",
       " (2, '23.applicable', 'Yes'),\n",
       " (3, '23.applicable', 'Unclear'),\n",
       " (2, '23.relevant_1', 'No'),\n",
       " (3, '23.relevant_1', 'No'),\n",
       " (2, '23.relevant_2', 'No'),\n",
       " (3, '23.relevant_2', 'No'),\n",
       " (2, '23.relevant_3', 'Yes'),\n",
       " (3, '23.relevant_3', 'No'),\n",
       " (2, '24.applicable', 'Unclear'),\n",
       " (3, '24.applicable', 'Yes'),\n",
       " (2, '24.relevant_1', 'No'),\n",
       " (3, '24.relevant_1', 'No'),\n",
       " (2, '24.relevant_2', 'Yes'),\n",
       " (3, '24.relevant_2', 'Yes'),\n",
       " (2, '24.relevant_3', 'No'),\n",
       " (3, '24.relevant_3', 'No'),\n",
       " (1, '25.applicable', 'Unclear'),\n",
       " (3, '25.applicable', 'Unclear'),\n",
       " (1, '25.relevant_1', 'No'),\n",
       " (3, '25.relevant_1', 'No'),\n",
       " (1, '25.relevant_2', 'No'),\n",
       " (3, '25.relevant_2', 'No'),\n",
       " (1, '25.relevant_3', 'No'),\n",
       " (3, '25.relevant_3', 'No'),\n",
       " (1, '26.applicable', 'Unclear'),\n",
       " (3, '26.applicable', 'Unclear'),\n",
       " (1, '26.relevant_1', 'No'),\n",
       " (3, '26.relevant_1', 'No'),\n",
       " (1, '26.relevant_2', 'No'),\n",
       " (3, '26.relevant_2', 'No'),\n",
       " (1, '26.relevant_3', 'No'),\n",
       " (3, '26.relevant_3', 'No'),\n",
       " (1, '27.applicable', 'Unclear'),\n",
       " (3, '27.applicable', 'Unclear'),\n",
       " (1, '27.relevant_1', 'No'),\n",
       " (3, '27.relevant_1', 'No'),\n",
       " (1, '27.relevant_2', 'No'),\n",
       " (3, '27.relevant_2', 'No'),\n",
       " (1, '27.relevant_3', 'No'),\n",
       " (3, '27.relevant_3', 'No'),\n",
       " (1, '28.applicable', 'Unclear'),\n",
       " (3, '28.applicable', 'Unclear'),\n",
       " (1, '28.relevant_1', 'No'),\n",
       " (3, '28.relevant_1', 'No'),\n",
       " (1, '28.relevant_2', 'No'),\n",
       " (3, '28.relevant_2', 'No'),\n",
       " (1, '28.relevant_3', 'No'),\n",
       " (3, '28.relevant_3', 'No'),\n",
       " (1, '29.applicable', 'Unclear'),\n",
       " (3, '29.applicable', 'Unclear'),\n",
       " (1, '29.relevant_1', 'No'),\n",
       " (3, '29.relevant_1', 'Yes'),\n",
       " (1, '29.relevant_2', 'No'),\n",
       " (3, '29.relevant_2', 'No'),\n",
       " (1, '29.relevant_3', 'No'),\n",
       " (3, '29.relevant_3', 'No'),\n",
       " (1, '30.applicable', 'Yes'),\n",
       " (3, '30.applicable', 'Unclear'),\n",
       " (1, '30.relevant_1', 'Yes'),\n",
       " (3, '30.relevant_1', 'Yes'),\n",
       " (1, '30.relevant_2', 'Yes'),\n",
       " (3, '30.relevant_2', 'No'),\n",
       " (1, '30.relevant_3', 'Yes'),\n",
       " (3, '30.relevant_3', 'Yes'),\n",
       " (1, '31.applicable', 'Yes'),\n",
       " (3, '31.applicable', 'Yes'),\n",
       " (1, '31.relevant_1', 'Yes'),\n",
       " (3, '31.relevant_1', 'Yes'),\n",
       " (1, '31.relevant_2', 'Yes'),\n",
       " (3, '31.relevant_2', 'Yes'),\n",
       " (1, '31.relevant_3', 'Yes'),\n",
       " (3, '31.relevant_3', 'Yes'),\n",
       " (1, '32.applicable', 'Unclear'),\n",
       " (3, '32.applicable', 'Unclear'),\n",
       " (1, '32.relevant_1', 'No'),\n",
       " (3, '32.relevant_1', 'No'),\n",
       " (1, '32.relevant_2', 'No'),\n",
       " (3, '32.relevant_2', 'No'),\n",
       " (1, '32.relevant_3', 'No'),\n",
       " (3, '32.relevant_3', 'No'),\n",
       " (1, '33.applicable', 'Yes'),\n",
       " (3, '33.applicable', 'Unclear'),\n",
       " (1, '33.relevant_1', 'Yes'),\n",
       " (3, '33.relevant_1', 'No'),\n",
       " (1, '33.relevant_2', 'No'),\n",
       " (3, '33.relevant_2', 'No'),\n",
       " (1, '33.relevant_3', 'No'),\n",
       " (3, '33.relevant_3', 'No'),\n",
       " (1, '34.applicable', 'Yes'),\n",
       " (3, '34.applicable', 'Unclear'),\n",
       " (1, '34.relevant_1', 'Yes'),\n",
       " (3, '34.relevant_1', 'No'),\n",
       " (1, '34.relevant_2', 'Yes'),\n",
       " (3, '34.relevant_2', 'Yes'),\n",
       " (1, '34.relevant_3', 'Yes'),\n",
       " (3, '34.relevant_3', 'Yes'),\n",
       " (1, '35.applicable', 'Yes'),\n",
       " (3, '35.applicable', 'Unclear'),\n",
       " (1, '35.relevant_1', 'Yes'),\n",
       " (3, '35.relevant_1', 'Yes'),\n",
       " (1, '35.relevant_2', 'Yes'),\n",
       " (3, '35.relevant_2', 'No'),\n",
       " (1, '35.relevant_3', 'Yes'),\n",
       " (3, '35.relevant_3', 'No'),\n",
       " (1, '36.applicable', 'Yes'),\n",
       " (3, '36.applicable', 'Yes'),\n",
       " (1, '36.relevant_1', 'Yes'),\n",
       " (3, '36.relevant_1', 'Yes'),\n",
       " (1, '36.relevant_2', 'Yes'),\n",
       " (3, '36.relevant_2', 'Yes'),\n",
       " (1, '36.relevant_3', 'Yes'),\n",
       " (3, '36.relevant_3', 'Yes')]"
      ]
     },
     "execution_count": 61,
     "metadata": {},
     "output_type": "execute_result"
    }
   ],
   "execution_count": 61
  },
  {
   "metadata": {
    "ExecuteTime": {
     "end_time": "2024-07-12T08:27:35.623297Z",
     "start_time": "2024-07-12T08:27:35.616185Z"
    }
   },
   "cell_type": "code",
   "source": [
    "agreements_all = AnnotationTask(data=all_annotations, distance=binary_distance)\n",
    "print(f\"alpha all: {agreements_all.alpha()}\")"
   ],
   "id": "eaea84849d0f600e",
   "outputs": [
    {
     "name": "stdout",
     "output_type": "stream",
     "text": [
      "alpha all: 0.46883926775296725\n"
     ]
    }
   ],
   "execution_count": 62
  },
  {
   "metadata": {
    "ExecuteTime": {
     "end_time": "2024-07-12T08:27:35.626779Z",
     "start_time": "2024-07-12T08:27:35.623297Z"
    }
   },
   "cell_type": "code",
   "source": [
    "all_annotations_applicable = triplets_annotator_1_2_applicable + triplets_annotator_2_3_applicable + triplets_annotator_1_3_applicable\n",
    "all_annotations_applicable = sorted(all_annotations_applicable, key=lambda x: int(str(x[1]).split('.')[0]))"
   ],
   "id": "88747f019047c957",
   "outputs": [],
   "execution_count": 63
  },
  {
   "metadata": {
    "ExecuteTime": {
     "end_time": "2024-07-12T08:27:35.631977Z",
     "start_time": "2024-07-12T08:27:35.626779Z"
    }
   },
   "cell_type": "code",
   "source": "all_annotations_applicable",
   "id": "94ca6b30be1c045",
   "outputs": [
    {
     "data": {
      "text/plain": [
       "[(1, '1.applicable', 'Yes'),\n",
       " (2, '1.applicable', 'Yes'),\n",
       " (1, '2.applicable', 'Yes'),\n",
       " (2, '2.applicable', 'Yes'),\n",
       " (1, '3.applicable', 'Unclear'),\n",
       " (2, '3.applicable', 'Unclear'),\n",
       " (1, '4.applicable', 'Unclear'),\n",
       " (2, '4.applicable', 'Yes'),\n",
       " (1, '5.applicable', 'Yes'),\n",
       " (2, '5.applicable', 'Yes'),\n",
       " (1, '6.applicable', 'Unclear'),\n",
       " (2, '6.applicable', 'Unclear'),\n",
       " (1, '7.applicable', 'Unclear'),\n",
       " (2, '7.applicable', 'Yes'),\n",
       " (1, '8.applicable', 'Unclear'),\n",
       " (2, '8.applicable', 'Yes'),\n",
       " (1, '9.applicable', 'Unclear'),\n",
       " (2, '9.applicable', 'Unclear'),\n",
       " (1, '10.applicable', 'Unclear'),\n",
       " (2, '10.applicable', 'Yes'),\n",
       " (1, '11.applicable', 'Unclear'),\n",
       " (2, '11.applicable', 'Yes'),\n",
       " (1, '12.applicable', 'Unclear'),\n",
       " (2, '12.applicable', 'No'),\n",
       " (2, '13.applicable', 'Unclear'),\n",
       " (3, '13.applicable', 'Unclear'),\n",
       " (2, '14.applicable', 'No'),\n",
       " (3, '14.applicable', 'No'),\n",
       " (2, '15.applicable', 'Yes'),\n",
       " (3, '15.applicable', 'Unclear'),\n",
       " (2, '16.applicable', 'Yes'),\n",
       " (3, '16.applicable', 'No'),\n",
       " (2, '17.applicable', 'Unclear'),\n",
       " (3, '17.applicable', 'Unclear'),\n",
       " (2, '18.applicable', 'Yes'),\n",
       " (3, '18.applicable', 'Unclear'),\n",
       " (2, '19.applicable', 'Unclear'),\n",
       " (3, '19.applicable', 'Unclear'),\n",
       " (2, '20.applicable', 'Yes'),\n",
       " (3, '20.applicable', 'Unclear'),\n",
       " (2, '21.applicable', 'Yes'),\n",
       " (3, '21.applicable', 'Yes'),\n",
       " (2, '22.applicable', 'Yes'),\n",
       " (3, '22.applicable', 'Unclear'),\n",
       " (2, '23.applicable', 'Yes'),\n",
       " (3, '23.applicable', 'Unclear'),\n",
       " (2, '24.applicable', 'Unclear'),\n",
       " (3, '24.applicable', 'Yes'),\n",
       " (1, '25.applicable', 'Unclear'),\n",
       " (3, '25.applicable', 'Unclear'),\n",
       " (1, '26.applicable', 'Unclear'),\n",
       " (3, '26.applicable', 'Unclear'),\n",
       " (1, '27.applicable', 'Unclear'),\n",
       " (3, '27.applicable', 'Unclear'),\n",
       " (1, '28.applicable', 'Unclear'),\n",
       " (3, '28.applicable', 'Unclear'),\n",
       " (1, '29.applicable', 'Unclear'),\n",
       " (3, '29.applicable', 'Unclear'),\n",
       " (1, '30.applicable', 'Yes'),\n",
       " (3, '30.applicable', 'Unclear'),\n",
       " (1, '31.applicable', 'Yes'),\n",
       " (3, '31.applicable', 'Yes'),\n",
       " (1, '32.applicable', 'Unclear'),\n",
       " (3, '32.applicable', 'Unclear'),\n",
       " (1, '33.applicable', 'Yes'),\n",
       " (3, '33.applicable', 'Unclear'),\n",
       " (1, '34.applicable', 'Yes'),\n",
       " (3, '34.applicable', 'Unclear'),\n",
       " (1, '35.applicable', 'Yes'),\n",
       " (3, '35.applicable', 'Unclear'),\n",
       " (1, '36.applicable', 'Yes'),\n",
       " (3, '36.applicable', 'Yes')]"
      ]
     },
     "execution_count": 64,
     "metadata": {},
     "output_type": "execute_result"
    }
   ],
   "execution_count": 64
  },
  {
   "metadata": {
    "ExecuteTime": {
     "end_time": "2024-07-12T08:27:35.635544Z",
     "start_time": "2024-07-12T08:27:35.631977Z"
    }
   },
   "cell_type": "code",
   "source": [
    "agreements_all_applicable = AnnotationTask(data=all_annotations_applicable, distance=binary_distance)\n",
    "print(f\"alpha all (applicable): {agreements_all_applicable.alpha()}\")"
   ],
   "id": "3b49afeab133bb2f",
   "outputs": [
    {
     "name": "stdout",
     "output_type": "stream",
     "text": [
      "alpha all (applicable): 0.1329022988505747\n"
     ]
    }
   ],
   "execution_count": 65
  },
  {
   "metadata": {
    "ExecuteTime": {
     "end_time": "2024-07-12T08:27:35.640939Z",
     "start_time": "2024-07-12T08:27:35.635544Z"
    }
   },
   "cell_type": "code",
   "source": [
    "all_annotations_applicable_interval = map_interval_data(all_annotations_applicable)\n",
    "all_annotations_applicable_interval"
   ],
   "id": "9d2ca2dddc2153ba",
   "outputs": [
    {
     "data": {
      "text/plain": [
       "[(1, '1.applicable', 2),\n",
       " (2, '1.applicable', 2),\n",
       " (1, '2.applicable', 2),\n",
       " (2, '2.applicable', 2),\n",
       " (1, '3.applicable', 1),\n",
       " (2, '3.applicable', 1),\n",
       " (1, '4.applicable', 1),\n",
       " (2, '4.applicable', 2),\n",
       " (1, '5.applicable', 2),\n",
       " (2, '5.applicable', 2),\n",
       " (1, '6.applicable', 1),\n",
       " (2, '6.applicable', 1),\n",
       " (1, '7.applicable', 1),\n",
       " (2, '7.applicable', 2),\n",
       " (1, '8.applicable', 1),\n",
       " (2, '8.applicable', 2),\n",
       " (1, '9.applicable', 1),\n",
       " (2, '9.applicable', 1),\n",
       " (1, '10.applicable', 1),\n",
       " (2, '10.applicable', 2),\n",
       " (1, '11.applicable', 1),\n",
       " (2, '11.applicable', 2),\n",
       " (1, '12.applicable', 1),\n",
       " (2, '12.applicable', 0),\n",
       " (2, '13.applicable', 1),\n",
       " (3, '13.applicable', 1),\n",
       " (2, '14.applicable', 0),\n",
       " (3, '14.applicable', 0),\n",
       " (2, '15.applicable', 2),\n",
       " (3, '15.applicable', 1),\n",
       " (2, '16.applicable', 2),\n",
       " (3, '16.applicable', 0),\n",
       " (2, '17.applicable', 1),\n",
       " (3, '17.applicable', 1),\n",
       " (2, '18.applicable', 2),\n",
       " (3, '18.applicable', 1),\n",
       " (2, '19.applicable', 1),\n",
       " (3, '19.applicable', 1),\n",
       " (2, '20.applicable', 2),\n",
       " (3, '20.applicable', 1),\n",
       " (2, '21.applicable', 2),\n",
       " (3, '21.applicable', 2),\n",
       " (2, '22.applicable', 2),\n",
       " (3, '22.applicable', 1),\n",
       " (2, '23.applicable', 2),\n",
       " (3, '23.applicable', 1),\n",
       " (2, '24.applicable', 1),\n",
       " (3, '24.applicable', 2),\n",
       " (1, '25.applicable', 1),\n",
       " (3, '25.applicable', 1),\n",
       " (1, '26.applicable', 1),\n",
       " (3, '26.applicable', 1),\n",
       " (1, '27.applicable', 1),\n",
       " (3, '27.applicable', 1),\n",
       " (1, '28.applicable', 1),\n",
       " (3, '28.applicable', 1),\n",
       " (1, '29.applicable', 1),\n",
       " (3, '29.applicable', 1),\n",
       " (1, '30.applicable', 2),\n",
       " (3, '30.applicable', 1),\n",
       " (1, '31.applicable', 2),\n",
       " (3, '31.applicable', 2),\n",
       " (1, '32.applicable', 1),\n",
       " (3, '32.applicable', 1),\n",
       " (1, '33.applicable', 2),\n",
       " (3, '33.applicable', 1),\n",
       " (1, '34.applicable', 2),\n",
       " (3, '34.applicable', 1),\n",
       " (1, '35.applicable', 2),\n",
       " (3, '35.applicable', 1),\n",
       " (1, '36.applicable', 2),\n",
       " (3, '36.applicable', 2)]"
      ]
     },
     "execution_count": 66,
     "metadata": {},
     "output_type": "execute_result"
    }
   ],
   "execution_count": 66
  },
  {
   "metadata": {
    "ExecuteTime": {
     "end_time": "2024-07-12T08:27:35.644357Z",
     "start_time": "2024-07-12T08:27:35.640939Z"
    }
   },
   "cell_type": "code",
   "source": [
    "agreements_all_applicable_interval = AnnotationTask(data=all_annotations_applicable_interval, distance=interval_distance)\n",
    "print(f\"alpha all (applicable interval): {agreements_all_applicable_interval.alpha()}\")"
   ],
   "id": "6a249d49fddbf1ff",
   "outputs": [
    {
     "name": "stdout",
     "output_type": "stream",
     "text": [
      "alpha all (applicable interval): 0.1782407407407407\n"
     ]
    }
   ],
   "execution_count": 67
  },
  {
   "metadata": {
    "ExecuteTime": {
     "end_time": "2024-07-12T08:27:35.647319Z",
     "start_time": "2024-07-12T08:27:35.644357Z"
    }
   },
   "cell_type": "code",
   "source": "all_annotations_relevant = triplets_annotator_1_2_relevant + triplets_annotator_2_3_relevant + triplets_annotator_1_3_relevant",
   "id": "662cba353b3b5f71",
   "outputs": [],
   "execution_count": 68
  },
  {
   "metadata": {
    "ExecuteTime": {
     "end_time": "2024-07-12T08:27:35.655107Z",
     "start_time": "2024-07-12T08:27:35.647319Z"
    }
   },
   "cell_type": "code",
   "source": "all_annotations_relevant",
   "id": "7c9f7c572314f9cc",
   "outputs": [
    {
     "data": {
      "text/plain": [
       "[(1, '1.relevant_1', 'Yes'),\n",
       " (2, '1.relevant_1', 'Yes'),\n",
       " (1, '1.relevant_2', 'Yes'),\n",
       " (2, '1.relevant_2', 'Yes'),\n",
       " (1, '1.relevant_3', 'Yes'),\n",
       " (2, '1.relevant_3', 'Yes'),\n",
       " (1, '10.relevant_1', 'No'),\n",
       " (2, '10.relevant_1', 'Yes'),\n",
       " (1, '10.relevant_2', 'No'),\n",
       " (2, '10.relevant_2', 'Yes'),\n",
       " (1, '10.relevant_3', 'No'),\n",
       " (2, '10.relevant_3', 'Yes'),\n",
       " (1, '11.relevant_1', 'No'),\n",
       " (2, '11.relevant_1', 'Yes'),\n",
       " (1, '11.relevant_2', 'No'),\n",
       " (2, '11.relevant_2', 'Yes'),\n",
       " (1, '11.relevant_3', 'No'),\n",
       " (2, '11.relevant_3', 'Yes'),\n",
       " (1, '12.relevant_1', 'No'),\n",
       " (2, '12.relevant_1', 'Yes'),\n",
       " (1, '12.relevant_2', 'No'),\n",
       " (2, '12.relevant_2', 'No'),\n",
       " (1, '12.relevant_3', 'No'),\n",
       " (2, '12.relevant_3', 'No'),\n",
       " (1, '2.relevant_1', 'Yes'),\n",
       " (2, '2.relevant_1', 'Yes'),\n",
       " (1, '2.relevant_2', 'Yes'),\n",
       " (2, '2.relevant_2', 'Yes'),\n",
       " (1, '2.relevant_3', 'No'),\n",
       " (2, '2.relevant_3', 'No'),\n",
       " (1, '3.relevant_1', 'No'),\n",
       " (2, '3.relevant_1', 'No'),\n",
       " (1, '3.relevant_2', 'No'),\n",
       " (2, '3.relevant_2', 'No'),\n",
       " (1, '3.relevant_3', 'No'),\n",
       " (2, '3.relevant_3', 'No'),\n",
       " (1, '4.relevant_1', 'Yes'),\n",
       " (2, '4.relevant_1', 'Yes'),\n",
       " (1, '4.relevant_2', 'Yes'),\n",
       " (2, '4.relevant_2', 'No'),\n",
       " (1, '4.relevant_3', 'No'),\n",
       " (2, '4.relevant_3', 'No'),\n",
       " (1, '5.relevant_1', 'Yes'),\n",
       " (2, '5.relevant_1', 'Yes'),\n",
       " (1, '5.relevant_2', 'Yes'),\n",
       " (2, '5.relevant_2', 'Yes'),\n",
       " (1, '5.relevant_3', 'No'),\n",
       " (2, '5.relevant_3', 'No'),\n",
       " (1, '6.relevant_1', 'Yes'),\n",
       " (2, '6.relevant_1', 'No'),\n",
       " (1, '6.relevant_2', 'No'),\n",
       " (2, '6.relevant_2', 'No'),\n",
       " (1, '6.relevant_3', 'No'),\n",
       " (2, '6.relevant_3', 'No'),\n",
       " (1, '7.relevant_1', 'No'),\n",
       " (2, '7.relevant_1', 'Yes'),\n",
       " (1, '7.relevant_2', 'Yes'),\n",
       " (2, '7.relevant_2', 'Yes'),\n",
       " (1, '7.relevant_3', 'No'),\n",
       " (2, '7.relevant_3', 'No'),\n",
       " (1, '8.relevant_1', 'No'),\n",
       " (2, '8.relevant_1', 'No'),\n",
       " (1, '8.relevant_2', 'No'),\n",
       " (2, '8.relevant_2', 'Yes'),\n",
       " (1, '8.relevant_3', 'No'),\n",
       " (2, '8.relevant_3', 'Yes'),\n",
       " (1, '9.relevant_1', 'No'),\n",
       " (2, '9.relevant_1', 'No'),\n",
       " (1, '9.relevant_2', 'No'),\n",
       " (2, '9.relevant_2', 'Yes'),\n",
       " (1, '9.relevant_3', 'No'),\n",
       " (2, '9.relevant_3', 'No'),\n",
       " (2, '13.relevant_1', 'No'),\n",
       " (3, '13.relevant_1', 'Yes'),\n",
       " (2, '13.relevant_2', 'No'),\n",
       " (3, '13.relevant_2', 'No'),\n",
       " (2, '13.relevant_3', 'No'),\n",
       " (3, '13.relevant_3', 'No'),\n",
       " (2, '14.relevant_1', 'Yes'),\n",
       " (3, '14.relevant_1', 'Yes'),\n",
       " (2, '14.relevant_2', 'No'),\n",
       " (3, '14.relevant_2', 'No'),\n",
       " (2, '14.relevant_3', 'No'),\n",
       " (3, '14.relevant_3', 'No'),\n",
       " (2, '15.relevant_1', 'Yes'),\n",
       " (3, '15.relevant_1', 'No'),\n",
       " (2, '15.relevant_2', 'No'),\n",
       " (3, '15.relevant_2', 'No'),\n",
       " (2, '15.relevant_3', 'No'),\n",
       " (3, '15.relevant_3', 'No'),\n",
       " (2, '16.relevant_1', 'Yes'),\n",
       " (3, '16.relevant_1', 'Yes'),\n",
       " (2, '16.relevant_2', 'No'),\n",
       " (3, '16.relevant_2', 'No'),\n",
       " (2, '16.relevant_3', 'No'),\n",
       " (3, '16.relevant_3', 'No'),\n",
       " (2, '17.relevant_1', 'No'),\n",
       " (3, '17.relevant_1', 'No'),\n",
       " (2, '17.relevant_2', 'No'),\n",
       " (3, '17.relevant_2', 'No'),\n",
       " (2, '17.relevant_3', 'No'),\n",
       " (3, '17.relevant_3', 'No'),\n",
       " (2, '18.relevant_1', 'Yes'),\n",
       " (3, '18.relevant_1', 'No'),\n",
       " (2, '18.relevant_2', 'No'),\n",
       " (3, '18.relevant_2', 'No'),\n",
       " (2, '18.relevant_3', 'No'),\n",
       " (3, '18.relevant_3', 'No'),\n",
       " (2, '19.relevant_1', 'No'),\n",
       " (3, '19.relevant_1', 'No'),\n",
       " (2, '19.relevant_2', 'No'),\n",
       " (3, '19.relevant_2', 'No'),\n",
       " (2, '19.relevant_3', 'No'),\n",
       " (3, '19.relevant_3', 'No'),\n",
       " (2, '20.relevant_1', 'Yes'),\n",
       " (3, '20.relevant_1', 'No'),\n",
       " (2, '20.relevant_2', 'No'),\n",
       " (3, '20.relevant_2', 'No'),\n",
       " (2, '20.relevant_3', 'Yes'),\n",
       " (3, '20.relevant_3', 'No'),\n",
       " (2, '21.relevant_1', 'No'),\n",
       " (3, '21.relevant_1', 'Yes'),\n",
       " (2, '21.relevant_2', 'No'),\n",
       " (3, '21.relevant_2', 'No'),\n",
       " (2, '21.relevant_3', 'No'),\n",
       " (3, '21.relevant_3', 'No'),\n",
       " (2, '22.relevant_1', 'Yes'),\n",
       " (3, '22.relevant_1', 'No'),\n",
       " (2, '22.relevant_2', 'Yes'),\n",
       " (3, '22.relevant_2', 'No'),\n",
       " (2, '22.relevant_3', 'Yes'),\n",
       " (3, '22.relevant_3', 'No'),\n",
       " (2, '23.relevant_1', 'No'),\n",
       " (3, '23.relevant_1', 'No'),\n",
       " (2, '23.relevant_2', 'No'),\n",
       " (3, '23.relevant_2', 'No'),\n",
       " (2, '23.relevant_3', 'Yes'),\n",
       " (3, '23.relevant_3', 'No'),\n",
       " (2, '24.relevant_1', 'No'),\n",
       " (3, '24.relevant_1', 'No'),\n",
       " (2, '24.relevant_2', 'Yes'),\n",
       " (3, '24.relevant_2', 'Yes'),\n",
       " (2, '24.relevant_3', 'No'),\n",
       " (3, '24.relevant_3', 'No'),\n",
       " (1, '25.relevant_1', 'No'),\n",
       " (3, '25.relevant_1', 'No'),\n",
       " (1, '25.relevant_2', 'No'),\n",
       " (3, '25.relevant_2', 'No'),\n",
       " (1, '25.relevant_3', 'No'),\n",
       " (3, '25.relevant_3', 'No'),\n",
       " (1, '26.relevant_1', 'No'),\n",
       " (3, '26.relevant_1', 'No'),\n",
       " (1, '26.relevant_2', 'No'),\n",
       " (3, '26.relevant_2', 'No'),\n",
       " (1, '26.relevant_3', 'No'),\n",
       " (3, '26.relevant_3', 'No'),\n",
       " (1, '27.relevant_1', 'No'),\n",
       " (3, '27.relevant_1', 'No'),\n",
       " (1, '27.relevant_2', 'No'),\n",
       " (3, '27.relevant_2', 'No'),\n",
       " (1, '27.relevant_3', 'No'),\n",
       " (3, '27.relevant_3', 'No'),\n",
       " (1, '28.relevant_1', 'No'),\n",
       " (3, '28.relevant_1', 'No'),\n",
       " (1, '28.relevant_2', 'No'),\n",
       " (3, '28.relevant_2', 'No'),\n",
       " (1, '28.relevant_3', 'No'),\n",
       " (3, '28.relevant_3', 'No'),\n",
       " (1, '29.relevant_1', 'No'),\n",
       " (3, '29.relevant_1', 'Yes'),\n",
       " (1, '29.relevant_2', 'No'),\n",
       " (3, '29.relevant_2', 'No'),\n",
       " (1, '29.relevant_3', 'No'),\n",
       " (3, '29.relevant_3', 'No'),\n",
       " (1, '30.relevant_1', 'Yes'),\n",
       " (3, '30.relevant_1', 'Yes'),\n",
       " (1, '30.relevant_2', 'Yes'),\n",
       " (3, '30.relevant_2', 'No'),\n",
       " (1, '30.relevant_3', 'Yes'),\n",
       " (3, '30.relevant_3', 'Yes'),\n",
       " (1, '31.relevant_1', 'Yes'),\n",
       " (3, '31.relevant_1', 'Yes'),\n",
       " (1, '31.relevant_2', 'Yes'),\n",
       " (3, '31.relevant_2', 'Yes'),\n",
       " (1, '31.relevant_3', 'Yes'),\n",
       " (3, '31.relevant_3', 'Yes'),\n",
       " (1, '32.relevant_1', 'No'),\n",
       " (3, '32.relevant_1', 'No'),\n",
       " (1, '32.relevant_2', 'No'),\n",
       " (3, '32.relevant_2', 'No'),\n",
       " (1, '32.relevant_3', 'No'),\n",
       " (3, '32.relevant_3', 'No'),\n",
       " (1, '33.relevant_1', 'Yes'),\n",
       " (3, '33.relevant_1', 'No'),\n",
       " (1, '33.relevant_2', 'No'),\n",
       " (3, '33.relevant_2', 'No'),\n",
       " (1, '33.relevant_3', 'No'),\n",
       " (3, '33.relevant_3', 'No'),\n",
       " (1, '34.relevant_1', 'Yes'),\n",
       " (3, '34.relevant_1', 'No'),\n",
       " (1, '34.relevant_2', 'Yes'),\n",
       " (3, '34.relevant_2', 'Yes'),\n",
       " (1, '34.relevant_3', 'Yes'),\n",
       " (3, '34.relevant_3', 'Yes'),\n",
       " (1, '35.relevant_1', 'Yes'),\n",
       " (3, '35.relevant_1', 'Yes'),\n",
       " (1, '35.relevant_2', 'Yes'),\n",
       " (3, '35.relevant_2', 'No'),\n",
       " (1, '35.relevant_3', 'Yes'),\n",
       " (3, '35.relevant_3', 'No'),\n",
       " (1, '36.relevant_1', 'Yes'),\n",
       " (3, '36.relevant_1', 'Yes'),\n",
       " (1, '36.relevant_2', 'Yes'),\n",
       " (3, '36.relevant_2', 'Yes'),\n",
       " (1, '36.relevant_3', 'Yes'),\n",
       " (3, '36.relevant_3', 'Yes')]"
      ]
     },
     "execution_count": 69,
     "metadata": {},
     "output_type": "execute_result"
    }
   ],
   "execution_count": 69
  },
  {
   "metadata": {
    "ExecuteTime": {
     "end_time": "2024-07-12T08:27:35.659039Z",
     "start_time": "2024-07-12T08:27:35.656122Z"
    }
   },
   "cell_type": "code",
   "source": [
    "agreements_all_relevant = AnnotationTask(data=all_annotations_relevant, distance=binary_distance)\n",
    "print(f\"alpha all (relevant): {agreements_all_relevant.alpha()}\")"
   ],
   "id": "baee1dc6a60fe3a4",
   "outputs": [
    {
     "name": "stdout",
     "output_type": "stream",
     "text": [
      "alpha all (relevant): 0.410401891252955\n"
     ]
    }
   ],
   "execution_count": 70
  },
  {
   "metadata": {
    "ExecuteTime": {
     "end_time": "2024-07-12T08:27:35.663537Z",
     "start_time": "2024-07-12T08:27:35.659039Z"
    }
   },
   "cell_type": "code",
   "source": [
    "triplets_rating = list(filter(lambda x: x[2] is not None, triplets_rating))\n",
    "triplets_rating"
   ],
   "id": "41ba8ee8f7eea3d4",
   "outputs": [
    {
     "data": {
      "text/plain": [
       "[(1, '1.rating', 5),\n",
       " (2, '1.rating', 4),\n",
       " (1, '2.rating', 5),\n",
       " (2, '2.rating', 5),\n",
       " (1, '5.rating', 5),\n",
       " (2, '5.rating', 5),\n",
       " (1, '6.rating', 3),\n",
       " (2, '6.rating', 2),\n",
       " (1, '7.rating', 3),\n",
       " (1, '8.rating', 5),\n",
       " (2, '10.rating', 5),\n",
       " (2, '11.rating', 3),\n",
       " (2, '12.rating', 4),\n",
       " (2, '14.rating', 4),\n",
       " (3, '14.rating', 5),\n",
       " (3, '16.rating', 3),\n",
       " (3, '18.rating', 4),\n",
       " (3, '20.rating', 2),\n",
       " (3, '22.rating', 4),\n",
       " (2, '23.rating', 5),\n",
       " (3, '24.rating', 4),\n",
       " (1, '25.rating', 5),\n",
       " (3, '25.rating', 4),\n",
       " (1, '26.rating', 5),\n",
       " (3, '26.rating', 4),\n",
       " (1, '27.rating', 5),\n",
       " (3, '27.rating', 4),\n",
       " (1, '30.rating', 4),\n",
       " (1, '31.rating', 5),\n",
       " (3, '31.rating', 5),\n",
       " (1, '33.rating', 5),\n",
       " (1, '34.rating', 4),\n",
       " (1, '35.rating', 5),\n",
       " (1, '36.rating', 5),\n",
       " (3, '36.rating', 5)]"
      ]
     },
     "execution_count": 71,
     "metadata": {},
     "output_type": "execute_result"
    }
   ],
   "execution_count": 71
  },
  {
   "metadata": {
    "ExecuteTime": {
     "end_time": "2024-07-12T08:27:35.668058Z",
     "start_time": "2024-07-12T08:27:35.663537Z"
    }
   },
   "cell_type": "code",
   "source": [
    "from nltk.metrics.agreement import AnnotationTask\n",
    "from nltk.metrics import interval_distance, binary_distance\n",
    "\n",
    "agreements_rating = AnnotationTask(data=triplets_rating, distance=interval_distance)\n",
    "print(f\"alpha rating: {agreements_rating.alpha()}\")"
   ],
   "id": "6b5c0624d237b772",
   "outputs": [
    {
     "name": "stdout",
     "output_type": "stream",
     "text": [
      "alpha rating: 0.5615384615384615\n"
     ]
    }
   ],
   "execution_count": 72
  },
  {
   "metadata": {},
   "cell_type": "markdown",
   "source": "## Compare model values to annotator values",
   "id": "4baa737660e139bc"
  },
  {
   "metadata": {
    "ExecuteTime": {
     "end_time": "2024-07-12T08:27:35.674792Z",
     "start_time": "2024-07-12T08:27:35.668058Z"
    }
   },
   "cell_type": "code",
   "source": "df_applicable",
   "id": "85871495adcf0ae2",
   "outputs": [
    {
     "data": {
      "text/plain": [
       "    annotator           task    value model_value\n",
       "0           1   1.applicable      yes         yes\n",
       "1           2   1.applicable      yes         yes\n",
       "2           1   2.applicable      yes         yes\n",
       "3           2   2.applicable      yes         yes\n",
       "4           1   3.applicable  unclear          no\n",
       "..        ...            ...      ...         ...\n",
       "67          3  34.applicable  unclear         yes\n",
       "68          1  35.applicable      yes         yes\n",
       "69          3  35.applicable  unclear         yes\n",
       "70          1  36.applicable      yes         yes\n",
       "71          3  36.applicable      yes         yes\n",
       "\n",
       "[72 rows x 4 columns]"
      ],
      "text/html": [
       "<div>\n",
       "<style scoped>\n",
       "    .dataframe tbody tr th:only-of-type {\n",
       "        vertical-align: middle;\n",
       "    }\n",
       "\n",
       "    .dataframe tbody tr th {\n",
       "        vertical-align: top;\n",
       "    }\n",
       "\n",
       "    .dataframe thead th {\n",
       "        text-align: right;\n",
       "    }\n",
       "</style>\n",
       "<table border=\"1\" class=\"dataframe\">\n",
       "  <thead>\n",
       "    <tr style=\"text-align: right;\">\n",
       "      <th></th>\n",
       "      <th>annotator</th>\n",
       "      <th>task</th>\n",
       "      <th>value</th>\n",
       "      <th>model_value</th>\n",
       "    </tr>\n",
       "  </thead>\n",
       "  <tbody>\n",
       "    <tr>\n",
       "      <th>0</th>\n",
       "      <td>1</td>\n",
       "      <td>1.applicable</td>\n",
       "      <td>yes</td>\n",
       "      <td>yes</td>\n",
       "    </tr>\n",
       "    <tr>\n",
       "      <th>1</th>\n",
       "      <td>2</td>\n",
       "      <td>1.applicable</td>\n",
       "      <td>yes</td>\n",
       "      <td>yes</td>\n",
       "    </tr>\n",
       "    <tr>\n",
       "      <th>2</th>\n",
       "      <td>1</td>\n",
       "      <td>2.applicable</td>\n",
       "      <td>yes</td>\n",
       "      <td>yes</td>\n",
       "    </tr>\n",
       "    <tr>\n",
       "      <th>3</th>\n",
       "      <td>2</td>\n",
       "      <td>2.applicable</td>\n",
       "      <td>yes</td>\n",
       "      <td>yes</td>\n",
       "    </tr>\n",
       "    <tr>\n",
       "      <th>4</th>\n",
       "      <td>1</td>\n",
       "      <td>3.applicable</td>\n",
       "      <td>unclear</td>\n",
       "      <td>no</td>\n",
       "    </tr>\n",
       "    <tr>\n",
       "      <th>...</th>\n",
       "      <td>...</td>\n",
       "      <td>...</td>\n",
       "      <td>...</td>\n",
       "      <td>...</td>\n",
       "    </tr>\n",
       "    <tr>\n",
       "      <th>67</th>\n",
       "      <td>3</td>\n",
       "      <td>34.applicable</td>\n",
       "      <td>unclear</td>\n",
       "      <td>yes</td>\n",
       "    </tr>\n",
       "    <tr>\n",
       "      <th>68</th>\n",
       "      <td>1</td>\n",
       "      <td>35.applicable</td>\n",
       "      <td>yes</td>\n",
       "      <td>yes</td>\n",
       "    </tr>\n",
       "    <tr>\n",
       "      <th>69</th>\n",
       "      <td>3</td>\n",
       "      <td>35.applicable</td>\n",
       "      <td>unclear</td>\n",
       "      <td>yes</td>\n",
       "    </tr>\n",
       "    <tr>\n",
       "      <th>70</th>\n",
       "      <td>1</td>\n",
       "      <td>36.applicable</td>\n",
       "      <td>yes</td>\n",
       "      <td>yes</td>\n",
       "    </tr>\n",
       "    <tr>\n",
       "      <th>71</th>\n",
       "      <td>3</td>\n",
       "      <td>36.applicable</td>\n",
       "      <td>yes</td>\n",
       "      <td>yes</td>\n",
       "    </tr>\n",
       "  </tbody>\n",
       "</table>\n",
       "<p>72 rows × 4 columns</p>\n",
       "</div>"
      ]
     },
     "execution_count": 73,
     "metadata": {},
     "output_type": "execute_result"
    }
   ],
   "execution_count": 73
  },
  {
   "metadata": {
    "ExecuteTime": {
     "end_time": "2024-07-12T08:27:35.678981Z",
     "start_time": "2024-07-12T08:27:35.674792Z"
    }
   },
   "cell_type": "code",
   "source": [
    "df_applicable[\"value\"] = df_applicable[\"value\"].map({\"yes\": 2, \"no\": 0, \"unclear\": 1})\n",
    "df_applicable[\"model_value\"] = df_applicable[\"model_value\"].map({\"yes\": 2, \"no\": 0, \"unclear\": 1})"
   ],
   "id": "beaf4375505e5b18",
   "outputs": [],
   "execution_count": 74
  },
  {
   "metadata": {
    "ExecuteTime": {
     "end_time": "2024-07-12T08:27:35.687262Z",
     "start_time": "2024-07-12T08:27:35.678981Z"
    }
   },
   "cell_type": "code",
   "source": [
    "import torch\n",
    "\n",
    "targets = torch.tensor(df_applicable[\"value\"].to_list(), dtype=torch.int)\n",
    "preds = torch.tensor(df_applicable[\"model_value\"].to_list(), dtype=torch.int)"
   ],
   "id": "b3716b75a4aece16",
   "outputs": [],
   "execution_count": 75
  },
  {
   "metadata": {
    "ExecuteTime": {
     "end_time": "2024-07-12T08:27:35.699582Z",
     "start_time": "2024-07-12T08:27:35.687262Z"
    }
   },
   "cell_type": "code",
   "source": [
    "print(targets)\n",
    "print(preds)\n",
    "print(targets.shape)"
   ],
   "id": "da071082c024fbe8",
   "outputs": [
    {
     "name": "stdout",
     "output_type": "stream",
     "text": [
      "tensor([2, 2, 2, 2, 1, 1, 1, 2, 2, 2, 1, 1, 1, 2, 1, 2, 1, 1, 1, 2, 1, 2, 1, 0,\n",
      "        1, 1, 0, 0, 2, 1, 2, 0, 1, 1, 2, 1, 1, 1, 2, 1, 2, 2, 2, 1, 2, 1, 1, 2,\n",
      "        1, 1, 1, 1, 1, 1, 1, 1, 1, 1, 2, 1, 2, 2, 1, 1, 2, 1, 2, 1, 2, 1, 2, 2],\n",
      "       dtype=torch.int32)\n",
      "tensor([2, 2, 2, 2, 0, 0, 0, 0, 2, 2, 1, 1, 1, 1, 1, 1, 0, 0, 2, 2, 2, 2, 0, 0,\n",
      "        2, 2, 0, 0, 0, 0, 0, 0, 0, 0, 1, 1, 0, 0, 1, 1, 1, 1, 1, 1, 2, 2, 2, 2,\n",
      "        1, 1, 1, 1, 1, 1, 0, 0, 0, 0, 2, 2, 2, 2, 0, 0, 2, 2, 2, 2, 2, 2, 2, 2],\n",
      "       dtype=torch.int32)\n",
      "torch.Size([72])\n"
     ]
    }
   ],
   "execution_count": 76
  },
  {
   "metadata": {
    "ExecuteTime": {
     "end_time": "2024-07-13T19:43:28.016877Z",
     "start_time": "2024-07-13T19:43:27.991266Z"
    }
   },
   "cell_type": "code",
   "source": "len(targets)",
   "id": "494238559e277cc1",
   "outputs": [
    {
     "data": {
      "text/plain": [
       "72"
      ]
     },
     "execution_count": 160,
     "metadata": {},
     "output_type": "execute_result"
    }
   ],
   "execution_count": 160
  },
  {
   "metadata": {
    "ExecuteTime": {
     "end_time": "2024-07-12T08:28:30.792751Z",
     "start_time": "2024-07-12T08:28:30.787079Z"
    }
   },
   "cell_type": "code",
   "source": [
    "from torchmetrics import MetricCollection\n",
    "from torchmetrics.classification import Accuracy, Precision, Recall, F1Score\n",
    "\n",
    "metrics = MetricCollection({\n",
    "    \"accuracy\": Accuracy(task= \"multiclass\", num_classes=3, average=\"macro\"),\n",
    "    \"precision\": Precision(task= \"multiclass\", num_classes=3, average=\"macro\"),\n",
    "    \"recall\": Recall(task= \"multiclass\", num_classes=3, average=\"macro\"),\n",
    "    \"f1\": F1Score(task= \"multiclass\", num_classes=3, average=\"macro\")\n",
    "})\n",
    "\n",
    "f1 = F1Score(task= \"multiclass\", num_classes=3, average=\"macro\")\n",
    "accuracy = Accuracy(task= \"multiclass\", num_classes=3, average=\"macro\")\n",
    "precision = Precision(task= \"multiclass\", num_classes=3, average=\"macro\")\n",
    "recall = Recall(task= \"multiclass\", num_classes=3, average=\"macro\")"
   ],
   "id": "f62c8cdc54366c38",
   "outputs": [],
   "execution_count": 82
  },
  {
   "metadata": {
    "ExecuteTime": {
     "end_time": "2024-07-12T08:28:31.344520Z",
     "start_time": "2024-07-12T08:28:31.324881Z"
    }
   },
   "cell_type": "code",
   "source": "metrics(preds, targets)",
   "id": "75a6409bca98bb7a",
   "outputs": [
    {
     "data": {
      "text/plain": [
       "{'accuracy': tensor(0.6560),\n",
       " 'f1': tensor(0.4540),\n",
       " 'precision': tensor(0.4865),\n",
       " 'recall': tensor(0.6560)}"
      ]
     },
     "execution_count": 83,
     "metadata": {},
     "output_type": "execute_result"
    }
   ],
   "execution_count": 83
  },
  {
   "metadata": {
    "ExecuteTime": {
     "end_time": "2024-07-12T08:28:31.895466Z",
     "start_time": "2024-07-12T08:28:31.891074Z"
    }
   },
   "cell_type": "code",
   "source": [
    "# calculate accuracy manually\n",
    "\n",
    "correct = sum(1 if preds[i] == targets[i] else 0 for i in range(len(preds)))\n",
    "accuracy_num = correct / len(preds)\n",
    "accuracy_num"
   ],
   "id": "4e4f4614015ecdbe",
   "outputs": [
    {
     "data": {
      "text/plain": [
       "0.4861111111111111"
      ]
     },
     "execution_count": 84,
     "metadata": {},
     "output_type": "execute_result"
    }
   ],
   "execution_count": 84
  },
  {
   "metadata": {
    "ExecuteTime": {
     "end_time": "2024-07-12T08:28:32.830772Z",
     "start_time": "2024-07-12T08:28:32.820237Z"
    }
   },
   "cell_type": "code",
   "source": [
    "# calculate accuracy manually macro\n",
    "results = []\n",
    "\n",
    "for i in range(3):\n",
    "    correct = sum(1 if preds[j] == targets[j] else 0 for j in range(len(preds)) if targets[j] == i)\n",
    "    total = sum(1 for j in range(len(preds)) if targets[j] == i)\n",
    "    print(f'accuracy class {i}: {correct/total}')\n",
    "    results.append(correct/total)\n",
    "    \n",
    "print(f'accuracy macro: {sum(results)/3}')    "
   ],
   "id": "43f287c3e8cf2dd9",
   "outputs": [
    {
     "name": "stdout",
     "output_type": "stream",
     "text": [
      "accuracy class 0: 1.0\n",
      "accuracy class 1: 0.325\n",
      "accuracy class 2: 0.6428571428571429\n",
      "accuracy macro: 0.655952380952381\n"
     ]
    }
   ],
   "execution_count": 85
  },
  {
   "metadata": {
    "ExecuteTime": {
     "end_time": "2024-07-12T08:28:34.454801Z",
     "start_time": "2024-07-12T08:28:34.445365Z"
    }
   },
   "cell_type": "code",
   "source": [
    "print(f'Accuracy: {accuracy(preds, targets)}')\n",
    "print(f'F1: {f1(preds, targets)}')\n",
    "print(f'Precision: {precision(preds, targets)}')\n",
    "print(f'Recall: {recall(preds, targets)}')"
   ],
   "id": "ba32a04e1b47c2a6",
   "outputs": [
    {
     "name": "stdout",
     "output_type": "stream",
     "text": [
      "Accuracy: 0.6559523940086365\n",
      "F1: 0.4539682865142822\n",
      "Precision: 0.48650795221328735\n",
      "Recall: 0.6559523940086365\n"
     ]
    }
   ],
   "execution_count": 86
  },
  {
   "metadata": {
    "ExecuteTime": {
     "end_time": "2024-07-12T08:28:35.307253Z",
     "start_time": "2024-07-12T08:28:35.287384Z"
    }
   },
   "cell_type": "code",
   "source": [
    "from sklearn.metrics import classification_report\n",
    "\n",
    "print(classification_report(targets, preds, target_names=[\"no\", \"unclear\", \"yes\"]))"
   ],
   "id": "18b113620f7e9f4",
   "outputs": [
    {
     "name": "stdout",
     "output_type": "stream",
     "text": [
      "              precision    recall  f1-score   support\n",
      "\n",
      "          no       0.17      1.00      0.29         4\n",
      "     unclear       0.65      0.33      0.43        40\n",
      "         yes       0.64      0.64      0.64        28\n",
      "\n",
      "    accuracy                           0.49        72\n",
      "   macro avg       0.49      0.66      0.45        72\n",
      "weighted avg       0.62      0.49      0.51        72\n",
      "\n"
     ]
    }
   ],
   "execution_count": 87
  },
  {
   "metadata": {
    "ExecuteTime": {
     "end_time": "2024-07-12T08:28:36.220555Z",
     "start_time": "2024-07-12T08:28:36.068361Z"
    }
   },
   "cell_type": "code",
   "source": [
    "#show graphically the results of the classification report\n",
    "import matplotlib.pyplot as plt\n",
    "import seaborn as sns\n",
    "\n",
    "report = classification_report(targets, preds, target_names=[\"no\", \"unclear\", \"yes\"], output_dict=True)\n",
    "df = pd.DataFrame(report).transpose()\n",
    "df.drop(columns=[\"support\"], inplace=True)\n",
    "df.drop(index=\"accuracy\", inplace=True)\n",
    "df.drop(index=\"macro avg\", inplace=True)\n",
    "df.drop(index=\"weighted avg\", inplace=True)\n",
    "df = df.astype(float)\n",
    "plt.figure(figsize=(10, 6))\n",
    "sns.heatmap(df, annot=True, cmap=\"viridis\")\n",
    "plt.title(\"Classification Report\")\n",
    "plt.show()"
   ],
   "id": "ff20186ab1361e1a",
   "outputs": [
    {
     "data": {
      "text/plain": [
       "<Figure size 1000x600 with 2 Axes>"
      ],
      "image/png": "[encoded data removed]"
     },
     "metadata": {},
     "output_type": "display_data"
    }
   ],
   "execution_count": 88
  },
  {
   "metadata": {
    "ExecuteTime": {
     "end_time": "2024-07-12T08:28:37.143509Z",
     "start_time": "2024-07-12T08:28:36.879668Z"
    }
   },
   "cell_type": "code",
   "source": [
    "from sklearn.metrics import confusion_matrix\n",
    "import seaborn as sns\n",
    "import matplotlib.pyplot as plt\n",
    "\n",
    "cm = confusion_matrix(targets, preds)\n",
    "plt.figure(figsize=(12, 6))\n",
    "sns.heatmap(cm, annot=True, fmt=\"d\", cmap=\"viridis\", xticklabels=[\"no\", \"unclear\", \"yes\"], yticklabels=[\"no\", \"unclear\", \"yes\"])\n",
    "plt.xlabel(\"Predicted\", fontsize=15)\n",
    "plt.ylabel(\"Actual (annotations)\", fontsize=15)\n",
    "plt.xticks(fontsize=12)\n",
    "plt.yticks(fontsize=12)\n",
    "plt.title(\"Confusion Matrix\", fontsize=20)\n",
    "plt.show()"
   ],
   "id": "44f8ffac3008e9bc",
   "outputs": [
    {
     "data": {
      "text/plain": [
       "<Figure size 1200x600 with 2 Axes>"
      ],
      "image/png": "[encoded data removed]"
     },
     "metadata": {},
     "output_type": "display_data"
    }
   ],
   "execution_count": 89
  },
  {
   "metadata": {
    "ExecuteTime": {
     "end_time": "2024-07-12T08:28:37.915255Z",
     "start_time": "2024-07-12T08:28:37.838660Z"
    }
   },
   "cell_type": "code",
   "source": [
    "from torchmetrics.classification import MulticlassConfusionMatrix\n",
    "metric = MulticlassConfusionMatrix(num_classes=3)\n",
    "metric.update(preds, targets)\n",
    "fig_, ax_ = metric.plot(labels=[\"no\", \"unclear\", \"yes\"])"
   ],
   "id": "8bf3b2e983ffb9b5",
   "outputs": [
    {
     "data": {
      "text/plain": [
       "<Figure size 640x480 with 1 Axes>"
      ],
      "image/png": "[encoded data removed]"
     },
     "metadata": {},
     "output_type": "display_data"
    }
   ],
   "execution_count": 90
  },
  {
   "metadata": {},
   "cell_type": "markdown",
   "source": "## Remove annotations with unclear values",
   "id": "2ce1552c0b18904d"
  },
  {
   "metadata": {
    "ExecuteTime": {
     "end_time": "2024-07-12T08:28:39.593206Z",
     "start_time": "2024-07-12T08:28:39.586094Z"
    }
   },
   "cell_type": "code",
   "source": [
    "from torchmetrics import MetricCollection\n",
    "from torchmetrics.classification import Accuracy, Precision, Recall, F1Score\n",
    "\n",
    "binary_metrics = MetricCollection({\n",
    "    \"accuracy\": Accuracy(task= \"binary\"),\n",
    "    \"precision\": Precision(task= \"binary\"),\n",
    "    \"recall\": Recall(task= \"binary\"),\n",
    "    \"f1\": F1Score(task= \"binary\")\n",
    "})\n",
    "\n",
    "binary_f1 = F1Score(task= \"binary\")\n",
    "binary_accuracy = Accuracy(task= \"binary\")\n",
    "binary_precision = Precision(task= \"binary\")\n",
    "binary_recall = Recall(task= \"binary\")"
   ],
   "id": "a5fae3fbd9a2f7f0",
   "outputs": [],
   "execution_count": 91
  },
  {
   "metadata": {
    "ExecuteTime": {
     "end_time": "2024-07-12T08:28:41.892984Z",
     "start_time": "2024-07-12T08:28:41.884769Z"
    }
   },
   "cell_type": "code",
   "source": "df_applicable_yes_no = df_applicable[(df_applicable[\"value\"] != 1) & (df_applicable[\"model_value\"] != 1)]",
   "id": "61d68baeef630d0b",
   "outputs": [],
   "execution_count": 92
  },
  {
   "metadata": {
    "ExecuteTime": {
     "end_time": "2024-07-12T08:28:42.362747Z",
     "start_time": "2024-07-12T08:28:42.346618Z"
    }
   },
   "cell_type": "code",
   "source": "df_applicable_yes_no",
   "id": "2ad175df6b5bab41",
   "outputs": [
    {
     "data": {
      "text/plain": [
       "    annotator           task  value  model_value\n",
       "0           1   1.applicable      2            2\n",
       "1           2   1.applicable      2            2\n",
       "2           1   2.applicable      2            2\n",
       "3           2   2.applicable      2            2\n",
       "7           2   4.applicable      2            0\n",
       "8           1   5.applicable      2            2\n",
       "9           2   5.applicable      2            2\n",
       "19          2  10.applicable      2            2\n",
       "21          2  11.applicable      2            2\n",
       "23          2  12.applicable      0            0\n",
       "26          2  14.applicable      0            0\n",
       "27          3  14.applicable      0            0\n",
       "28          2  15.applicable      2            0\n",
       "30          2  16.applicable      2            0\n",
       "31          3  16.applicable      0            0\n",
       "44          2  23.applicable      2            2\n",
       "47          3  24.applicable      2            2\n",
       "58          1  30.applicable      2            2\n",
       "60          1  31.applicable      2            2\n",
       "61          3  31.applicable      2            2\n",
       "64          1  33.applicable      2            2\n",
       "66          1  34.applicable      2            2\n",
       "68          1  35.applicable      2            2\n",
       "70          1  36.applicable      2            2\n",
       "71          3  36.applicable      2            2"
      ],
      "text/html": [
       "<div>\n",
       "<style scoped>\n",
       "    .dataframe tbody tr th:only-of-type {\n",
       "        vertical-align: middle;\n",
       "    }\n",
       "\n",
       "    .dataframe tbody tr th {\n",
       "        vertical-align: top;\n",
       "    }\n",
       "\n",
       "    .dataframe thead th {\n",
       "        text-align: right;\n",
       "    }\n",
       "</style>\n",
       "<table border=\"1\" class=\"dataframe\">\n",
       "  <thead>\n",
       "    <tr style=\"text-align: right;\">\n",
       "      <th></th>\n",
       "      <th>annotator</th>\n",
       "      <th>task</th>\n",
       "      <th>value</th>\n",
       "      <th>model_value</th>\n",
       "    </tr>\n",
       "  </thead>\n",
       "  <tbody>\n",
       "    <tr>\n",
       "      <th>0</th>\n",
       "      <td>1</td>\n",
       "      <td>1.applicable</td>\n",
       "      <td>2</td>\n",
       "      <td>2</td>\n",
       "    </tr>\n",
       "    <tr>\n",
       "      <th>1</th>\n",
       "      <td>2</td>\n",
       "      <td>1.applicable</td>\n",
       "      <td>2</td>\n",
       "      <td>2</td>\n",
       "    </tr>\n",
       "    <tr>\n",
       "      <th>2</th>\n",
       "      <td>1</td>\n",
       "      <td>2.applicable</td>\n",
       "      <td>2</td>\n",
       "      <td>2</td>\n",
       "    </tr>\n",
       "    <tr>\n",
       "      <th>3</th>\n",
       "      <td>2</td>\n",
       "      <td>2.applicable</td>\n",
       "      <td>2</td>\n",
       "      <td>2</td>\n",
       "    </tr>\n",
       "    <tr>\n",
       "      <th>7</th>\n",
       "      <td>2</td>\n",
       "      <td>4.applicable</td>\n",
       "      <td>2</td>\n",
       "      <td>0</td>\n",
       "    </tr>\n",
       "    <tr>\n",
       "      <th>8</th>\n",
       "      <td>1</td>\n",
       "      <td>5.applicable</td>\n",
       "      <td>2</td>\n",
       "      <td>2</td>\n",
       "    </tr>\n",
       "    <tr>\n",
       "      <th>9</th>\n",
       "      <td>2</td>\n",
       "      <td>5.applicable</td>\n",
       "      <td>2</td>\n",
       "      <td>2</td>\n",
       "    </tr>\n",
       "    <tr>\n",
       "      <th>19</th>\n",
       "      <td>2</td>\n",
       "      <td>10.applicable</td>\n",
       "      <td>2</td>\n",
       "      <td>2</td>\n",
       "    </tr>\n",
       "    <tr>\n",
       "      <th>21</th>\n",
       "      <td>2</td>\n",
       "      <td>11.applicable</td>\n",
       "      <td>2</td>\n",
       "      <td>2</td>\n",
       "    </tr>\n",
       "    <tr>\n",
       "      <th>23</th>\n",
       "      <td>2</td>\n",
       "      <td>12.applicable</td>\n",
       "      <td>0</td>\n",
       "      <td>0</td>\n",
       "    </tr>\n",
       "    <tr>\n",
       "      <th>26</th>\n",
       "      <td>2</td>\n",
       "      <td>14.applicable</td>\n",
       "      <td>0</td>\n",
       "      <td>0</td>\n",
       "    </tr>\n",
       "    <tr>\n",
       "      <th>27</th>\n",
       "      <td>3</td>\n",
       "      <td>14.applicable</td>\n",
       "      <td>0</td>\n",
       "      <td>0</td>\n",
       "    </tr>\n",
       "    <tr>\n",
       "      <th>28</th>\n",
       "      <td>2</td>\n",
       "      <td>15.applicable</td>\n",
       "      <td>2</td>\n",
       "      <td>0</td>\n",
       "    </tr>\n",
       "    <tr>\n",
       "      <th>30</th>\n",
       "      <td>2</td>\n",
       "      <td>16.applicable</td>\n",
       "      <td>2</td>\n",
       "      <td>0</td>\n",
       "    </tr>\n",
       "    <tr>\n",
       "      <th>31</th>\n",
       "      <td>3</td>\n",
       "      <td>16.applicable</td>\n",
       "      <td>0</td>\n",
       "      <td>0</td>\n",
       "    </tr>\n",
       "    <tr>\n",
       "      <th>44</th>\n",
       "      <td>2</td>\n",
       "      <td>23.applicable</td>\n",
       "      <td>2</td>\n",
       "      <td>2</td>\n",
       "    </tr>\n",
       "    <tr>\n",
       "      <th>47</th>\n",
       "      <td>3</td>\n",
       "      <td>24.applicable</td>\n",
       "      <td>2</td>\n",
       "      <td>2</td>\n",
       "    </tr>\n",
       "    <tr>\n",
       "      <th>58</th>\n",
       "      <td>1</td>\n",
       "      <td>30.applicable</td>\n",
       "      <td>2</td>\n",
       "      <td>2</td>\n",
       "    </tr>\n",
       "    <tr>\n",
       "      <th>60</th>\n",
       "      <td>1</td>\n",
       "      <td>31.applicable</td>\n",
       "      <td>2</td>\n",
       "      <td>2</td>\n",
       "    </tr>\n",
       "    <tr>\n",
       "      <th>61</th>\n",
       "      <td>3</td>\n",
       "      <td>31.applicable</td>\n",
       "      <td>2</td>\n",
       "      <td>2</td>\n",
       "    </tr>\n",
       "    <tr>\n",
       "      <th>64</th>\n",
       "      <td>1</td>\n",
       "      <td>33.applicable</td>\n",
       "      <td>2</td>\n",
       "      <td>2</td>\n",
       "    </tr>\n",
       "    <tr>\n",
       "      <th>66</th>\n",
       "      <td>1</td>\n",
       "      <td>34.applicable</td>\n",
       "      <td>2</td>\n",
       "      <td>2</td>\n",
       "    </tr>\n",
       "    <tr>\n",
       "      <th>68</th>\n",
       "      <td>1</td>\n",
       "      <td>35.applicable</td>\n",
       "      <td>2</td>\n",
       "      <td>2</td>\n",
       "    </tr>\n",
       "    <tr>\n",
       "      <th>70</th>\n",
       "      <td>1</td>\n",
       "      <td>36.applicable</td>\n",
       "      <td>2</td>\n",
       "      <td>2</td>\n",
       "    </tr>\n",
       "    <tr>\n",
       "      <th>71</th>\n",
       "      <td>3</td>\n",
       "      <td>36.applicable</td>\n",
       "      <td>2</td>\n",
       "      <td>2</td>\n",
       "    </tr>\n",
       "  </tbody>\n",
       "</table>\n",
       "</div>"
      ]
     },
     "execution_count": 93,
     "metadata": {},
     "output_type": "execute_result"
    }
   ],
   "execution_count": 93
  },
  {
   "metadata": {
    "ExecuteTime": {
     "end_time": "2024-07-12T08:28:42.787377Z",
     "start_time": "2024-07-12T08:28:42.769414Z"
    }
   },
   "cell_type": "code",
   "source": [
    "targets_yes_no = torch.tensor(df_applicable_yes_no[\"value\"].to_list(), dtype=torch.int)\n",
    "preds_yes_no = torch.tensor(df_applicable_yes_no[\"model_value\"].to_list(), dtype=torch.int)\n",
    "targets_yes_no = torch.tensor([1 if x > 1 else x for x in targets_yes_no], dtype=torch.int)\n",
    "preds_yes_no = torch.tensor([1 if x > 1 else x for x in preds_yes_no], dtype=torch.int)"
   ],
   "id": "e141382687f62de7",
   "outputs": [],
   "execution_count": 94
  },
  {
   "metadata": {
    "ExecuteTime": {
     "end_time": "2024-07-12T08:28:43.362852Z",
     "start_time": "2024-07-12T08:28:43.344087Z"
    }
   },
   "cell_type": "code",
   "source": "preds_yes_no",
   "id": "279402a50f342634",
   "outputs": [
    {
     "data": {
      "text/plain": [
       "tensor([1, 1, 1, 1, 0, 1, 1, 1, 1, 0, 0, 0, 0, 0, 0, 1, 1, 1, 1, 1, 1, 1, 1, 1,\n",
       "        1], dtype=torch.int32)"
      ]
     },
     "execution_count": 95,
     "metadata": {},
     "output_type": "execute_result"
    }
   ],
   "execution_count": 95
  },
  {
   "metadata": {
    "ExecuteTime": {
     "end_time": "2024-07-12T08:28:43.710570Z",
     "start_time": "2024-07-12T08:28:43.705240Z"
    }
   },
   "cell_type": "code",
   "source": "targets_yes_no",
   "id": "c52057168a9ff1d8",
   "outputs": [
    {
     "data": {
      "text/plain": [
       "tensor([1, 1, 1, 1, 1, 1, 1, 1, 1, 0, 0, 0, 1, 1, 0, 1, 1, 1, 1, 1, 1, 1, 1, 1,\n",
       "        1], dtype=torch.int32)"
      ]
     },
     "execution_count": 96,
     "metadata": {},
     "output_type": "execute_result"
    }
   ],
   "execution_count": 96
  },
  {
   "metadata": {
    "ExecuteTime": {
     "end_time": "2024-07-12T08:28:43.946787Z",
     "start_time": "2024-07-12T08:28:43.940675Z"
    }
   },
   "cell_type": "code",
   "source": "targets_yes_no.shape",
   "id": "57dfc03049886201",
   "outputs": [
    {
     "data": {
      "text/plain": [
       "torch.Size([25])"
      ]
     },
     "execution_count": 97,
     "metadata": {},
     "output_type": "execute_result"
    }
   ],
   "execution_count": 97
  },
  {
   "metadata": {
    "ExecuteTime": {
     "end_time": "2024-07-12T08:28:44.203560Z",
     "start_time": "2024-07-12T08:28:44.195304Z"
    }
   },
   "cell_type": "code",
   "source": "binary_metrics(preds_yes_no, targets_yes_no)",
   "id": "302fb39d3a1309f5",
   "outputs": [
    {
     "data": {
      "text/plain": [
       "{'accuracy': tensor(0.8800),\n",
       " 'f1': tensor(0.9231),\n",
       " 'precision': tensor(1.),\n",
       " 'recall': tensor(0.8571)}"
      ]
     },
     "execution_count": 98,
     "metadata": {},
     "output_type": "execute_result"
    }
   ],
   "execution_count": 98
  },
  {
   "metadata": {
    "ExecuteTime": {
     "end_time": "2024-07-12T08:28:44.498502Z",
     "start_time": "2024-07-12T08:28:44.479688Z"
    }
   },
   "cell_type": "code",
   "source": [
    "print(f'Binary Accuracy: {binary_accuracy(preds_yes_no, targets_yes_no)}')\n",
    "print(f'Binary F1: {binary_f1(preds_yes_no, targets_yes_no)}')\n",
    "print(f'Binary Precision: {binary_precision(preds_yes_no, targets_yes_no)}')\n",
    "print(f'Binary Recall: {binary_recall(preds_yes_no, targets_yes_no)}')"
   ],
   "id": "b3523408cd083f36",
   "outputs": [
    {
     "name": "stdout",
     "output_type": "stream",
     "text": [
      "Binary Accuracy: 0.8799999952316284\n",
      "Binary F1: 0.9230769276618958\n",
      "Binary Precision: 1.0\n",
      "Binary Recall: 0.8571428656578064\n"
     ]
    }
   ],
   "execution_count": 99
  },
  {
   "metadata": {
    "ExecuteTime": {
     "end_time": "2024-07-12T08:28:45.103809Z",
     "start_time": "2024-07-12T08:28:45.084016Z"
    }
   },
   "cell_type": "code",
   "source": "print(classification_report(targets_yes_no, preds_yes_no, target_names=[\"no\", \"yes\"], labels=[0, 1]))",
   "id": "2fa9233b3fad69f8",
   "outputs": [
    {
     "name": "stdout",
     "output_type": "stream",
     "text": [
      "              precision    recall  f1-score   support\n",
      "\n",
      "          no       0.57      1.00      0.73         4\n",
      "         yes       1.00      0.86      0.92        21\n",
      "\n",
      "    accuracy                           0.88        25\n",
      "   macro avg       0.79      0.93      0.83        25\n",
      "weighted avg       0.93      0.88      0.89        25\n",
      "\n"
     ]
    }
   ],
   "execution_count": 100
  },
  {
   "metadata": {
    "ExecuteTime": {
     "end_time": "2024-07-12T08:28:46.079644Z",
     "start_time": "2024-07-12T08:28:45.954468Z"
    }
   },
   "cell_type": "code",
   "source": [
    "#show graphically the results of the classification report\n",
    "import matplotlib.pyplot as plt\n",
    "import seaborn as sns\n",
    "\n",
    "report = classification_report(targets_yes_no, preds_yes_no, target_names=[\"no\", \"yes\"], labels=[0, 1], output_dict=True)\n",
    "df = pd.DataFrame(report).transpose()\n",
    "df.drop(columns=[\"support\"], inplace=True)\n",
    "df.drop(index=\"macro avg\", inplace=True)\n",
    "df.drop(index=\"weighted avg\", inplace=True)\n",
    "df.drop(index=\"accuracy\", inplace=True)\n",
    "df = df.astype(float)\n",
    "plt.figure(figsize=(10, 6))\n",
    "sns.heatmap(df, annot=True, cmap=\"viridis\")\n",
    "plt.title(\"Classification Report\")\n",
    "plt.show()"
   ],
   "id": "255cc3a72388d3f5",
   "outputs": [
    {
     "data": {
      "text/plain": [
       "<Figure size 1000x600 with 2 Axes>"
      ],
      "image/png": "[encoded data removed]"
     },
     "metadata": {},
     "output_type": "display_data"
    }
   ],
   "execution_count": 101
  },
  {
   "metadata": {
    "ExecuteTime": {
     "end_time": "2024-07-12T08:28:46.782969Z",
     "start_time": "2024-07-12T08:28:46.670557Z"
    }
   },
   "cell_type": "code",
   "source": [
    "from sklearn.metrics import confusion_matrix\n",
    "import seaborn as sns\n",
    "import matplotlib.pyplot as plt\n",
    "\n",
    "cm = confusion_matrix(targets_yes_no, preds_yes_no)\n",
    "plt.figure(figsize=(12, 6))\n",
    "sns.heatmap(cm, annot=True, fmt=\"d\", cmap=\"viridis\", xticklabels=[\"no\", \"yes\"], yticklabels=[\"no\", \"yes\"])\n",
    "plt.xlabel(\"Predicted\", fontsize=15)\n",
    "plt.ylabel(\"Actual (annotations)\", fontsize=15)\n",
    "plt.xticks(fontsize=12)\n",
    "plt.yticks(fontsize=12)\n",
    "plt.title(\"Confusion Matrix (Binary)\", fontsize=20)\n",
    "plt.show()"
   ],
   "id": "eac76fa73e513cd1",
   "outputs": [
    {
     "data": {
      "text/plain": [
       "<Figure size 1200x600 with 2 Axes>"
      ],
      "image/png": "[encoded data removed]"
     },
     "metadata": {},
     "output_type": "display_data"
    }
   ],
   "execution_count": 102
  },
  {
   "metadata": {
    "ExecuteTime": {
     "end_time": "2024-07-12T08:28:47.495028Z",
     "start_time": "2024-07-12T08:28:47.426517Z"
    }
   },
   "cell_type": "code",
   "source": [
    "from torchmetrics.classification import ConfusionMatrix\n",
    "metric = ConfusionMatrix(task=\"binary\")\n",
    "metric.update(preds_yes_no, targets_yes_no)\n",
    "fig_, ax_ = metric.plot()"
   ],
   "id": "b999961a69c541",
   "outputs": [
    {
     "data": {
      "text/plain": [
       "<Figure size 640x480 with 1 Axes>"
      ],
      "image/png": "[encoded data removed]"
     },
     "metadata": {},
     "output_type": "display_data"
    }
   ],
   "execution_count": 103
  },
  {
   "metadata": {},
   "cell_type": "markdown",
   "source": "# Count relevant chunks",
   "id": "418abc76bdfe3b63"
  },
  {
   "metadata": {
    "ExecuteTime": {
     "end_time": "2024-07-12T08:28:49.389603Z",
     "start_time": "2024-07-12T08:28:49.372962Z"
    }
   },
   "cell_type": "code",
   "source": "all_annotations_relevant",
   "id": "df2798c1c831aa3e",
   "outputs": [
    {
     "data": {
      "text/plain": [
       "[(1, '1.relevant_1', 'Yes'),\n",
       " (2, '1.relevant_1', 'Yes'),\n",
       " (1, '1.relevant_2', 'Yes'),\n",
       " (2, '1.relevant_2', 'Yes'),\n",
       " (1, '1.relevant_3', 'Yes'),\n",
       " (2, '1.relevant_3', 'Yes'),\n",
       " (1, '10.relevant_1', 'No'),\n",
       " (2, '10.relevant_1', 'Yes'),\n",
       " (1, '10.relevant_2', 'No'),\n",
       " (2, '10.relevant_2', 'Yes'),\n",
       " (1, '10.relevant_3', 'No'),\n",
       " (2, '10.relevant_3', 'Yes'),\n",
       " (1, '11.relevant_1', 'No'),\n",
       " (2, '11.relevant_1', 'Yes'),\n",
       " (1, '11.relevant_2', 'No'),\n",
       " (2, '11.relevant_2', 'Yes'),\n",
       " (1, '11.relevant_3', 'No'),\n",
       " (2, '11.relevant_3', 'Yes'),\n",
       " (1, '12.relevant_1', 'No'),\n",
       " (2, '12.relevant_1', 'Yes'),\n",
       " (1, '12.relevant_2', 'No'),\n",
       " (2, '12.relevant_2', 'No'),\n",
       " (1, '12.relevant_3', 'No'),\n",
       " (2, '12.relevant_3', 'No'),\n",
       " (1, '2.relevant_1', 'Yes'),\n",
       " (2, '2.relevant_1', 'Yes'),\n",
       " (1, '2.relevant_2', 'Yes'),\n",
       " (2, '2.relevant_2', 'Yes'),\n",
       " (1, '2.relevant_3', 'No'),\n",
       " (2, '2.relevant_3', 'No'),\n",
       " (1, '3.relevant_1', 'No'),\n",
       " (2, '3.relevant_1', 'No'),\n",
       " (1, '3.relevant_2', 'No'),\n",
       " (2, '3.relevant_2', 'No'),\n",
       " (1, '3.relevant_3', 'No'),\n",
       " (2, '3.relevant_3', 'No'),\n",
       " (1, '4.relevant_1', 'Yes'),\n",
       " (2, '4.relevant_1', 'Yes'),\n",
       " (1, '4.relevant_2', 'Yes'),\n",
       " (2, '4.relevant_2', 'No'),\n",
       " (1, '4.relevant_3', 'No'),\n",
       " (2, '4.relevant_3', 'No'),\n",
       " (1, '5.relevant_1', 'Yes'),\n",
       " (2, '5.relevant_1', 'Yes'),\n",
       " (1, '5.relevant_2', 'Yes'),\n",
       " (2, '5.relevant_2', 'Yes'),\n",
       " (1, '5.relevant_3', 'No'),\n",
       " (2, '5.relevant_3', 'No'),\n",
       " (1, '6.relevant_1', 'Yes'),\n",
       " (2, '6.relevant_1', 'No'),\n",
       " (1, '6.relevant_2', 'No'),\n",
       " (2, '6.relevant_2', 'No'),\n",
       " (1, '6.relevant_3', 'No'),\n",
       " (2, '6.relevant_3', 'No'),\n",
       " (1, '7.relevant_1', 'No'),\n",
       " (2, '7.relevant_1', 'Yes'),\n",
       " (1, '7.relevant_2', 'Yes'),\n",
       " (2, '7.relevant_2', 'Yes'),\n",
       " (1, '7.relevant_3', 'No'),\n",
       " (2, '7.relevant_3', 'No'),\n",
       " (1, '8.relevant_1', 'No'),\n",
       " (2, '8.relevant_1', 'No'),\n",
       " (1, '8.relevant_2', 'No'),\n",
       " (2, '8.relevant_2', 'Yes'),\n",
       " (1, '8.relevant_3', 'No'),\n",
       " (2, '8.relevant_3', 'Yes'),\n",
       " (1, '9.relevant_1', 'No'),\n",
       " (2, '9.relevant_1', 'No'),\n",
       " (1, '9.relevant_2', 'No'),\n",
       " (2, '9.relevant_2', 'Yes'),\n",
       " (1, '9.relevant_3', 'No'),\n",
       " (2, '9.relevant_3', 'No'),\n",
       " (2, '13.relevant_1', 'No'),\n",
       " (3, '13.relevant_1', 'Yes'),\n",
       " (2, '13.relevant_2', 'No'),\n",
       " (3, '13.relevant_2', 'No'),\n",
       " (2, '13.relevant_3', 'No'),\n",
       " (3, '13.relevant_3', 'No'),\n",
       " (2, '14.relevant_1', 'Yes'),\n",
       " (3, '14.relevant_1', 'Yes'),\n",
       " (2, '14.relevant_2', 'No'),\n",
       " (3, '14.relevant_2', 'No'),\n",
       " (2, '14.relevant_3', 'No'),\n",
       " (3, '14.relevant_3', 'No'),\n",
       " (2, '15.relevant_1', 'Yes'),\n",
       " (3, '15.relevant_1', 'No'),\n",
       " (2, '15.relevant_2', 'No'),\n",
       " (3, '15.relevant_2', 'No'),\n",
       " (2, '15.relevant_3', 'No'),\n",
       " (3, '15.relevant_3', 'No'),\n",
       " (2, '16.relevant_1', 'Yes'),\n",
       " (3, '16.relevant_1', 'Yes'),\n",
       " (2, '16.relevant_2', 'No'),\n",
       " (3, '16.relevant_2', 'No'),\n",
       " (2, '16.relevant_3', 'No'),\n",
       " (3, '16.relevant_3', 'No'),\n",
       " (2, '17.relevant_1', 'No'),\n",
       " (3, '17.relevant_1', 'No'),\n",
       " (2, '17.relevant_2', 'No'),\n",
       " (3, '17.relevant_2', 'No'),\n",
       " (2, '17.relevant_3', 'No'),\n",
       " (3, '17.relevant_3', 'No'),\n",
       " (2, '18.relevant_1', 'Yes'),\n",
       " (3, '18.relevant_1', 'No'),\n",
       " (2, '18.relevant_2', 'No'),\n",
       " (3, '18.relevant_2', 'No'),\n",
       " (2, '18.relevant_3', 'No'),\n",
       " (3, '18.relevant_3', 'No'),\n",
       " (2, '19.relevant_1', 'No'),\n",
       " (3, '19.relevant_1', 'No'),\n",
       " (2, '19.relevant_2', 'No'),\n",
       " (3, '19.relevant_2', 'No'),\n",
       " (2, '19.relevant_3', 'No'),\n",
       " (3, '19.relevant_3', 'No'),\n",
       " (2, '20.relevant_1', 'Yes'),\n",
       " (3, '20.relevant_1', 'No'),\n",
       " (2, '20.relevant_2', 'No'),\n",
       " (3, '20.relevant_2', 'No'),\n",
       " (2, '20.relevant_3', 'Yes'),\n",
       " (3, '20.relevant_3', 'No'),\n",
       " (2, '21.relevant_1', 'No'),\n",
       " (3, '21.relevant_1', 'Yes'),\n",
       " (2, '21.relevant_2', 'No'),\n",
       " (3, '21.relevant_2', 'No'),\n",
       " (2, '21.relevant_3', 'No'),\n",
       " (3, '21.relevant_3', 'No'),\n",
       " (2, '22.relevant_1', 'Yes'),\n",
       " (3, '22.relevant_1', 'No'),\n",
       " (2, '22.relevant_2', 'Yes'),\n",
       " (3, '22.relevant_2', 'No'),\n",
       " (2, '22.relevant_3', 'Yes'),\n",
       " (3, '22.relevant_3', 'No'),\n",
       " (2, '23.relevant_1', 'No'),\n",
       " (3, '23.relevant_1', 'No'),\n",
       " (2, '23.relevant_2', 'No'),\n",
       " (3, '23.relevant_2', 'No'),\n",
       " (2, '23.relevant_3', 'Yes'),\n",
       " (3, '23.relevant_3', 'No'),\n",
       " (2, '24.relevant_1', 'No'),\n",
       " (3, '24.relevant_1', 'No'),\n",
       " (2, '24.relevant_2', 'Yes'),\n",
       " (3, '24.relevant_2', 'Yes'),\n",
       " (2, '24.relevant_3', 'No'),\n",
       " (3, '24.relevant_3', 'No'),\n",
       " (1, '25.relevant_1', 'No'),\n",
       " (3, '25.relevant_1', 'No'),\n",
       " (1, '25.relevant_2', 'No'),\n",
       " (3, '25.relevant_2', 'No'),\n",
       " (1, '25.relevant_3', 'No'),\n",
       " (3, '25.relevant_3', 'No'),\n",
       " (1, '26.relevant_1', 'No'),\n",
       " (3, '26.relevant_1', 'No'),\n",
       " (1, '26.relevant_2', 'No'),\n",
       " (3, '26.relevant_2', 'No'),\n",
       " (1, '26.relevant_3', 'No'),\n",
       " (3, '26.relevant_3', 'No'),\n",
       " (1, '27.relevant_1', 'No'),\n",
       " (3, '27.relevant_1', 'No'),\n",
       " (1, '27.relevant_2', 'No'),\n",
       " (3, '27.relevant_2', 'No'),\n",
       " (1, '27.relevant_3', 'No'),\n",
       " (3, '27.relevant_3', 'No'),\n",
       " (1, '28.relevant_1', 'No'),\n",
       " (3, '28.relevant_1', 'No'),\n",
       " (1, '28.relevant_2', 'No'),\n",
       " (3, '28.relevant_2', 'No'),\n",
       " (1, '28.relevant_3', 'No'),\n",
       " (3, '28.relevant_3', 'No'),\n",
       " (1, '29.relevant_1', 'No'),\n",
       " (3, '29.relevant_1', 'Yes'),\n",
       " (1, '29.relevant_2', 'No'),\n",
       " (3, '29.relevant_2', 'No'),\n",
       " (1, '29.relevant_3', 'No'),\n",
       " (3, '29.relevant_3', 'No'),\n",
       " (1, '30.relevant_1', 'Yes'),\n",
       " (3, '30.relevant_1', 'Yes'),\n",
       " (1, '30.relevant_2', 'Yes'),\n",
       " (3, '30.relevant_2', 'No'),\n",
       " (1, '30.relevant_3', 'Yes'),\n",
       " (3, '30.relevant_3', 'Yes'),\n",
       " (1, '31.relevant_1', 'Yes'),\n",
       " (3, '31.relevant_1', 'Yes'),\n",
       " (1, '31.relevant_2', 'Yes'),\n",
       " (3, '31.relevant_2', 'Yes'),\n",
       " (1, '31.relevant_3', 'Yes'),\n",
       " (3, '31.relevant_3', 'Yes'),\n",
       " (1, '32.relevant_1', 'No'),\n",
       " (3, '32.relevant_1', 'No'),\n",
       " (1, '32.relevant_2', 'No'),\n",
       " (3, '32.relevant_2', 'No'),\n",
       " (1, '32.relevant_3', 'No'),\n",
       " (3, '32.relevant_3', 'No'),\n",
       " (1, '33.relevant_1', 'Yes'),\n",
       " (3, '33.relevant_1', 'No'),\n",
       " (1, '33.relevant_2', 'No'),\n",
       " (3, '33.relevant_2', 'No'),\n",
       " (1, '33.relevant_3', 'No'),\n",
       " (3, '33.relevant_3', 'No'),\n",
       " (1, '34.relevant_1', 'Yes'),\n",
       " (3, '34.relevant_1', 'No'),\n",
       " (1, '34.relevant_2', 'Yes'),\n",
       " (3, '34.relevant_2', 'Yes'),\n",
       " (1, '34.relevant_3', 'Yes'),\n",
       " (3, '34.relevant_3', 'Yes'),\n",
       " (1, '35.relevant_1', 'Yes'),\n",
       " (3, '35.relevant_1', 'Yes'),\n",
       " (1, '35.relevant_2', 'Yes'),\n",
       " (3, '35.relevant_2', 'No'),\n",
       " (1, '35.relevant_3', 'Yes'),\n",
       " (3, '35.relevant_3', 'No'),\n",
       " (1, '36.relevant_1', 'Yes'),\n",
       " (3, '36.relevant_1', 'Yes'),\n",
       " (1, '36.relevant_2', 'Yes'),\n",
       " (3, '36.relevant_2', 'Yes'),\n",
       " (1, '36.relevant_3', 'Yes'),\n",
       " (3, '36.relevant_3', 'Yes')]"
      ]
     },
     "execution_count": 104,
     "metadata": {},
     "output_type": "execute_result"
    }
   ],
   "execution_count": 104
  },
  {
   "metadata": {
    "ExecuteTime": {
     "end_time": "2024-07-12T08:28:49.784619Z",
     "start_time": "2024-07-12T08:28:49.778466Z"
    }
   },
   "cell_type": "code",
   "source": [
    "# get task numbers\n",
    "task_numbers = list(set([int(triple[1].split('.')[0]) for triple in all_annotations_relevant]))"
   ],
   "id": "39dcd4235d719587",
   "outputs": [],
   "execution_count": 105
  },
  {
   "metadata": {
    "ExecuteTime": {
     "end_time": "2024-07-12T08:28:50.390068Z",
     "start_time": "2024-07-12T08:28:50.374630Z"
    }
   },
   "cell_type": "code",
   "source": [
    "# sort by task number\n",
    "all_annotations_relevant_sorted = sorted(all_annotations_relevant, key=lambda x: int(x[1].split('.')[0]))"
   ],
   "id": "39b4e1a390a00114",
   "outputs": [],
   "execution_count": 106
  },
  {
   "metadata": {
    "ExecuteTime": {
     "end_time": "2024-07-12T08:28:50.861213Z",
     "start_time": "2024-07-12T08:28:50.849949Z"
    }
   },
   "cell_type": "code",
   "source": "all_annotations_relevant_sorted",
   "id": "b3e2fe3a2199369d",
   "outputs": [
    {
     "data": {
      "text/plain": [
       "[(1, '1.relevant_1', 'Yes'),\n",
       " (2, '1.relevant_1', 'Yes'),\n",
       " (1, '1.relevant_2', 'Yes'),\n",
       " (2, '1.relevant_2', 'Yes'),\n",
       " (1, '1.relevant_3', 'Yes'),\n",
       " (2, '1.relevant_3', 'Yes'),\n",
       " (1, '2.relevant_1', 'Yes'),\n",
       " (2, '2.relevant_1', 'Yes'),\n",
       " (1, '2.relevant_2', 'Yes'),\n",
       " (2, '2.relevant_2', 'Yes'),\n",
       " (1, '2.relevant_3', 'No'),\n",
       " (2, '2.relevant_3', 'No'),\n",
       " (1, '3.relevant_1', 'No'),\n",
       " (2, '3.relevant_1', 'No'),\n",
       " (1, '3.relevant_2', 'No'),\n",
       " (2, '3.relevant_2', 'No'),\n",
       " (1, '3.relevant_3', 'No'),\n",
       " (2, '3.relevant_3', 'No'),\n",
       " (1, '4.relevant_1', 'Yes'),\n",
       " (2, '4.relevant_1', 'Yes'),\n",
       " (1, '4.relevant_2', 'Yes'),\n",
       " (2, '4.relevant_2', 'No'),\n",
       " (1, '4.relevant_3', 'No'),\n",
       " (2, '4.relevant_3', 'No'),\n",
       " (1, '5.relevant_1', 'Yes'),\n",
       " (2, '5.relevant_1', 'Yes'),\n",
       " (1, '5.relevant_2', 'Yes'),\n",
       " (2, '5.relevant_2', 'Yes'),\n",
       " (1, '5.relevant_3', 'No'),\n",
       " (2, '5.relevant_3', 'No'),\n",
       " (1, '6.relevant_1', 'Yes'),\n",
       " (2, '6.relevant_1', 'No'),\n",
       " (1, '6.relevant_2', 'No'),\n",
       " (2, '6.relevant_2', 'No'),\n",
       " (1, '6.relevant_3', 'No'),\n",
       " (2, '6.relevant_3', 'No'),\n",
       " (1, '7.relevant_1', 'No'),\n",
       " (2, '7.relevant_1', 'Yes'),\n",
       " (1, '7.relevant_2', 'Yes'),\n",
       " (2, '7.relevant_2', 'Yes'),\n",
       " (1, '7.relevant_3', 'No'),\n",
       " (2, '7.relevant_3', 'No'),\n",
       " (1, '8.relevant_1', 'No'),\n",
       " (2, '8.relevant_1', 'No'),\n",
       " (1, '8.relevant_2', 'No'),\n",
       " (2, '8.relevant_2', 'Yes'),\n",
       " (1, '8.relevant_3', 'No'),\n",
       " (2, '8.relevant_3', 'Yes'),\n",
       " (1, '9.relevant_1', 'No'),\n",
       " (2, '9.relevant_1', 'No'),\n",
       " (1, '9.relevant_2', 'No'),\n",
       " (2, '9.relevant_2', 'Yes'),\n",
       " (1, '9.relevant_3', 'No'),\n",
       " (2, '9.relevant_3', 'No'),\n",
       " (1, '10.relevant_1', 'No'),\n",
       " (2, '10.relevant_1', 'Yes'),\n",
       " (1, '10.relevant_2', 'No'),\n",
       " (2, '10.relevant_2', 'Yes'),\n",
       " (1, '10.relevant_3', 'No'),\n",
       " (2, '10.relevant_3', 'Yes'),\n",
       " (1, '11.relevant_1', 'No'),\n",
       " (2, '11.relevant_1', 'Yes'),\n",
       " (1, '11.relevant_2', 'No'),\n",
       " (2, '11.relevant_2', 'Yes'),\n",
       " (1, '11.relevant_3', 'No'),\n",
       " (2, '11.relevant_3', 'Yes'),\n",
       " (1, '12.relevant_1', 'No'),\n",
       " (2, '12.relevant_1', 'Yes'),\n",
       " (1, '12.relevant_2', 'No'),\n",
       " (2, '12.relevant_2', 'No'),\n",
       " (1, '12.relevant_3', 'No'),\n",
       " (2, '12.relevant_3', 'No'),\n",
       " (2, '13.relevant_1', 'No'),\n",
       " (3, '13.relevant_1', 'Yes'),\n",
       " (2, '13.relevant_2', 'No'),\n",
       " (3, '13.relevant_2', 'No'),\n",
       " (2, '13.relevant_3', 'No'),\n",
       " (3, '13.relevant_3', 'No'),\n",
       " (2, '14.relevant_1', 'Yes'),\n",
       " (3, '14.relevant_1', 'Yes'),\n",
       " (2, '14.relevant_2', 'No'),\n",
       " (3, '14.relevant_2', 'No'),\n",
       " (2, '14.relevant_3', 'No'),\n",
       " (3, '14.relevant_3', 'No'),\n",
       " (2, '15.relevant_1', 'Yes'),\n",
       " (3, '15.relevant_1', 'No'),\n",
       " (2, '15.relevant_2', 'No'),\n",
       " (3, '15.relevant_2', 'No'),\n",
       " (2, '15.relevant_3', 'No'),\n",
       " (3, '15.relevant_3', 'No'),\n",
       " (2, '16.relevant_1', 'Yes'),\n",
       " (3, '16.relevant_1', 'Yes'),\n",
       " (2, '16.relevant_2', 'No'),\n",
       " (3, '16.relevant_2', 'No'),\n",
       " (2, '16.relevant_3', 'No'),\n",
       " (3, '16.relevant_3', 'No'),\n",
       " (2, '17.relevant_1', 'No'),\n",
       " (3, '17.relevant_1', 'No'),\n",
       " (2, '17.relevant_2', 'No'),\n",
       " (3, '17.relevant_2', 'No'),\n",
       " (2, '17.relevant_3', 'No'),\n",
       " (3, '17.relevant_3', 'No'),\n",
       " (2, '18.relevant_1', 'Yes'),\n",
       " (3, '18.relevant_1', 'No'),\n",
       " (2, '18.relevant_2', 'No'),\n",
       " (3, '18.relevant_2', 'No'),\n",
       " (2, '18.relevant_3', 'No'),\n",
       " (3, '18.relevant_3', 'No'),\n",
       " (2, '19.relevant_1', 'No'),\n",
       " (3, '19.relevant_1', 'No'),\n",
       " (2, '19.relevant_2', 'No'),\n",
       " (3, '19.relevant_2', 'No'),\n",
       " (2, '19.relevant_3', 'No'),\n",
       " (3, '19.relevant_3', 'No'),\n",
       " (2, '20.relevant_1', 'Yes'),\n",
       " (3, '20.relevant_1', 'No'),\n",
       " (2, '20.relevant_2', 'No'),\n",
       " (3, '20.relevant_2', 'No'),\n",
       " (2, '20.relevant_3', 'Yes'),\n",
       " (3, '20.relevant_3', 'No'),\n",
       " (2, '21.relevant_1', 'No'),\n",
       " (3, '21.relevant_1', 'Yes'),\n",
       " (2, '21.relevant_2', 'No'),\n",
       " (3, '21.relevant_2', 'No'),\n",
       " (2, '21.relevant_3', 'No'),\n",
       " (3, '21.relevant_3', 'No'),\n",
       " (2, '22.relevant_1', 'Yes'),\n",
       " (3, '22.relevant_1', 'No'),\n",
       " (2, '22.relevant_2', 'Yes'),\n",
       " (3, '22.relevant_2', 'No'),\n",
       " (2, '22.relevant_3', 'Yes'),\n",
       " (3, '22.relevant_3', 'No'),\n",
       " (2, '23.relevant_1', 'No'),\n",
       " (3, '23.relevant_1', 'No'),\n",
       " (2, '23.relevant_2', 'No'),\n",
       " (3, '23.relevant_2', 'No'),\n",
       " (2, '23.relevant_3', 'Yes'),\n",
       " (3, '23.relevant_3', 'No'),\n",
       " (2, '24.relevant_1', 'No'),\n",
       " (3, '24.relevant_1', 'No'),\n",
       " (2, '24.relevant_2', 'Yes'),\n",
       " (3, '24.relevant_2', 'Yes'),\n",
       " (2, '24.relevant_3', 'No'),\n",
       " (3, '24.relevant_3', 'No'),\n",
       " (1, '25.relevant_1', 'No'),\n",
       " (3, '25.relevant_1', 'No'),\n",
       " (1, '25.relevant_2', 'No'),\n",
       " (3, '25.relevant_2', 'No'),\n",
       " (1, '25.relevant_3', 'No'),\n",
       " (3, '25.relevant_3', 'No'),\n",
       " (1, '26.relevant_1', 'No'),\n",
       " (3, '26.relevant_1', 'No'),\n",
       " (1, '26.relevant_2', 'No'),\n",
       " (3, '26.relevant_2', 'No'),\n",
       " (1, '26.relevant_3', 'No'),\n",
       " (3, '26.relevant_3', 'No'),\n",
       " (1, '27.relevant_1', 'No'),\n",
       " (3, '27.relevant_1', 'No'),\n",
       " (1, '27.relevant_2', 'No'),\n",
       " (3, '27.relevant_2', 'No'),\n",
       " (1, '27.relevant_3', 'No'),\n",
       " (3, '27.relevant_3', 'No'),\n",
       " (1, '28.relevant_1', 'No'),\n",
       " (3, '28.relevant_1', 'No'),\n",
       " (1, '28.relevant_2', 'No'),\n",
       " (3, '28.relevant_2', 'No'),\n",
       " (1, '28.relevant_3', 'No'),\n",
       " (3, '28.relevant_3', 'No'),\n",
       " (1, '29.relevant_1', 'No'),\n",
       " (3, '29.relevant_1', 'Yes'),\n",
       " (1, '29.relevant_2', 'No'),\n",
       " (3, '29.relevant_2', 'No'),\n",
       " (1, '29.relevant_3', 'No'),\n",
       " (3, '29.relevant_3', 'No'),\n",
       " (1, '30.relevant_1', 'Yes'),\n",
       " (3, '30.relevant_1', 'Yes'),\n",
       " (1, '30.relevant_2', 'Yes'),\n",
       " (3, '30.relevant_2', 'No'),\n",
       " (1, '30.relevant_3', 'Yes'),\n",
       " (3, '30.relevant_3', 'Yes'),\n",
       " (1, '31.relevant_1', 'Yes'),\n",
       " (3, '31.relevant_1', 'Yes'),\n",
       " (1, '31.relevant_2', 'Yes'),\n",
       " (3, '31.relevant_2', 'Yes'),\n",
       " (1, '31.relevant_3', 'Yes'),\n",
       " (3, '31.relevant_3', 'Yes'),\n",
       " (1, '32.relevant_1', 'No'),\n",
       " (3, '32.relevant_1', 'No'),\n",
       " (1, '32.relevant_2', 'No'),\n",
       " (3, '32.relevant_2', 'No'),\n",
       " (1, '32.relevant_3', 'No'),\n",
       " (3, '32.relevant_3', 'No'),\n",
       " (1, '33.relevant_1', 'Yes'),\n",
       " (3, '33.relevant_1', 'No'),\n",
       " (1, '33.relevant_2', 'No'),\n",
       " (3, '33.relevant_2', 'No'),\n",
       " (1, '33.relevant_3', 'No'),\n",
       " (3, '33.relevant_3', 'No'),\n",
       " (1, '34.relevant_1', 'Yes'),\n",
       " (3, '34.relevant_1', 'No'),\n",
       " (1, '34.relevant_2', 'Yes'),\n",
       " (3, '34.relevant_2', 'Yes'),\n",
       " (1, '34.relevant_3', 'Yes'),\n",
       " (3, '34.relevant_3', 'Yes'),\n",
       " (1, '35.relevant_1', 'Yes'),\n",
       " (3, '35.relevant_1', 'Yes'),\n",
       " (1, '35.relevant_2', 'Yes'),\n",
       " (3, '35.relevant_2', 'No'),\n",
       " (1, '35.relevant_3', 'Yes'),\n",
       " (3, '35.relevant_3', 'No'),\n",
       " (1, '36.relevant_1', 'Yes'),\n",
       " (3, '36.relevant_1', 'Yes'),\n",
       " (1, '36.relevant_2', 'Yes'),\n",
       " (3, '36.relevant_2', 'Yes'),\n",
       " (1, '36.relevant_3', 'Yes'),\n",
       " (3, '36.relevant_3', 'Yes')]"
      ]
     },
     "execution_count": 107,
     "metadata": {},
     "output_type": "execute_result"
    }
   ],
   "execution_count": 107
  },
  {
   "metadata": {
    "ExecuteTime": {
     "end_time": "2024-07-12T08:28:51.547215Z",
     "start_time": "2024-07-12T08:28:51.543144Z"
    }
   },
   "cell_type": "code",
   "source": "len(task_numbers)",
   "id": "a3a6112cacfc0058",
   "outputs": [
    {
     "data": {
      "text/plain": [
       "36"
      ]
     },
     "execution_count": 108,
     "metadata": {},
     "output_type": "execute_result"
    }
   ],
   "execution_count": 108
  },
  {
   "metadata": {
    "ExecuteTime": {
     "end_time": "2024-07-12T08:28:52.328108Z",
     "start_time": "2024-07-12T08:28:52.325162Z"
    }
   },
   "cell_type": "code",
   "source": "task_to_annotators = {}",
   "id": "a48c8ede0ebf7bc9",
   "outputs": [],
   "execution_count": 109
  },
  {
   "metadata": {
    "ExecuteTime": {
     "end_time": "2024-07-12T08:31:21.110198Z",
     "start_time": "2024-07-12T08:31:21.097235Z"
    }
   },
   "cell_type": "code",
   "source": [
    "# count relevant tasks\n",
    "count_relevant = 0\n",
    "count_not_relevant = 0\n",
    "for task in task_numbers:\n",
    "    annotators_for_task = list(set([x[0] for x in all_annotations_relevant_sorted if int(x[1].split('.')[0]) == task]))\n",
    "    for annotator in annotators_for_task:\n",
    "        relevant = False\n",
    "        for triple in all_annotations_relevant_sorted:\n",
    "            if int(triple[1].split('.')[0]) == task and triple[0] == annotator:\n",
    "                if str(triple[2]).lower() == \"yes\":\n",
    "                    relevant = True\n",
    "        if relevant:\n",
    "            print(f'task {task} annotator {annotator} relevant')\n",
    "            count_relevant += 1\n",
    "        else:\n",
    "            print(f'task {task} annotator {annotator} not relevant')\n",
    "            count_not_relevant += 1"
   ],
   "id": "b0a33a85a6e520bb",
   "outputs": [
    {
     "name": "stdout",
     "output_type": "stream",
     "text": [
      "task 1 annotator 1 relevant\n",
      "task 1 annotator 2 relevant\n",
      "task 2 annotator 1 relevant\n",
      "task 2 annotator 2 relevant\n",
      "task 3 annotator 1 not relevant\n",
      "task 3 annotator 2 not relevant\n",
      "task 4 annotator 1 relevant\n",
      "task 4 annotator 2 relevant\n",
      "task 5 annotator 1 relevant\n",
      "task 5 annotator 2 relevant\n",
      "task 6 annotator 1 relevant\n",
      "task 6 annotator 2 not relevant\n",
      "task 7 annotator 1 relevant\n",
      "task 7 annotator 2 relevant\n",
      "task 8 annotator 1 not relevant\n",
      "task 8 annotator 2 relevant\n",
      "task 9 annotator 1 not relevant\n",
      "task 9 annotator 2 relevant\n",
      "task 10 annotator 1 not relevant\n",
      "task 10 annotator 2 relevant\n",
      "task 11 annotator 1 not relevant\n",
      "task 11 annotator 2 relevant\n",
      "task 12 annotator 1 not relevant\n",
      "task 12 annotator 2 relevant\n",
      "task 13 annotator 2 not relevant\n",
      "task 13 annotator 3 relevant\n",
      "task 14 annotator 2 relevant\n",
      "task 14 annotator 3 relevant\n",
      "task 15 annotator 2 relevant\n",
      "task 15 annotator 3 not relevant\n",
      "task 16 annotator 2 relevant\n",
      "task 16 annotator 3 relevant\n",
      "task 17 annotator 2 not relevant\n",
      "task 17 annotator 3 not relevant\n",
      "task 18 annotator 2 relevant\n",
      "task 18 annotator 3 not relevant\n",
      "task 19 annotator 2 not relevant\n",
      "task 19 annotator 3 not relevant\n",
      "task 20 annotator 2 relevant\n",
      "task 20 annotator 3 not relevant\n",
      "task 21 annotator 2 not relevant\n",
      "task 21 annotator 3 relevant\n",
      "task 22 annotator 2 relevant\n",
      "task 22 annotator 3 not relevant\n",
      "task 23 annotator 2 relevant\n",
      "task 23 annotator 3 not relevant\n",
      "task 24 annotator 2 relevant\n",
      "task 24 annotator 3 relevant\n",
      "task 25 annotator 1 not relevant\n",
      "task 25 annotator 3 not relevant\n",
      "task 26 annotator 1 not relevant\n",
      "task 26 annotator 3 not relevant\n",
      "task 27 annotator 1 not relevant\n",
      "task 27 annotator 3 not relevant\n",
      "task 28 annotator 1 not relevant\n",
      "task 28 annotator 3 not relevant\n",
      "task 29 annotator 1 not relevant\n",
      "task 29 annotator 3 relevant\n",
      "task 30 annotator 1 relevant\n",
      "task 30 annotator 3 relevant\n",
      "task 31 annotator 1 relevant\n",
      "task 31 annotator 3 relevant\n",
      "task 32 annotator 1 not relevant\n",
      "task 32 annotator 3 not relevant\n",
      "task 33 annotator 1 relevant\n",
      "task 33 annotator 3 not relevant\n",
      "task 34 annotator 1 relevant\n",
      "task 34 annotator 3 relevant\n",
      "task 35 annotator 1 relevant\n",
      "task 35 annotator 3 relevant\n",
      "task 36 annotator 1 relevant\n",
      "task 36 annotator 3 relevant\n"
     ]
    }
   ],
   "execution_count": 113
  },
  {
   "metadata": {
    "ExecuteTime": {
     "end_time": "2024-07-12T08:31:22.190891Z",
     "start_time": "2024-07-12T08:31:22.171179Z"
    }
   },
   "cell_type": "code",
   "source": "count_relevant/(count_relevant + count_not_relevant)",
   "id": "3acb29d4d84ef01c",
   "outputs": [
    {
     "data": {
      "text/plain": [
       "0.5694444444444444"
      ]
     },
     "execution_count": 114,
     "metadata": {},
     "output_type": "execute_result"
    }
   ],
   "execution_count": 114
  },
  {
   "metadata": {
    "ExecuteTime": {
     "end_time": "2024-07-12T08:31:24.121823Z",
     "start_time": "2024-07-12T08:31:24.114973Z"
    }
   },
   "cell_type": "code",
   "source": [
    "count_yes = sum(1 if str(triple[2]).lower() == \"yes\" else 0 for triple in all_annotations_relevant_sorted)\n",
    "count_no = sum(1 if str(triple[2]).lower() == \"no\" else 0 for triple in all_annotations_relevant_sorted)\n",
    "\n",
    "count_yes/len(all_annotations_relevant_sorted)"
   ],
   "id": "a0666ca039c21ed8",
   "outputs": [
    {
     "data": {
      "text/plain": [
       "0.3472222222222222"
      ]
     },
     "execution_count": 115,
     "metadata": {},
     "output_type": "execute_result"
    }
   ],
   "execution_count": 115
  },
  {
   "metadata": {},
   "cell_type": "code",
   "source": [
    "# count at least one relevant per task and annotator\n",
    "count_relevant = 0\n",
    "count_all = 0"
   ],
   "id": "7a35de802c0e9b33",
   "outputs": [],
   "execution_count": null
  },
  {
   "metadata": {},
   "cell_type": "markdown",
   "source": "# Remove unclear tasks for relevance analysys",
   "id": "bfe29d0e1ef242b9"
  },
  {
   "metadata": {
    "ExecuteTime": {
     "end_time": "2024-07-12T08:36:39.382994Z",
     "start_time": "2024-07-12T08:36:39.378835Z"
    }
   },
   "cell_type": "code",
   "source": "task_numbers_yes_no = df_applicable_yes_no[\"task\"].to_list()",
   "id": "2e1bb25d421846c3",
   "outputs": [],
   "execution_count": 120
  },
  {
   "metadata": {
    "ExecuteTime": {
     "end_time": "2024-07-12T08:36:39.755594Z",
     "start_time": "2024-07-12T08:36:39.747239Z"
    }
   },
   "cell_type": "code",
   "source": "task_numbers_yes_no = list(set([int(task.split('.')[0]) for task in task_numbers_yes_no]))",
   "id": "319cb760601fdc90",
   "outputs": [],
   "execution_count": 121
  },
  {
   "metadata": {
    "ExecuteTime": {
     "end_time": "2024-07-12T08:36:40.116185Z",
     "start_time": "2024-07-12T08:36:40.101947Z"
    }
   },
   "cell_type": "code",
   "source": "task_numbers_yes_no",
   "id": "ab67d9b4afc852f0",
   "outputs": [
    {
     "data": {
      "text/plain": [
       "[1, 2, 33, 4, 5, 34, 35, 36, 10, 11, 12, 14, 15, 16, 23, 24, 30, 31]"
      ]
     },
     "execution_count": 122,
     "metadata": {},
     "output_type": "execute_result"
    }
   ],
   "execution_count": 122
  },
  {
   "metadata": {
    "ExecuteTime": {
     "end_time": "2024-07-12T08:36:40.970471Z",
     "start_time": "2024-07-12T08:36:40.959094Z"
    }
   },
   "cell_type": "code",
   "source": [
    "# count relevant tasks\n",
    "count_relevant = 0\n",
    "count_not_relevant = 0\n",
    "for task in task_numbers_yes_no:\n",
    "    annotators_for_task = list(set([x[0] for x in all_annotations_relevant_sorted if int(x[1].split('.')[0]) == task]))\n",
    "    for annotator in annotators_for_task:\n",
    "        relevant = False\n",
    "        for triple in all_annotations_relevant_sorted:\n",
    "            if int(triple[1].split('.')[0]) == task and triple[0] == annotator:\n",
    "                if str(triple[2]).lower() == \"yes\":\n",
    "                    relevant = True\n",
    "        if relevant:\n",
    "            print(f'task {task} annotator {annotator} relevant')\n",
    "            count_relevant += 1\n",
    "        else:\n",
    "            print(f'task {task} annotator {annotator} not relevant')\n",
    "            count_not_relevant += 1"
   ],
   "id": "b5fc7395251b96d1",
   "outputs": [
    {
     "name": "stdout",
     "output_type": "stream",
     "text": [
      "task 1 annotator 1 relevant\n",
      "task 1 annotator 2 relevant\n",
      "task 2 annotator 1 relevant\n",
      "task 2 annotator 2 relevant\n",
      "task 33 annotator 1 relevant\n",
      "task 33 annotator 3 not relevant\n",
      "task 4 annotator 1 relevant\n",
      "task 4 annotator 2 relevant\n",
      "task 5 annotator 1 relevant\n",
      "task 5 annotator 2 relevant\n",
      "task 34 annotator 1 relevant\n",
      "task 34 annotator 3 relevant\n",
      "task 35 annotator 1 relevant\n",
      "task 35 annotator 3 relevant\n",
      "task 36 annotator 1 relevant\n",
      "task 36 annotator 3 relevant\n",
      "task 10 annotator 1 not relevant\n",
      "task 10 annotator 2 relevant\n",
      "task 11 annotator 1 not relevant\n",
      "task 11 annotator 2 relevant\n",
      "task 12 annotator 1 not relevant\n",
      "task 12 annotator 2 relevant\n",
      "task 14 annotator 2 relevant\n",
      "task 14 annotator 3 relevant\n",
      "task 15 annotator 2 relevant\n",
      "task 15 annotator 3 not relevant\n",
      "task 16 annotator 2 relevant\n",
      "task 16 annotator 3 relevant\n",
      "task 23 annotator 2 relevant\n",
      "task 23 annotator 3 not relevant\n",
      "task 24 annotator 2 relevant\n",
      "task 24 annotator 3 relevant\n",
      "task 30 annotator 1 relevant\n",
      "task 30 annotator 3 relevant\n",
      "task 31 annotator 1 relevant\n",
      "task 31 annotator 3 relevant\n"
     ]
    }
   ],
   "execution_count": 123
  },
  {
   "metadata": {
    "ExecuteTime": {
     "end_time": "2024-07-12T08:36:42.636285Z",
     "start_time": "2024-07-12T08:36:42.627647Z"
    }
   },
   "cell_type": "code",
   "source": "count_relevant/(count_relevant + count_not_relevant)",
   "id": "c4213b293905dde4",
   "outputs": [
    {
     "data": {
      "text/plain": [
       "0.8333333333333334"
      ]
     },
     "execution_count": 124,
     "metadata": {},
     "output_type": "execute_result"
    }
   ],
   "execution_count": 124
  }
 ],
 "metadata": {
  "kernelspec": {
   "display_name": "Python 3",
   "language": "python",
   "name": "python3"
  },
  "language_info": {
   "codemirror_mode": {
    "name": "ipython",
    "version": 2
   },
   "file_extension": ".py",
   "mimetype": "text/x-python",
   "name": "python",
   "nbconvert_exporter": "python",
   "pygments_lexer": "ipython2",
   "version": "2.7.6"
  }
 },
 "nbformat": 4,
 "nbformat_minor": 5
}
