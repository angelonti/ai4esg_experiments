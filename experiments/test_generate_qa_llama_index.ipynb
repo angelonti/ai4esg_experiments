{
 "cells": [
  {
   "cell_type": "code",
   "source": [
    "import sys\n",
    "sys.path.append('../backend')"
   ],
   "metadata": {
    "collapsed": false
   },
   "id": "5939f6ee5d6f8477",
   "outputs": [],
   "execution_count": null
  },
  {
   "cell_type": "code",
   "source": [
    "from dotenv import load_dotenv, find_dotenv\n",
    "_ = load_dotenv(find_dotenv(filename=\"demo.env\"))"
   ],
   "metadata": {
    "collapsed": false
   },
   "id": "3adc69e84f0d4c3c",
   "outputs": [],
   "execution_count": null
  },
  {
   "cell_type": "code",
   "source": [
    "from langchain.chains import QAGenerationChain\n",
    "from app_config import config"
   ],
   "metadata": {
    "collapsed": true
   },
   "id": "initial_id",
   "outputs": [],
   "execution_count": null
  },
  {
   "metadata": {},
   "cell_type": "code",
   "source": [
    "for key, value in config.__dict__.items():\n",
    "    print(f'{key}={value}')"
   ],
   "id": "b8a08ad07eff2fdb",
   "outputs": [],
   "execution_count": null
  },
  {
   "cell_type": "code",
   "source": [
    "import openai\n",
    "\n",
    "openai.api_key = config.azure_openai_key\n",
    "openai.api_base = config.api_endpoint\n",
    "openai.api_type = \"azure\"\n",
    "openai.api_version = \"2024-08-01-preview\""
   ],
   "metadata": {
    "collapsed": false
   },
   "id": "975297e2011a116b",
   "outputs": [],
   "execution_count": null
  },
  {
   "cell_type": "code",
   "source": [
    "from modules.document.utils.DocumentReader import DocumentReader\n",
    "from modules.document.utils.DocumentReaderProviders import Providers\n",
    "\n",
    "document_reader = DocumentReader(provider=Providers.LANG_CHAIN, file_path=\"../regulations/CRSD_CELEX_32022L2464_EN_TXT.pdf\")\n",
    "documents = document_reader.read(is_directory=False)"
   ],
   "metadata": {
    "collapsed": false
   },
   "id": "e72915a0519bbbca",
   "outputs": [],
   "execution_count": null
  },
  {
   "cell_type": "code",
   "source": [
    "len(documents)"
   ],
   "metadata": {
    "collapsed": false
   },
   "id": "339ef8345d216897",
   "outputs": [],
   "execution_count": null
  },
  {
   "cell_type": "code",
   "source": [
    "documents[1].page_content"
   ],
   "metadata": {
    "collapsed": false
   },
   "id": "eb80c4eb4a5ac07f",
   "outputs": [],
   "execution_count": null
  },
  {
   "cell_type": "code",
   "source": [
    "# calculate number of tokens in the regulation, and avg number fo tokens per page\n",
    "import tiktoken\n",
    "\n",
    "token_encoding = tiktoken.get_encoding(\"cl100k_base\")\n",
    "\n",
    "def calculate_avg_tokens_per_page(documents):\n",
    "    total_tokens = 0\n",
    "    total_pages = 0\n",
    "    for doc in documents:\n",
    "        total_tokens += len(token_encoding.encode(doc.page_content))\n",
    "        total_pages += 1\n",
    "    return total_tokens / total_pages\n",
    "\n",
    "def calculate_total_document_tokens(documents):\n",
    "    total_tokens = 0\n",
    "    for doc in documents:\n",
    "        total_tokens += len(token_encoding.encode(doc.page_content))\n",
    "    return total_tokens"
   ],
   "metadata": {
    "collapsed": false
   },
   "id": "42dcdbaf648e3140",
   "outputs": [],
   "execution_count": null
  },
  {
   "cell_type": "code",
   "source": [
    "print(f'avg tokens per page is {calculate_avg_tokens_per_page(documents)}')\n",
    "print(f'total tokens in document is {calculate_total_document_tokens(documents)}')"
   ],
   "metadata": {
    "collapsed": false
   },
   "id": "da7c222b874c0132",
   "outputs": [],
   "execution_count": null
  },
  {
   "cell_type": "code",
   "source": [
    "from langchain.chat_models import AzureChatOpenAI\n",
    "from langchain.evaluation.qa import QAGenerateChain\n",
    "\n",
    "chatOpenAI = AzureChatOpenAI(\n",
    "    temperature=0.0,\n",
    "    deployment_name=config.azure_gpt4_deployment_name,\n",
    "    openai_api_base=openai.api_base,\n",
    "    openai_api_version=openai.api_version,\n",
    ")"
   ],
   "metadata": {
    "collapsed": false
   },
   "id": "f0a0952c1b9ce25c",
   "outputs": [],
   "execution_count": null
  },
  {
   "cell_type": "code",
   "source": [
    "qa_prompt = \"\"\"You are a legal expert and a teacher coming up with one question to ask on a quiz about ESG and CSR regulations. \\\n",
    "\\nGiven the following document, please generate a question and answer based on that document. \\\n",
    "\\n The answer must be composed of an exact excerpt from the document. \\\n",
    "\\n\\nExample Format: \\\n",
    "\\n<Begin Document>\\n...\\n<End Document> \\\n",
    "\\nQUESTION: question here \\\n",
    "\\nANSWER: answer here \\\n",
    "\\n\\nThese question should be detailed and be based explicitly on information in the document. Begin! \\\n",
    "\\n\\n<Begin Document>\\n{doc}\\n<End Document>\"\"\""
   ],
   "metadata": {
    "collapsed": false
   },
   "id": "834cbf9ada6748fd",
   "outputs": [],
   "execution_count": null
  },
  {
   "cell_type": "code",
   "source": [
    "qa_prompt_multi = \"\"\"You are a legal expert and a teacher coming up with questions to ask on a quiz about ESG and CSR regulations. \\\n",
    "\\nGiven the following document, please generate {num_questions} questions and corresponding answers based on that document. \\\n",
    "\\nGenerate only short questions without compound sentences. Generate a variety of questions that cover different aspects about the document. \\\n",
    "\\n Here are some topic ideas for the questions: \n",
    "    1. requirements for compliance\n",
    "    2. penalties for non-compliance\n",
    "    3. applicability of the regulation\n",
    "\\nMake sure they are complete questions, and that they can be answered by extracting excerpts from the document. \\\n",
    "\\nEach answer must be composed of an exact excerpt from the document. \\\n",
    "\\nGive the questions and answers in a json format.\n",
    "\\n\\nExample Format: \\\n",
    "\\n<Begin Document>\\n...\\n<End Document> \\\n",
    "\\nRESULTS:\n",
    "\\n<begin json>...<end json>\n",
    "\\n\\nThese questions should be detailed and be based explicitly on information in the document. Begin! \\\n",
    "\\n\\n<Begin Document>\\n{doc}\\n<End Document>\"\"\""
   ],
   "metadata": {
    "collapsed": false
   },
   "id": "f648f03e46be4c77",
   "outputs": [],
   "execution_count": null
  },
  {
   "cell_type": "code",
   "source": "# qa_gen_chain = QAGenerateChain.from_string(chatOpenAI, qa_prompt_multi)",
   "metadata": {
    "collapsed": false
   },
   "id": "8c4d1aa7accde123",
   "outputs": [],
   "execution_count": null
  },
  {
   "metadata": {},
   "cell_type": "code",
   "source": [
    "from langchain_core.output_parsers import StrOutputParser\n",
    "\n",
    "qa_gen_chain = QAGenerateChain.from_string(chatOpenAI, qa_prompt_multi)\n",
    "qa_gen_chain.output_parser = StrOutputParser()"
   ],
   "id": "f1d9dff7bfee0f84",
   "outputs": [],
   "execution_count": null
  },
  {
   "cell_type": "code",
   "source": [
    "for key in qa_gen_chain.prompt.__dict__:\n",
    "    print(f'{key}')"
   ],
   "metadata": {
    "collapsed": false
   },
   "id": "2694a6103ebb508e",
   "outputs": [],
   "execution_count": null
  },
  {
   "cell_type": "code",
   "source": [
    "qa_gen_chain.prompt"
   ],
   "metadata": {
    "collapsed": false
   },
   "id": "9270909a7c6c1713",
   "outputs": [],
   "execution_count": null
  },
  {
   "cell_type": "code",
   "source": [
    "num_questions = 3"
   ],
   "metadata": {
    "collapsed": false
   },
   "id": "870a9c0a507f0b51",
   "outputs": [],
   "execution_count": null
  },
  {
   "cell_type": "code",
   "source": [
    "len(documents[1:2])"
   ],
   "metadata": {
    "collapsed": false
   },
   "id": "9b777c0fc462c156",
   "outputs": [],
   "execution_count": null
  },
  {
   "metadata": {},
   "cell_type": "code",
   "source": [
    "# generated_qas = qa_gen_chain.apply_and_parse(\n",
    "#     [{\"doc\": t, \"num_questions\": num_questions} for t in documents[0:10]]\n",
    "# )\n",
    "\n",
    "generated_qas = [\n",
    "    qa_gen_chain.invoke({\"doc\": t, \"num_questions\": num_questions})\n",
    "    for t in documents[0:10]\n",
    "]"
   ],
   "id": "73867f6357a8ef77",
   "outputs": [],
   "execution_count": null
  },
  {
   "cell_type": "code",
   "source": [
    "generated_qas"
   ],
   "metadata": {
    "collapsed": false
   },
   "id": "126b90b37ddf79a3",
   "outputs": [],
   "execution_count": null
  },
  {
   "cell_type": "code",
   "source": [
    "documents[1].page_content"
   ],
   "metadata": {
    "collapsed": false
   },
   "id": "a6862780d6605f4b",
   "outputs": [],
   "execution_count": null
  }
 ],
 "metadata": {
  "kernelspec": {
   "display_name": "Python 3",
   "language": "python",
   "name": "python3"
  },
  "language_info": {
   "codemirror_mode": {
    "name": "ipython",
    "version": 2
   },
   "file_extension": ".py",
   "mimetype": "text/x-python",
   "name": "python",
   "nbconvert_exporter": "python",
   "pygments_lexer": "ipython2",
   "version": "2.7.6"
  }
 },
 "nbformat": 4,
 "nbformat_minor": 5
}
