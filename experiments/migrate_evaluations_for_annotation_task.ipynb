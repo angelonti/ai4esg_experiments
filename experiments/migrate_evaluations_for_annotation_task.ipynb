{
 "cells": [
  {
   "cell_type": "code",
   "id": "initial_id",
   "metadata": {
    "collapsed": true,
    "ExecuteTime": {
     "end_time": "2024-05-15T15:34:03.426611Z",
     "start_time": "2024-05-15T15:34:03.408401Z"
    }
   },
   "source": [
    "import sys\n",
    "sys.path.append('../backend')"
   ],
   "outputs": [],
   "execution_count": 10
  },
  {
   "metadata": {
    "ExecuteTime": {
     "end_time": "2024-05-15T15:34:03.962945Z",
     "start_time": "2024-05-15T15:34:03.951686Z"
    }
   },
   "cell_type": "code",
   "source": [
    "from modules.evaluation_result.schemas import EvaluationResult\n",
    "from modules.annotations.schemas import AnnotationTaskCreate\n",
    "from modules.annotations.service import crete_annotation_task\n",
    "from modules.evaluation_result.service import get as get_evaluation_result\n",
    "\n",
    "\n",
    "def migrate_evaluation_result_to_annotation_task(evaluation_result_ids: list[str], annotator_schedule: list[list[int]]):\n",
    "    task_id = 0\n",
    "    for i, evaluation_result_id in enumerate(evaluation_result_ids):\n",
    "        evaluation_result: EvaluationResult = get_evaluation_result(evaluation_result_id)\n",
    "        evaluation_data: list = evaluation_result.evaluation.get('data')\n",
    "        if not evaluation_data:\n",
    "            raise Exception('Evaluation data not found')\n",
    "        annotator_numbers = annotator_schedule[i]\n",
    "        for item in evaluation_data:\n",
    "            task_id += 1\n",
    "            for annotator_number in annotator_numbers:\n",
    "                \n",
    "                create = AnnotationTaskCreate(\n",
    "                    annotator_number = annotator_number,\n",
    "                    task_number=task_id,\n",
    "                    data=item,\n",
    "                    finished=False,            \n",
    "                )\n",
    "                crete_annotation_task(create)  \n",
    "        "
   ],
   "id": "18695e8ff3345821",
   "outputs": [],
   "execution_count": 11
  },
  {
   "metadata": {
    "ExecuteTime": {
     "end_time": "2024-05-15T15:34:05.892345Z",
     "start_time": "2024-05-15T15:34:05.422038Z"
    }
   },
   "cell_type": "code",
   "source": [
    "evaluation_result_ids = [\n",
    "    'd12eb5b1-7934-4fc1-b730-b6ab67f290a1',\n",
    "    '55e595db-0a1e-423c-8f64-ccc2c7c6fefb',\n",
    "    '275f2ad5-4c6c-4b67-9753-4878a4a78794'\n",
    "]\n",
    "\n",
    "annotator_schedule = [\n",
    "    [1, 2],\n",
    "    [2, 3],\n",
    "    [3, 1]\n",
    "]\n",
    "\n",
    "\n",
    "migrate_evaluation_result_to_annotation_task(evaluation_result_ids, annotator_schedule)"
   ],
   "id": "2f7c7d8e24c19412",
   "outputs": [],
   "execution_count": 12
  },
  {
   "metadata": {},
   "cell_type": "code",
   "outputs": [],
   "execution_count": null,
   "source": "",
   "id": "8f331fc80ac844d4"
  }
 ],
 "metadata": {
  "kernelspec": {
   "display_name": "Python 3",
   "language": "python",
   "name": "python3"
  },
  "language_info": {
   "codemirror_mode": {
    "name": "ipython",
    "version": 2
   },
   "file_extension": ".py",
   "mimetype": "text/x-python",
   "name": "python",
   "nbconvert_exporter": "python",
   "pygments_lexer": "ipython2",
   "version": "2.7.6"
  }
 },
 "nbformat": 4,
 "nbformat_minor": 5
}
