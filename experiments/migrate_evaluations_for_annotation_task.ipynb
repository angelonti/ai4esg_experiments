{
 "cells": [
  {
   "cell_type": "code",
   "id": "initial_id",
   "metadata": {
    "collapsed": true,
    "ExecuteTime": {
     "end_time": "2024-05-16T13:13:05.142242Z",
     "start_time": "2024-05-16T13:13:05.137232Z"
    }
   },
   "source": [
    "import sys\n",
    "sys.path.append('../backend')"
   ],
   "outputs": [],
   "execution_count": 1
  },
  {
   "metadata": {
    "ExecuteTime": {
     "end_time": "2024-05-16T13:13:07.910274Z",
     "start_time": "2024-05-16T13:13:06.915141Z"
    }
   },
   "cell_type": "code",
   "source": [
    "from modules.evaluation_result.schemas import EvaluationResult\n",
    "from modules.annotations.schemas import AnnotationTaskCreate\n",
    "from modules.annotations.service import create_annotation_task\n",
    "from modules.evaluation_result.service import get as get_evaluation_result\n",
    "\n",
    "\n",
    "def migrate_evaluation_result_to_annotation_task(evaluation_result_ids: list[str], annotator_schedule: list[list[int]]):\n",
    "    task_id = 0\n",
    "    for i, evaluation_result_id in enumerate(evaluation_result_ids):\n",
    "        evaluation_result: EvaluationResult = get_evaluation_result(evaluation_result_id)\n",
    "        evaluation_data: list = evaluation_result.evaluation.get('data')\n",
    "        if not evaluation_data:\n",
    "            raise Exception('Evaluation data not found')\n",
    "        annotator_numbers = annotator_schedule[i]\n",
    "        for item in evaluation_data:\n",
    "            task_id += 1\n",
    "            for annotator_number in annotator_numbers:\n",
    "                \n",
    "                create = AnnotationTaskCreate(\n",
    "                    annotator_number = annotator_number,\n",
    "                    task_number=task_id,\n",
    "                    data=item,\n",
    "                    finished=False,            \n",
    "                )\n",
    "                create_annotation_task(create)  \n",
    "        "
   ],
   "id": "18695e8ff3345821",
   "outputs": [
    {
     "name": "stdout",
     "output_type": "stream",
     "text": [
      "connecting to database:  localhost 5432 ai4esg\n"
     ]
    }
   ],
   "execution_count": 2
  },
  {
   "metadata": {
    "ExecuteTime": {
     "end_time": "2024-05-16T13:15:34.486946Z",
     "start_time": "2024-05-16T13:15:34.350910Z"
    }
   },
   "cell_type": "code",
   "source": [
    "evaluation_result_ids = [\n",
    "    #'6e4bd093-6d9a-48d0-9f25-ded594e32718',\n",
    "    #'3b3e32d1-d46f-4738-a27a-cdeace6b0f3b',\n",
    "    'df89e10d-86ec-49a0-8c77-07b539c1b7a1'\n",
    "]\n",
    "\n",
    "annotator_schedule = [\n",
    "    #[1, 2],\n",
    "    #[2, 3],\n",
    "    #[3, 1]\n",
    "    [4]\n",
    "]\n",
    "\n",
    "\n",
    "migrate_evaluation_result_to_annotation_task(evaluation_result_ids, annotator_schedule)"
   ],
   "id": "2f7c7d8e24c19412",
   "outputs": [],
   "execution_count": 5
  },
  {
   "metadata": {},
   "cell_type": "code",
   "outputs": [],
   "execution_count": null,
   "source": "",
   "id": "8f331fc80ac844d4"
  }
 ],
 "metadata": {
  "kernelspec": {
   "display_name": "Python 3",
   "language": "python",
   "name": "python3"
  },
  "language_info": {
   "codemirror_mode": {
    "name": "ipython",
    "version": 2
   },
   "file_extension": ".py",
   "mimetype": "text/x-python",
   "name": "python",
   "nbconvert_exporter": "python",
   "pygments_lexer": "ipython2",
   "version": "2.7.6"
  }
 },
 "nbformat": 4,
 "nbformat_minor": 5
}
